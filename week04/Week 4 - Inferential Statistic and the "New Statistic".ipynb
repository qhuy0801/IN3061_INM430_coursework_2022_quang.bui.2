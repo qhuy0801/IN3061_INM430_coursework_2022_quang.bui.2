{
 "cells": [
  {
   "cell_type": "markdown",
   "id": "d9c44216",
   "metadata": {},
   "source": [
    "# Inferential Statistic and the\"New Statistic\""
   ]
  },
  {
   "cell_type": "code",
   "execution_count": 1,
   "id": "615ae280",
   "metadata": {},
   "outputs": [],
   "source": [
    "import pandas as pd\n",
    "import numpy as np\n",
    "import statsmodels.api as sm\n",
    "import scipy.stats as stats\n",
    "import matplotlib.pyplot as plt"
   ]
  },
  {
   "cell_type": "markdown",
   "id": "14a565c2",
   "metadata": {},
   "source": [
    "## Significance testing\n",
    "Here, we will experiment with significance testing (how likely the effect observed in the sample exists in the population) and quantifying the effect sizes. We will work with some [Heart Disease data](https://moodle.city.ac.uk/pluginfile.php/2782674/mod_page/content/46/heart.csv) from US that came from [Kaggle](https://www.kaggle.com/ronitf/heart-disease-uci?select=heart.csv) (see website for descriptions of the columns).\n",
    "\n",
    "The `sex` column has a `0` for female and `1` for male. The target column indicated if the patient has heart disease and where (confusingly) `0` is for those with heart disease\n",
    "\n",
    "### Preparation\n",
    "1. Load the data into a pandas dataframe and create additional columns. Create `gender` and `hasHeartDisease` columns with the correct values (as above) to make it easier to read."
   ]
  },
  {
   "cell_type": "code",
   "execution_count": 2,
   "id": "5cf63c16",
   "metadata": {},
   "outputs": [
    {
     "data": {
      "text/html": [
       "<div>\n",
       "<style scoped>\n",
       "    .dataframe tbody tr th:only-of-type {\n",
       "        vertical-align: middle;\n",
       "    }\n",
       "\n",
       "    .dataframe tbody tr th {\n",
       "        vertical-align: top;\n",
       "    }\n",
       "\n",
       "    .dataframe thead th {\n",
       "        text-align: right;\n",
       "    }\n",
       "</style>\n",
       "<table border=\"1\" class=\"dataframe\">\n",
       "  <thead>\n",
       "    <tr style=\"text-align: right;\">\n",
       "      <th></th>\n",
       "      <th>age</th>\n",
       "      <th>sex</th>\n",
       "      <th>cp</th>\n",
       "      <th>trestbps</th>\n",
       "      <th>chol</th>\n",
       "      <th>fbs</th>\n",
       "      <th>restecg</th>\n",
       "      <th>thalach</th>\n",
       "      <th>exang</th>\n",
       "      <th>oldpeak</th>\n",
       "      <th>slope</th>\n",
       "      <th>ca</th>\n",
       "      <th>thal</th>\n",
       "      <th>target</th>\n",
       "      <th>gender</th>\n",
       "      <th>hasDisease</th>\n",
       "    </tr>\n",
       "  </thead>\n",
       "  <tbody>\n",
       "    <tr>\n",
       "      <th>0</th>\n",
       "      <td>63</td>\n",
       "      <td>1</td>\n",
       "      <td>3</td>\n",
       "      <td>145</td>\n",
       "      <td>233</td>\n",
       "      <td>1</td>\n",
       "      <td>0</td>\n",
       "      <td>150</td>\n",
       "      <td>0</td>\n",
       "      <td>2.3</td>\n",
       "      <td>0</td>\n",
       "      <td>0</td>\n",
       "      <td>1</td>\n",
       "      <td>1</td>\n",
       "      <td>Male</td>\n",
       "      <td>False</td>\n",
       "    </tr>\n",
       "    <tr>\n",
       "      <th>1</th>\n",
       "      <td>37</td>\n",
       "      <td>1</td>\n",
       "      <td>2</td>\n",
       "      <td>130</td>\n",
       "      <td>250</td>\n",
       "      <td>0</td>\n",
       "      <td>1</td>\n",
       "      <td>187</td>\n",
       "      <td>0</td>\n",
       "      <td>3.5</td>\n",
       "      <td>0</td>\n",
       "      <td>0</td>\n",
       "      <td>2</td>\n",
       "      <td>1</td>\n",
       "      <td>Male</td>\n",
       "      <td>False</td>\n",
       "    </tr>\n",
       "    <tr>\n",
       "      <th>2</th>\n",
       "      <td>41</td>\n",
       "      <td>0</td>\n",
       "      <td>1</td>\n",
       "      <td>130</td>\n",
       "      <td>204</td>\n",
       "      <td>0</td>\n",
       "      <td>0</td>\n",
       "      <td>172</td>\n",
       "      <td>0</td>\n",
       "      <td>1.4</td>\n",
       "      <td>2</td>\n",
       "      <td>0</td>\n",
       "      <td>2</td>\n",
       "      <td>1</td>\n",
       "      <td>Female</td>\n",
       "      <td>False</td>\n",
       "    </tr>\n",
       "    <tr>\n",
       "      <th>3</th>\n",
       "      <td>56</td>\n",
       "      <td>1</td>\n",
       "      <td>1</td>\n",
       "      <td>120</td>\n",
       "      <td>236</td>\n",
       "      <td>0</td>\n",
       "      <td>1</td>\n",
       "      <td>178</td>\n",
       "      <td>0</td>\n",
       "      <td>0.8</td>\n",
       "      <td>2</td>\n",
       "      <td>0</td>\n",
       "      <td>2</td>\n",
       "      <td>1</td>\n",
       "      <td>Male</td>\n",
       "      <td>False</td>\n",
       "    </tr>\n",
       "    <tr>\n",
       "      <th>4</th>\n",
       "      <td>57</td>\n",
       "      <td>0</td>\n",
       "      <td>0</td>\n",
       "      <td>120</td>\n",
       "      <td>354</td>\n",
       "      <td>0</td>\n",
       "      <td>1</td>\n",
       "      <td>163</td>\n",
       "      <td>1</td>\n",
       "      <td>0.6</td>\n",
       "      <td>2</td>\n",
       "      <td>0</td>\n",
       "      <td>2</td>\n",
       "      <td>1</td>\n",
       "      <td>Female</td>\n",
       "      <td>False</td>\n",
       "    </tr>\n",
       "    <tr>\n",
       "      <th>...</th>\n",
       "      <td>...</td>\n",
       "      <td>...</td>\n",
       "      <td>...</td>\n",
       "      <td>...</td>\n",
       "      <td>...</td>\n",
       "      <td>...</td>\n",
       "      <td>...</td>\n",
       "      <td>...</td>\n",
       "      <td>...</td>\n",
       "      <td>...</td>\n",
       "      <td>...</td>\n",
       "      <td>...</td>\n",
       "      <td>...</td>\n",
       "      <td>...</td>\n",
       "      <td>...</td>\n",
       "      <td>...</td>\n",
       "    </tr>\n",
       "    <tr>\n",
       "      <th>298</th>\n",
       "      <td>57</td>\n",
       "      <td>0</td>\n",
       "      <td>0</td>\n",
       "      <td>140</td>\n",
       "      <td>241</td>\n",
       "      <td>0</td>\n",
       "      <td>1</td>\n",
       "      <td>123</td>\n",
       "      <td>1</td>\n",
       "      <td>0.2</td>\n",
       "      <td>1</td>\n",
       "      <td>0</td>\n",
       "      <td>3</td>\n",
       "      <td>0</td>\n",
       "      <td>Female</td>\n",
       "      <td>True</td>\n",
       "    </tr>\n",
       "    <tr>\n",
       "      <th>299</th>\n",
       "      <td>45</td>\n",
       "      <td>1</td>\n",
       "      <td>3</td>\n",
       "      <td>110</td>\n",
       "      <td>264</td>\n",
       "      <td>0</td>\n",
       "      <td>1</td>\n",
       "      <td>132</td>\n",
       "      <td>0</td>\n",
       "      <td>1.2</td>\n",
       "      <td>1</td>\n",
       "      <td>0</td>\n",
       "      <td>3</td>\n",
       "      <td>0</td>\n",
       "      <td>Male</td>\n",
       "      <td>True</td>\n",
       "    </tr>\n",
       "    <tr>\n",
       "      <th>300</th>\n",
       "      <td>68</td>\n",
       "      <td>1</td>\n",
       "      <td>0</td>\n",
       "      <td>144</td>\n",
       "      <td>193</td>\n",
       "      <td>1</td>\n",
       "      <td>1</td>\n",
       "      <td>141</td>\n",
       "      <td>0</td>\n",
       "      <td>3.4</td>\n",
       "      <td>1</td>\n",
       "      <td>2</td>\n",
       "      <td>3</td>\n",
       "      <td>0</td>\n",
       "      <td>Male</td>\n",
       "      <td>True</td>\n",
       "    </tr>\n",
       "    <tr>\n",
       "      <th>301</th>\n",
       "      <td>57</td>\n",
       "      <td>1</td>\n",
       "      <td>0</td>\n",
       "      <td>130</td>\n",
       "      <td>131</td>\n",
       "      <td>0</td>\n",
       "      <td>1</td>\n",
       "      <td>115</td>\n",
       "      <td>1</td>\n",
       "      <td>1.2</td>\n",
       "      <td>1</td>\n",
       "      <td>1</td>\n",
       "      <td>3</td>\n",
       "      <td>0</td>\n",
       "      <td>Male</td>\n",
       "      <td>True</td>\n",
       "    </tr>\n",
       "    <tr>\n",
       "      <th>302</th>\n",
       "      <td>57</td>\n",
       "      <td>0</td>\n",
       "      <td>1</td>\n",
       "      <td>130</td>\n",
       "      <td>236</td>\n",
       "      <td>0</td>\n",
       "      <td>0</td>\n",
       "      <td>174</td>\n",
       "      <td>0</td>\n",
       "      <td>0.0</td>\n",
       "      <td>1</td>\n",
       "      <td>1</td>\n",
       "      <td>2</td>\n",
       "      <td>0</td>\n",
       "      <td>Female</td>\n",
       "      <td>True</td>\n",
       "    </tr>\n",
       "  </tbody>\n",
       "</table>\n",
       "<p>303 rows × 16 columns</p>\n",
       "</div>"
      ],
      "text/plain": [
       "     age  sex  cp  trestbps  chol  fbs  restecg  thalach  exang  oldpeak  \\\n",
       "0     63    1   3       145   233    1        0      150      0      2.3   \n",
       "1     37    1   2       130   250    0        1      187      0      3.5   \n",
       "2     41    0   1       130   204    0        0      172      0      1.4   \n",
       "3     56    1   1       120   236    0        1      178      0      0.8   \n",
       "4     57    0   0       120   354    0        1      163      1      0.6   \n",
       "..   ...  ...  ..       ...   ...  ...      ...      ...    ...      ...   \n",
       "298   57    0   0       140   241    0        1      123      1      0.2   \n",
       "299   45    1   3       110   264    0        1      132      0      1.2   \n",
       "300   68    1   0       144   193    1        1      141      0      3.4   \n",
       "301   57    1   0       130   131    0        1      115      1      1.2   \n",
       "302   57    0   1       130   236    0        0      174      0      0.0   \n",
       "\n",
       "     slope  ca  thal  target  gender  hasDisease  \n",
       "0        0   0     1       1    Male       False  \n",
       "1        0   0     2       1    Male       False  \n",
       "2        2   0     2       1  Female       False  \n",
       "3        2   0     2       1    Male       False  \n",
       "4        2   0     2       1  Female       False  \n",
       "..     ...  ..   ...     ...     ...         ...  \n",
       "298      1   0     3       0  Female        True  \n",
       "299      1   0     3       0    Male        True  \n",
       "300      1   2     3       0    Male        True  \n",
       "301      1   1     3       0    Male        True  \n",
       "302      1   1     2       0  Female        True  \n",
       "\n",
       "[303 rows x 16 columns]"
      ]
     },
     "execution_count": 2,
     "metadata": {},
     "output_type": "execute_result"
    }
   ],
   "source": [
    "df = pd.read_csv('Heart.csv')\n",
    "\n",
    "# Gender and disease indicator dictionaries\n",
    "gender_dict = {1: \"Male\", 0: \"Female\"}\n",
    "indicator_dict = {1: False, 0: True}\n",
    "\n",
    "df['gender'] = df.sex.replace(gender_dict)\n",
    "df['hasDisease'] = df.target.replace(indicator_dict)\n",
    "df"
   ]
  },
  {
   "cell_type": "markdown",
   "id": "996d23ec",
   "metadata": {},
   "source": [
    "## Does the resting blood pressure (`trestbps`) differ between those with the disease and those without?\n",
    "1. Calculate the means and standard deviations. How do they compare between groups and by how much? If someone asked you whether they vary, what would you say? Discuss in your groups.\n",
    "2. Create boxplots and histograms to compare the means and distributions. Make sure you use the same scales on the axes. Tip: If using matplotlib, you might want to use `subplots(ncols=2,sharey=True)` to create two plots side-by-side with a shared y axis. Same question as above, do these value vary and by how much?\n",
    "3. Compare the means using `scipy.stats.ttest_ind()` function. What is the p-value telling you? Does this relate to the judgements you made above?\n",
    "4. Calculate Cohen's d. (Search for \"cohen's d\" on this page which gives the formula and also the formula for the pooled standard deviation which you also need. Note that it doesn't give the Python code directly - you may need to use `math.sqrt()` and `pow()`). Interpret this value and consider how it relates to your other interpretations (above).\n",
    "5. Try some other (quantitative) variables and compare between heart disease groups. You could also compare by gender but there's probably no good reason to.\n",
    "*Tip*: think about the different between statistical significance and effect size."
   ]
  },
  {
   "cell_type": "code",
   "execution_count": 3,
   "id": "34b436ab",
   "metadata": {},
   "outputs": [
    {
     "name": "stdout",
     "output_type": "stream",
     "text": [
      "Mean - with disease: 134.3985507246377\n",
      "Mean - without disease: 129.3030303030303\n",
      "SD - with disease: 18.72994396158135\n",
      "SD - without disease: 16.16961326687487\n"
     ]
    }
   ],
   "source": [
    "print(\"Mean - with disease:\",df[df.hasDisease==True].trestbps.mean())\n",
    "print(\"Mean - without disease:\",df[df.hasDisease==False].trestbps.mean())\n",
    "\n",
    "print(\"SD - with disease:\",df[df.hasDisease==True].trestbps.std())\n",
    "print(\"SD - without disease:\",df[df.hasDisease==False].trestbps.std())"
   ]
  },
  {
   "cell_type": "markdown",
   "id": "ced71b8c",
   "metadata": {},
   "source": [
    "Those with heart disease have a higher blood pressure on average, but also have a slightly higher variation. However, the difference do not seem to be large."
   ]
  },
  {
   "cell_type": "code",
   "execution_count": 4,
   "id": "2b463572",
   "metadata": {},
   "outputs": [
    {
     "data": {
      "image/png": "[encoded data removed]",
      "text/plain": [
       "<Figure size 432x288 with 2 Axes>"
      ]
     },
     "metadata": {
      "needs_background": "light"
     },
     "output_type": "display_data"
    },
    {
     "data": {
      "image/png": "[encoded data removed]",
      "text/plain": [
       "<Figure size 432x288 with 2 Axes>"
      ]
     },
     "metadata": {
      "needs_background": "light"
     },
     "output_type": "display_data"
    },
    {
     "data": {
      "image/png": "[encoded data removed]",
      "text/plain": [
       "<Figure size 432x288 with 1 Axes>"
      ]
     },
     "metadata": {
      "needs_background": "light"
     },
     "output_type": "display_data"
    }
   ],
   "source": [
    "# Creating subplots\n",
    "fig, (ax1, ax2) = plt.subplots(1, 2, sharey=True)\n",
    "ax1.boxplot(df[df.hasDisease==True].trestbps)\n",
    "ax1.set_title('Has disease')\n",
    "ax2.boxplot(df[df.hasDisease==False].trestbps)\n",
    "ax2.set_title('No disease')\n",
    "plt.show();\n",
    "\n",
    "# Creating histogram\n",
    "fig, (ax1, ax2) = plt.subplots(1, 2, sharex=True, sharey=True)\n",
    "ax1.hist(df[df.hasDisease==True].trestbps)\n",
    "ax1.set_title('Has disease')\n",
    "ax2.hist(df[df.hasDisease==False].trestbps)\n",
    "ax2.set_title('No disease')\n",
    "plt.show();\n",
    "\n",
    "# Over lapping histogram to check\n",
    "plt.hist(df[df.hasDisease==True].trestbps, bins=20, alpha=0.5)\n",
    "plt.hist(df[df.hasDisease==False].trestbps, bins=20, alpha=0.5)\n",
    "plt.show()"
   ]
  },
  {
   "cell_type": "markdown",
   "id": "d25fd671",
   "metadata": {},
   "source": [
    "It's perhaps even clearer that there's not a great deal of difference between these distributions. Note that we need to make sure they are on the same scale, using the sharex and sharey kwargs."
   ]
  },
  {
   "cell_type": "code",
   "execution_count": 6,
   "id": "97108c9b",
   "metadata": {},
   "outputs": [
    {
     "data": {
      "text/plain": [
       "Ttest_indResult(statistic=2.5083466038526687, pvalue=0.012710946533525032)"
      ]
     },
     "execution_count": 6,
     "metadata": {},
     "output_type": "execute_result"
    }
   ],
   "source": [
    "stats.ttest_ind(df[df.hasDisease==True].trestbps, df[df.hasDisease==False].trestbps, equal_var = False)"
   ]
  },
  {
   "cell_type": "markdown",
   "id": "50fe37fe",
   "metadata": {},
   "source": [
    "The p-value is at around 0.01, which is conventionally \"highly significant\". This indicates that the effect (difference) is large enough to suggest that it exists in the population (assuming this is a random sample from the population that the distribution is normal.\n",
    "\n",
    "But is this Kaggle datasets randomly drawn from the population? If not, even though it is significant, we've violated the assumption.\n",
    "\n",
    "Remember that this significance is whether the effect likely to be found in the population.\n",
    "\n",
    "Effect sizes are simple measure of the effect; e.g. the difference between the means. Now, let's calculate Cohen's d, which is a standardised version of this."
   ]
  },
  {
   "cell_type": "code",
   "execution_count": 7,
   "id": "5a3845e2",
   "metadata": {},
   "outputs": [
    {
     "name": "stdout",
     "output_type": "stream",
     "text": [
      "0.0016617554542342494\n"
     ]
    }
   ],
   "source": [
    "n1=df[df.hasDisease].trestbps.count()\n",
    "n2=df[df.hasDisease==False].trestbps.count()\n",
    "s1=df[df.hasDisease==False].trestbps.var()\n",
    "s2=df[df.hasDisease==False].trestbps.var()\n",
    "s = np.sqrt(((n1 - 1) * pow(s1,2) + (n2 - 1) * pow(s2,2) / (n1 + n2 - 2)))\n",
    "\n",
    "u1=df[df.hasDisease].trestbps.mean()\n",
    "u2=df[df.hasDisease==False].trestbps.mean()\n",
    "\n",
    "d = (u1 - u2) / s\n",
    "\n",
    "print(d)"
   ]
  },
  {
   "cell_type": "markdown",
   "id": "0b11d02e",
   "metadata": {},
   "source": [
    "Cohen's d conventionally can be interpreted as:\n",
    "- Small Effect Size: d=0.20\n",
    "- Medium Effect Size: d=0.50\n",
    "- Large Effect Size: d=0.80\n",
    "\n",
    "This is a minusule effect size, suggesting that it is *not* an important difference when compared to the variation in the data. But we suspected that and the boxplots suggested it."
   ]
  },
  {
   "cell_type": "markdown",
   "id": "d2fd4716",
   "metadata": {},
   "source": [
    "## Is the proportion of men and women who get heart disease the same?\n",
    "Calculate the proportion of men and women who have heart disease from the sample. To save you time, this code (is one of many ways that) will do it."
   ]
  },
  {
   "cell_type": "markdown",
   "id": "430645ff",
   "metadata": {},
   "source": [
    "1. Look at the numbers in the table. Does there appear to be a difference?\n",
    "2. We will use a Null Hypothesis Statistical Testing (NHST) to help determine whether this difference is likely to be present in the population. [Use the procedure outlined here](https://regenerativetoday.com/a-complete-guide-to-confidence-interval-and-calculation-in-python/) in the section labelled **\"CI for the Difference in Population Proportion\"**. I'd recommend you read the top part of the page too. What you'll be doing is:\n",
    "\n",
    "    - Calculate the male population proportion with heart disease.\n",
    "    - Calculate the standard error (estimate of standard deviation) for the male population proportion\n",
    "    - Calculate the difference in the standard error of male and female population with heart disease\n",
    "    - Use this standard error to calculate the difference in the population proportion of males and females with heart disease and construct the CI of the difference.\n",
    "    - Interpret the result. Since the null hypothesis is that there's no difference, if the CI of the difference in the population proportion of males and females with heart disease contains 0, then we accept the null hypothesis (and reject the alternative hypothesis) with 95% confidence.  \n",
    "    Note that the data are not quite the same (so values will be different) and columns have different names. Don't worry if you're not sure if the result is correct - we'll discuss next time.\n",
    "\n",
    "3. What is your answer to the question: Is the proportion of men and women who get heart disease the same? Reflect on the NHST approach for doing this."
   ]
  },
  {
   "cell_type": "code",
   "execution_count": 9,
   "id": "26b75fe5",
   "metadata": {},
   "outputs": [
    {
     "data": {
      "text/html": [
       "<div>\n",
       "<style scoped>\n",
       "    .dataframe tbody tr th:only-of-type {\n",
       "        vertical-align: middle;\n",
       "    }\n",
       "\n",
       "    .dataframe tbody tr th {\n",
       "        vertical-align: top;\n",
       "    }\n",
       "\n",
       "    .dataframe thead th {\n",
       "        text-align: right;\n",
       "    }\n",
       "</style>\n",
       "<table border=\"1\" class=\"dataframe\">\n",
       "  <thead>\n",
       "    <tr style=\"text-align: right;\">\n",
       "      <th></th>\n",
       "      <th>heartDiseaseCount</th>\n",
       "      <th>totalCount</th>\n",
       "      <th>propHeartDisease</th>\n",
       "    </tr>\n",
       "    <tr>\n",
       "      <th>gender</th>\n",
       "      <th></th>\n",
       "      <th></th>\n",
       "      <th></th>\n",
       "    </tr>\n",
       "  </thead>\n",
       "  <tbody>\n",
       "    <tr>\n",
       "      <th>Female</th>\n",
       "      <td>24</td>\n",
       "      <td>96</td>\n",
       "      <td>0.250000</td>\n",
       "    </tr>\n",
       "    <tr>\n",
       "      <th>Male</th>\n",
       "      <td>114</td>\n",
       "      <td>207</td>\n",
       "      <td>0.550725</td>\n",
       "    </tr>\n",
       "  </tbody>\n",
       "</table>\n",
       "</div>"
      ],
      "text/plain": [
       "        heartDiseaseCount  totalCount  propHeartDisease\n",
       "gender                                                 \n",
       "Female                 24          96          0.250000\n",
       "Male                  114         207          0.550725"
      ]
     },
     "execution_count": 9,
     "metadata": {},
     "output_type": "execute_result"
    }
   ],
   "source": [
    "#Count the number with the disease for each gender type\n",
    "hasDiseaseCount=df[df.hasDisease==True].groupby(\"gender\").count().hasDisease\n",
    "\n",
    "#Count the number of gender type\n",
    "totalCount=df.groupby(\"gender\").count()['hasDisease']\n",
    "\n",
    "#combine into a dataframe (both are indexed with gender, so will be matched) and specify the columns\n",
    "p=pd.concat([hasDiseaseCount, totalCount], axis=1)\n",
    "p.columns = [\"heartDiseaseCount\", \"totalCount\"]\n",
    "\n",
    "#create a new column and calculate the proportion\n",
    "p['propHeartDisease']=p[\"heartDiseaseCount\"]/p[\"totalCount\"]\n",
    "\n",
    "#print the results\n",
    "p"
   ]
  },
  {
   "cell_type": "markdown",
   "id": "6c68b43d",
   "metadata": {},
   "source": [
    "Calculate the standard error (see [webpage](https://regenerativetoday.com/a-complete-guide-to-confidence-interval-and-calculation-in-python/)). This is an estimate of the standard deviation of the sample distribution."
   ]
  },
  {
   "cell_type": "code",
   "execution_count": 12,
   "id": "34a6e47c",
   "metadata": {},
   "outputs": [
    {
     "data": {
      "text/plain": [
       "0.04419417382415922"
      ]
     },
     "execution_count": 12,
     "metadata": {},
     "output_type": "execute_result"
    }
   ],
   "source": [
    "p_fm = p.propHeartDisease.Female\n",
    "n_fm = p.totalCount.Female\n",
    "se_fm = np.sqrt(p_fm * (1 - p_fm) / n_fm)\n",
    "se_fm"
   ]
  },
  {
   "cell_type": "markdown",
   "id": "2b4090cb",
   "metadata": {},
   "source": [
    "Now calculate the **95% confidence interval**. This is the range within which you'd expect the true proportion to be within 95% other equivalent random samples. The [webpage](https://regenerativetoday.com/a-complete-guide-to-hypothesis-testing-and-examples-in-python/) shows how you can calculate it and also shows how we can use scipy's `proportion_confint()` function which gives the same result)."
   ]
  },
  {
   "cell_type": "code",
   "execution_count": 14,
   "id": "79081fc7",
   "metadata": {},
   "outputs": [
    {
     "name": "stdout",
     "output_type": "stream",
     "text": [
      "0.16337941930464794\n",
      "0.33662058069535206\n",
      "(0.1633810109781451, 0.3366189890218549)\n"
     ]
    }
   ],
   "source": [
    "z_score = 1.96\n",
    "lcb = p_fm - z_score * se_fm # Lower limit of the CI\n",
    "ucb = p_fm + z_score * se_fm # Upper limit of the CI\n",
    "print(lcb)\n",
    "print(ucb)\n",
    "print(sm.stats.proportion_confint(n_fm * p_fm, n_fm))"
   ]
  },
  {
   "cell_type": "markdown",
   "id": "615a7e2d",
   "metadata": {},
   "source": [
    "So the mean proportion of heart disease for females is 0.25 and we are 95% confident that the true mean (of the population) is between 0.16 and 0.33."
   ]
  },
  {
   "cell_type": "markdown",
   "id": "89dc98c6",
   "metadata": {},
   "source": [
    "Now let's do the same for males."
   ]
  },
  {
   "cell_type": "code",
   "execution_count": 15,
   "id": "8081d53a",
   "metadata": {},
   "outputs": [
    {
     "name": "stdout",
     "output_type": "stream",
     "text": [
      "0.0345731047302169\n"
     ]
    }
   ],
   "source": [
    "p_male = p.propHeartDisease.Male\n",
    "n_male = p.totalCount.Male\n",
    "se_male = np.sqrt(p_male * (1 - p_male) / n_male)\n",
    "print(se_male)"
   ]
  },
  {
   "cell_type": "code",
   "execution_count": 17,
   "id": "5743b855",
   "metadata": {},
   "outputs": [
    {
     "data": {
      "text/plain": [
       "0.05611082400648334"
      ]
     },
     "execution_count": 17,
     "metadata": {},
     "output_type": "execute_result"
    }
   ],
   "source": [
    "se_diff = np.sqrt(se_fm**2 + se_male**2)\n",
    "se_diff"
   ]
  },
  {
   "cell_type": "code",
   "execution_count": 18,
   "id": "f4d3f611",
   "metadata": {},
   "outputs": [
    {
     "name": "stdout",
     "output_type": "stream",
     "text": [
      "[0.19074742262845207, 0.4107018527338668]\n"
     ]
    }
   ],
   "source": [
    "d = p_male-p_fm\n",
    "lcb = d - z_score * se_diff  #lower limit of the CI\n",
    "ucb = d + z_score * se_diff  #upper limit of the CI\n",
    "print([lcb,ucb])"
   ]
  },
  {
   "cell_type": "markdown",
   "id": "8de141e0",
   "metadata": {},
   "source": [
    "As explained, the CI does contain 0 (no difference), so we do not have enough evidence to conclude that there is no difference between the proportion of females and males with heart disease."
   ]
  }
 ],
 "metadata": {
  "kernelspec": {
   "display_name": "Python 3 (ipykernel)",
   "language": "python",
   "name": "python3"
  },
  "language_info": {
   "codemirror_mode": {
    "name": "ipython",
    "version": 3
   },
   "file_extension": ".py",
   "mimetype": "text/x-python",
   "name": "python",
   "nbconvert_exporter": "python",
   "pygments_lexer": "ipython3",
   "version": "3.7.13"
  }
 },
 "nbformat": 4,
 "nbformat_minor": 5
}
