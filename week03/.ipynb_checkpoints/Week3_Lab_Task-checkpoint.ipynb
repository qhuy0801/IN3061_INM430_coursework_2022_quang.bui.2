{
 "cells": [
  {
   "cell_type": "markdown",
   "id": "b217a31a",
   "metadata": {},
   "source": [
    "# DIY Exercises - 1 : Outliers"
   ]
  },
  {
   "cell_type": "code",
   "execution_count": 42,
   "id": "11ef55c2",
   "metadata": {},
   "outputs": [],
   "source": [
    "import statsmodels.api as sm\n",
    "import pandas as pd\n",
    "import math\n",
    "import numpy as np\n",
    "import matplotlib.pyplot as plt\n",
    "import scipy.stats as stats\n",
    "import seaborn as sns"
   ]
  },
  {
   "cell_type": "code",
   "execution_count": 2,
   "id": "83d45cc2",
   "metadata": {},
   "outputs": [
    {
     "data": {
      "text/html": [
       "<div>\n",
       "<style scoped>\n",
       "    .dataframe tbody tr th:only-of-type {\n",
       "        vertical-align: middle;\n",
       "    }\n",
       "\n",
       "    .dataframe tbody tr th {\n",
       "        vertical-align: top;\n",
       "    }\n",
       "\n",
       "    .dataframe thead th {\n",
       "        text-align: right;\n",
       "    }\n",
       "</style>\n",
       "<table border=\"1\" class=\"dataframe\">\n",
       "  <thead>\n",
       "    <tr style=\"text-align: right;\">\n",
       "      <th></th>\n",
       "      <th>price</th>\n",
       "      <th>mileage</th>\n",
       "      <th>year</th>\n",
       "      <th>trim</th>\n",
       "      <th>engine</th>\n",
       "      <th>transmission</th>\n",
       "    </tr>\n",
       "  </thead>\n",
       "  <tbody>\n",
       "    <tr>\n",
       "      <th>0</th>\n",
       "      <td>14995</td>\n",
       "      <td>67697</td>\n",
       "      <td>2006</td>\n",
       "      <td>ex</td>\n",
       "      <td>4 Cyl</td>\n",
       "      <td>Manual</td>\n",
       "    </tr>\n",
       "    <tr>\n",
       "      <th>1</th>\n",
       "      <td>11988</td>\n",
       "      <td>73738</td>\n",
       "      <td>2006</td>\n",
       "      <td>ex</td>\n",
       "      <td>4 Cyl</td>\n",
       "      <td>Manual</td>\n",
       "    </tr>\n",
       "    <tr>\n",
       "      <th>2</th>\n",
       "      <td>11999</td>\n",
       "      <td>80313</td>\n",
       "      <td>2006</td>\n",
       "      <td>lx</td>\n",
       "      <td>4 Cyl</td>\n",
       "      <td>Automatic</td>\n",
       "    </tr>\n",
       "    <tr>\n",
       "      <th>3</th>\n",
       "      <td>12995</td>\n",
       "      <td>86096</td>\n",
       "      <td>2006</td>\n",
       "      <td>lx</td>\n",
       "      <td>4 Cyl</td>\n",
       "      <td>Automatic</td>\n",
       "    </tr>\n",
       "    <tr>\n",
       "      <th>4</th>\n",
       "      <td>11333</td>\n",
       "      <td>79607</td>\n",
       "      <td>2006</td>\n",
       "      <td>lx</td>\n",
       "      <td>4 Cyl</td>\n",
       "      <td>Automatic</td>\n",
       "    </tr>\n",
       "  </tbody>\n",
       "</table>\n",
       "</div>"
      ],
      "text/plain": [
       "   price  mileage  year trim engine transmission\n",
       "0  14995    67697  2006   ex  4 Cyl       Manual\n",
       "1  11988    73738  2006   ex  4 Cyl       Manual\n",
       "2  11999    80313  2006   lx  4 Cyl    Automatic\n",
       "3  12995    86096  2006   lx  4 Cyl    Automatic\n",
       "4  11333    79607  2006   lx  4 Cyl    Automatic"
      ]
     },
     "execution_count": 2,
     "metadata": {},
     "output_type": "execute_result"
    }
   ],
   "source": [
    "df = pd.read_csv(\"accord_sedan.csv\", header = 0)\n",
    "df.head()"
   ]
  },
  {
   "cell_type": "code",
   "execution_count": 3,
   "id": "f07a8b81",
   "metadata": {},
   "outputs": [
    {
     "data": {
      "image/png": "[encoded data removed]",
      "text/plain": [
       "<Figure size 720x360 with 2 Axes>"
      ]
     },
     "metadata": {
      "needs_background": "light"
     },
     "output_type": "display_data"
    }
   ],
   "source": [
    "fig, (ax1, ax2) = plt.subplots(1, 2, figsize=(10,5))\n",
    "ax1.boxplot(df[\"price\"]);\n",
    "ax2.boxplot(df[\"mileage\"]);"
   ]
  },
  {
   "cell_type": "code",
   "execution_count": 4,
   "id": "44fd9358",
   "metadata": {},
   "outputs": [
    {
     "data": {
      "image/png": "[encoded data removed]",
      "text/plain": [
       "<Figure size 432x288 with 1 Axes>"
      ]
     },
     "metadata": {
      "needs_background": "light"
     },
     "output_type": "display_data"
    }
   ],
   "source": [
    "plt.scatter(df[\"price\"], df[\"mileage\"]);\n",
    "plt.xlabel(\"Price\");\n",
    "plt.ylabel(\"Mileage\");"
   ]
  },
  {
   "cell_type": "code",
   "execution_count": 5,
   "id": "81e90c89",
   "metadata": {},
   "outputs": [
    {
     "name": "stdout",
     "output_type": "stream",
     "text": [
      "12084.242206235012 89725.7793764988 2061.430033967955 25957.872270688917\n"
     ]
    }
   ],
   "source": [
    "meanPrice = df[\"price\"].mean()\n",
    "meanMileage = df[\"mileage\"].mean()\n",
    "stdPrice = df[\"price\"].std()\n",
    "stdMileage = df[\"mileage\"].std()\n",
    "print(meanPrice, meanMileage, stdPrice, stdMileage)"
   ]
  },
  {
   "cell_type": "code",
   "execution_count": 10,
   "id": "336bd479",
   "metadata": {},
   "outputs": [
    {
     "data": {
      "text/html": [
       "<div>\n",
       "<style scoped>\n",
       "    .dataframe tbody tr th:only-of-type {\n",
       "        vertical-align: middle;\n",
       "    }\n",
       "\n",
       "    .dataframe tbody tr th {\n",
       "        vertical-align: top;\n",
       "    }\n",
       "\n",
       "    .dataframe thead th {\n",
       "        text-align: right;\n",
       "    }\n",
       "</style>\n",
       "<table border=\"1\" class=\"dataframe\">\n",
       "  <thead>\n",
       "    <tr style=\"text-align: right;\">\n",
       "      <th></th>\n",
       "      <th>price</th>\n",
       "      <th>mileage</th>\n",
       "      <th>year</th>\n",
       "      <th>trim</th>\n",
       "      <th>engine</th>\n",
       "      <th>transmission</th>\n",
       "      <th>isOutlierPrice</th>\n",
       "      <th>isOutlierMilage</th>\n",
       "    </tr>\n",
       "  </thead>\n",
       "  <tbody>\n",
       "    <tr>\n",
       "      <th>270</th>\n",
       "      <td>18988</td>\n",
       "      <td>19160</td>\n",
       "      <td>2006</td>\n",
       "      <td>ex</td>\n",
       "      <td>4 Cyl</td>\n",
       "      <td>Automatic</td>\n",
       "      <td>1</td>\n",
       "      <td>0</td>\n",
       "    </tr>\n",
       "    <tr>\n",
       "      <th>379</th>\n",
       "      <td>18995</td>\n",
       "      <td>64570</td>\n",
       "      <td>2006</td>\n",
       "      <td>ex</td>\n",
       "      <td>6 Cyl</td>\n",
       "      <td>Automatic</td>\n",
       "      <td>1</td>\n",
       "      <td>0</td>\n",
       "    </tr>\n",
       "  </tbody>\n",
       "</table>\n",
       "</div>"
      ],
      "text/plain": [
       "     price  mileage  year trim engine transmission  isOutlierPrice  \\\n",
       "270  18988    19160  2006   ex  4 Cyl    Automatic               1   \n",
       "379  18995    64570  2006   ex  6 Cyl    Automatic               1   \n",
       "\n",
       "     isOutlierMilage  \n",
       "270                0  \n",
       "379                0  "
      ]
     },
     "execution_count": 10,
     "metadata": {},
     "output_type": "execute_result"
    }
   ],
   "source": [
    "df[\"isOutlierPrice\"] = np.where(((df[\"price\"] < meanPrice - 3 * stdPrice) | (df[\"price\"] > meanPrice + 3 * stdPrice)), 1, 0);\n",
    "df[\"isOutlierMilage\"] = np.where(((df[\"mileage\"] < meanMileage - 3 * stdMileage) | (df[\"mileage\"] > meanMileage +3 * stdMileage)), 1, 0);\n",
    "df_outliers = df.loc[(df[\"isOutlierPrice\"] == 1) | (df[\"isOutlierMilage\"] == 1)]\n",
    "df_outliers.head()"
   ]
  },
  {
   "cell_type": "code",
   "execution_count": 11,
   "id": "f26b3c23",
   "metadata": {},
   "outputs": [
    {
     "data": {
      "image/png": "[encoded data removed]",
      "text/plain": [
       "<Figure size 432x288 with 1 Axes>"
      ]
     },
     "metadata": {
      "needs_background": "light"
     },
     "output_type": "display_data"
    }
   ],
   "source": [
    "plt.scatter(df[\"price\"], df[\"mileage\"]);\n",
    "plt.scatter(df_outliers[\"price\"], df_outliers[\"mileage\"], color = \"r\")\n",
    "plt.xlabel(\"Price\");\n",
    "plt.ylabel(\"Mileage\");"
   ]
  },
  {
   "cell_type": "markdown",
   "id": "978df135",
   "metadata": {},
   "source": [
    "# DIY Exercises - 2 : Q-Q Plots"
   ]
  },
  {
   "cell_type": "code",
   "execution_count": 20,
   "id": "6afb2a67",
   "metadata": {},
   "outputs": [
    {
     "data": {
      "text/html": [
       "<div>\n",
       "<style scoped>\n",
       "    .dataframe tbody tr th:only-of-type {\n",
       "        vertical-align: middle;\n",
       "    }\n",
       "\n",
       "    .dataframe tbody tr th {\n",
       "        vertical-align: top;\n",
       "    }\n",
       "\n",
       "    .dataframe thead th {\n",
       "        text-align: right;\n",
       "    }\n",
       "</style>\n",
       "<table border=\"1\" class=\"dataframe\">\n",
       "  <thead>\n",
       "    <tr style=\"text-align: right;\">\n",
       "      <th></th>\n",
       "      <th>country</th>\n",
       "      <th>iso2</th>\n",
       "      <th>iso3</th>\n",
       "      <th>iso_numeric</th>\n",
       "      <th>g_whoregion</th>\n",
       "      <th>year</th>\n",
       "      <th>e_pop_num</th>\n",
       "      <th>e_prev_100k</th>\n",
       "      <th>e_prev_100k_lo</th>\n",
       "      <th>e_prev_100k_hi</th>\n",
       "      <th>...</th>\n",
       "      <th>e_inc_tbhiv_100k</th>\n",
       "      <th>e_inc_tbhiv_100k_lo</th>\n",
       "      <th>e_inc_tbhiv_100k_hi</th>\n",
       "      <th>e_inc_tbhiv_num</th>\n",
       "      <th>e_inc_tbhiv_num_lo</th>\n",
       "      <th>e_inc_tbhiv_num_hi</th>\n",
       "      <th>source_tbhiv</th>\n",
       "      <th>c_cdr</th>\n",
       "      <th>c_cdr_lo</th>\n",
       "      <th>c_cdr_hi</th>\n",
       "    </tr>\n",
       "  </thead>\n",
       "  <tbody>\n",
       "    <tr>\n",
       "      <th>0</th>\n",
       "      <td>Afghanistan</td>\n",
       "      <td>AF</td>\n",
       "      <td>AFG</td>\n",
       "      <td>4</td>\n",
       "      <td>EMR</td>\n",
       "      <td>1990</td>\n",
       "      <td>11731193</td>\n",
       "      <td>327.0</td>\n",
       "      <td>112.0</td>\n",
       "      <td>655.0</td>\n",
       "      <td>...</td>\n",
       "      <td>0.35</td>\n",
       "      <td>0.22</td>\n",
       "      <td>0.52</td>\n",
       "      <td>41.0</td>\n",
       "      <td>25.0</td>\n",
       "      <td>60.0</td>\n",
       "      <td>Model</td>\n",
       "      <td>20.0</td>\n",
       "      <td>13.0</td>\n",
       "      <td>32.0</td>\n",
       "    </tr>\n",
       "    <tr>\n",
       "      <th>1</th>\n",
       "      <td>Afghanistan</td>\n",
       "      <td>AF</td>\n",
       "      <td>AFG</td>\n",
       "      <td>4</td>\n",
       "      <td>EMR</td>\n",
       "      <td>1991</td>\n",
       "      <td>12612043</td>\n",
       "      <td>359.0</td>\n",
       "      <td>172.0</td>\n",
       "      <td>613.0</td>\n",
       "      <td>...</td>\n",
       "      <td>0.36</td>\n",
       "      <td>0.19</td>\n",
       "      <td>0.58</td>\n",
       "      <td>45.0</td>\n",
       "      <td>24.0</td>\n",
       "      <td>73.0</td>\n",
       "      <td>Model</td>\n",
       "      <td>97.0</td>\n",
       "      <td>77.0</td>\n",
       "      <td>120.0</td>\n",
       "    </tr>\n",
       "    <tr>\n",
       "      <th>2</th>\n",
       "      <td>Afghanistan</td>\n",
       "      <td>AF</td>\n",
       "      <td>AFG</td>\n",
       "      <td>4</td>\n",
       "      <td>EMR</td>\n",
       "      <td>1992</td>\n",
       "      <td>13811876</td>\n",
       "      <td>387.0</td>\n",
       "      <td>169.0</td>\n",
       "      <td>693.0</td>\n",
       "      <td>...</td>\n",
       "      <td>0.37</td>\n",
       "      <td>0.19</td>\n",
       "      <td>0.62</td>\n",
       "      <td>51.0</td>\n",
       "      <td>26.0</td>\n",
       "      <td>86.0</td>\n",
       "      <td>Model</td>\n",
       "      <td>0.0</td>\n",
       "      <td>0.0</td>\n",
       "      <td>0.0</td>\n",
       "    </tr>\n",
       "    <tr>\n",
       "      <th>3</th>\n",
       "      <td>Afghanistan</td>\n",
       "      <td>AF</td>\n",
       "      <td>AFG</td>\n",
       "      <td>4</td>\n",
       "      <td>EMR</td>\n",
       "      <td>1993</td>\n",
       "      <td>15175325</td>\n",
       "      <td>412.0</td>\n",
       "      <td>186.0</td>\n",
       "      <td>724.0</td>\n",
       "      <td>...</td>\n",
       "      <td>0.38</td>\n",
       "      <td>0.20</td>\n",
       "      <td>0.63</td>\n",
       "      <td>58.0</td>\n",
       "      <td>30.0</td>\n",
       "      <td>95.0</td>\n",
       "      <td>Model</td>\n",
       "      <td>0.0</td>\n",
       "      <td>0.0</td>\n",
       "      <td>0.0</td>\n",
       "    </tr>\n",
       "    <tr>\n",
       "      <th>4</th>\n",
       "      <td>Afghanistan</td>\n",
       "      <td>AF</td>\n",
       "      <td>AFG</td>\n",
       "      <td>4</td>\n",
       "      <td>EMR</td>\n",
       "      <td>1994</td>\n",
       "      <td>16485018</td>\n",
       "      <td>431.0</td>\n",
       "      <td>199.0</td>\n",
       "      <td>751.0</td>\n",
       "      <td>...</td>\n",
       "      <td>0.40</td>\n",
       "      <td>0.21</td>\n",
       "      <td>0.64</td>\n",
       "      <td>65.0</td>\n",
       "      <td>35.0</td>\n",
       "      <td>100.0</td>\n",
       "      <td>Model</td>\n",
       "      <td>0.0</td>\n",
       "      <td>0.0</td>\n",
       "      <td>0.0</td>\n",
       "    </tr>\n",
       "  </tbody>\n",
       "</table>\n",
       "<p>5 rows × 39 columns</p>\n",
       "</div>"
      ],
      "text/plain": [
       "       country iso2 iso3  iso_numeric g_whoregion  year  e_pop_num  \\\n",
       "0  Afghanistan   AF  AFG            4         EMR  1990   11731193   \n",
       "1  Afghanistan   AF  AFG            4         EMR  1991   12612043   \n",
       "2  Afghanistan   AF  AFG            4         EMR  1992   13811876   \n",
       "3  Afghanistan   AF  AFG            4         EMR  1993   15175325   \n",
       "4  Afghanistan   AF  AFG            4         EMR  1994   16485018   \n",
       "\n",
       "   e_prev_100k  e_prev_100k_lo  e_prev_100k_hi  ...  e_inc_tbhiv_100k  \\\n",
       "0        327.0           112.0           655.0  ...              0.35   \n",
       "1        359.0           172.0           613.0  ...              0.36   \n",
       "2        387.0           169.0           693.0  ...              0.37   \n",
       "3        412.0           186.0           724.0  ...              0.38   \n",
       "4        431.0           199.0           751.0  ...              0.40   \n",
       "\n",
       "   e_inc_tbhiv_100k_lo  e_inc_tbhiv_100k_hi  e_inc_tbhiv_num  \\\n",
       "0                 0.22                 0.52             41.0   \n",
       "1                 0.19                 0.58             45.0   \n",
       "2                 0.19                 0.62             51.0   \n",
       "3                 0.20                 0.63             58.0   \n",
       "4                 0.21                 0.64             65.0   \n",
       "\n",
       "   e_inc_tbhiv_num_lo  e_inc_tbhiv_num_hi  source_tbhiv  c_cdr  c_cdr_lo  \\\n",
       "0                25.0                60.0         Model   20.0      13.0   \n",
       "1                24.0                73.0         Model   97.0      77.0   \n",
       "2                26.0                86.0         Model    0.0       0.0   \n",
       "3                30.0                95.0         Model    0.0       0.0   \n",
       "4                35.0               100.0         Model    0.0       0.0   \n",
       "\n",
       "  c_cdr_hi  \n",
       "0     32.0  \n",
       "1    120.0  \n",
       "2      0.0  \n",
       "3      0.0  \n",
       "4      0.0  \n",
       "\n",
       "[5 rows x 39 columns]"
      ]
     },
     "execution_count": 20,
     "metadata": {},
     "output_type": "execute_result"
    }
   ],
   "source": [
    "df_2 = pd.read_csv(\"TB_burden_countries_2014-09-29.csv\", header = 0)\n",
    "df_2.fillna(\"0\", inplace = True)\n",
    "df_2_numeric = df_2.apply(pd.to_numeric, errors='ignore')\n",
    "df_2_numeric.head()"
   ]
  },
  {
   "cell_type": "code",
   "execution_count": 28,
   "id": "40686574",
   "metadata": {},
   "outputs": [
    {
     "data": {
      "image/png": "[encoded data removed]",
      "text/plain": [
       "<Figure size 432x288 with 1 Axes>"
      ]
     },
     "metadata": {
      "needs_background": "light"
     },
     "output_type": "display_data"
    }
   ],
   "source": [
    "fig = sm.qqplot(df_2_numeric[\"e_inc_tbhiv_100k_lo\"], line = \"s\")\n",
    "plt.show()"
   ]
  },
  {
   "cell_type": "markdown",
   "id": "4f0fc76f",
   "metadata": {},
   "source": [
    "# DIY Exercises - 3 : Distributions & Sampling & Robust Statistics"
   ]
  },
  {
   "cell_type": "code",
   "execution_count": 34,
   "id": "f65ca451",
   "metadata": {},
   "outputs": [],
   "source": [
    "sample_5 = np.random.normal(size = 5)\n",
    "sample_10 = np.random.normal(loc = 1, scale = 2,size = 10)\n",
    "sample_100 = np.random.normal(loc = -2, scale = 5,size = 100)"
   ]
  },
  {
   "cell_type": "code",
   "execution_count": 41,
   "id": "912cbbea",
   "metadata": {},
   "outputs": [
    {
     "name": "stdout",
     "output_type": "stream",
     "text": [
      "0.31938367796747313 0.34152956129159245 1.4911156910944736 0.23781700518496995\n",
      "0.6418693249507413 2.055993026076531 0.8288530704487203 -0.17017888876066678\n",
      "-2.7792794019023206 4.804425119238546 0.18275711210936704 -0.27989499612835056\n"
     ]
    }
   ],
   "source": [
    "print(sample_5.mean(), np.std(sample_5), stats.skew(sample_5), stats.kurtosis(sample_5))\n",
    "print(sample_10.mean(), np.std(sample_10), stats.skew(sample_10), stats.kurtosis(sample_10))\n",
    "print(sample_100.mean(), np.std(sample_100), stats.skew(sample_100), stats.kurtosis(sample_100))"
   ]
  },
  {
   "cell_type": "code",
   "execution_count": 45,
   "id": "4ca0b1ca",
   "metadata": {},
   "outputs": [
    {
     "data": {
      "text/plain": [
       "<seaborn.axisgrid.FacetGrid at 0x7fee1d313b50>"
      ]
     },
     "execution_count": 45,
     "metadata": {},
     "output_type": "execute_result"
    },
    {
     "data": {
      "image/png": "[encoded data removed]",
      "text/plain": [
       "<Figure size 360x360 with 1 Axes>"
      ]
     },
     "metadata": {
      "needs_background": "light"
     },
     "output_type": "display_data"
    }
   ],
   "source": [
    "sns.displot(data=sample_100, kind='hist', bins=50, stat='density')"
   ]
  }
 ],
 "metadata": {
  "kernelspec": {
   "display_name": "Python 3 (ipykernel)",
   "language": "python",
   "name": "python3"
  },
  "language_info": {
   "codemirror_mode": {
    "name": "ipython",
    "version": 3
   },
   "file_extension": ".py",
   "mimetype": "text/x-python",
   "name": "python",
   "nbconvert_exporter": "python",
   "pygments_lexer": "ipython3",
   "version": "3.7.13"
  }
 },
 "nbformat": 4,
 "nbformat_minor": 5
}
