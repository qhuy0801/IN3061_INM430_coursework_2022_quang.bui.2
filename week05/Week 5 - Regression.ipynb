{
 "cells": [
  {
   "cell_type": "code",
   "execution_count": 1,
   "id": "6c7feead",
   "metadata": {},
   "outputs": [],
   "source": [
    "import pandas as pd\n",
    "import matplotlib.pyplot as plt\n",
    "from sklearn.linear_model import LinearRegression\n",
    "import numpy as np\n",
    "import seaborn as sns\n",
    "import scipy.stats as stats\n",
    "import statsmodels.api as sm\n",
    "from sklearn.model_selection import train_test_split\n",
    "from sklearn.linear_model import LogisticRegression\n",
    "from sklearn.metrics import classification_report\n",
    "from sklearn.metrics import confusion_matrix"
   ]
  },
  {
   "cell_type": "markdown",
   "id": "76b4cbb1",
   "metadata": {},
   "source": [
    "# Exercise 1: Linear regression to analyse relationships between house prices and other variables\n",
    "We will use regression to explore a house prices dataset. Note that we're not doing prediction (for the sake of it), we're using it to help us analyse data."
   ]
  },
  {
   "cell_type": "markdown",
   "id": "7cf2d307",
   "metadata": {},
   "source": [
    "## Simple Linear Regression\n",
    "We will use regression to help determine if there is a relationship between floor area and price and how much of the variation in price is due to floor area.\n",
    "\n",
    "1. **Get the data**. Download [train.csv](https://staff.city.ac.uk/~sbbb717/moodle/2020-2021/inm430/session05/train.csv) training houseprice data (which came from [Kaggle](https://www.kaggle.com/c/house-prices-advanced-regression-techniques/data)) and load into a Pandas data frame.\n",
    "2. **Find your variables**. Look at the data and check the [documentation](https://www.kaggle.com/c/house-prices-advanced-regression-techniques/data) to identify a column that indicates price and one that indicates area. `GrLivArea` and `SalePrice` are good ones to use.\n",
    "3. **Check out your variables**. Create a scatterplot to see if there's appears to be a relationship between these two variables. Tips: Use transparency and zoom in on the details by removing the outliers from the scatterplot using a Pandas filter, setting the scale of the axes or using an interactive plot. Does there appear to be a relationship? Also, plot the distributions (histgrams and/or box plots).\n",
    "4. **Build a simple linear regression model**. Assuming you think there's a relationship (there is!), build a regression model that predicts price from floor area in order to see how the variation in price can be explained by floor area. Use the [SciKit-Learn's example](https://scikit-learn.org/stable/auto_examples/linear_model/plot_ols.html). Determine your independent variable (x) and dependent variable (y), create a new linear model object and use its [fit()](https://scikit-learn.org/stable/modules/generated/sklearn.linear_model.LinearRegression.html#sklearn.linear_model.LinearRegression.fit) function to fit the model and extract the two parameters (intersept and slope). Interpret these - what do they tell you about the relationship between floor area and price? Tip, `fit()` needs a list of 1 independent variable - you can use double square brackets like this: `dataframe[['VARNAME']]`\n",
    "5. **Quantify the variation in price due to floor area**. Use the `score()` function to get the R2 value. How much of the variation is explained by floor area?\n",
    "6. **Predict price from floor area using this model and compare with observed**. Add a new column of predicted prices using LinearRegression's `predict()` function. Plot a scatterplot with the floorspace vs price and floorspace vs predicted price on the same axis with different coloured dots. How's the model look?\n",
    "7. **Calculate residuals**. Add a new column of residuals (observed minus predicted values). Look at the means and distributions and comment on the effect size - does it predict within a reasonable margin?"
   ]
  },
  {
   "cell_type": "code",
   "execution_count": 23,
   "id": "ccd00cff",
   "metadata": {},
   "outputs": [
    {
     "data": {
      "text/html": [
       "<div>\n",
       "<style scoped>\n",
       "    .dataframe tbody tr th:only-of-type {\n",
       "        vertical-align: middle;\n",
       "    }\n",
       "\n",
       "    .dataframe tbody tr th {\n",
       "        vertical-align: top;\n",
       "    }\n",
       "\n",
       "    .dataframe thead th {\n",
       "        text-align: right;\n",
       "    }\n",
       "</style>\n",
       "<table border=\"1\" class=\"dataframe\">\n",
       "  <thead>\n",
       "    <tr style=\"text-align: right;\">\n",
       "      <th></th>\n",
       "      <th>Id</th>\n",
       "      <th>MSSubClass</th>\n",
       "      <th>MSZoning</th>\n",
       "      <th>LotFrontage</th>\n",
       "      <th>LotArea</th>\n",
       "      <th>Street</th>\n",
       "      <th>Alley</th>\n",
       "      <th>LotShape</th>\n",
       "      <th>LandContour</th>\n",
       "      <th>Utilities</th>\n",
       "      <th>...</th>\n",
       "      <th>PoolArea</th>\n",
       "      <th>PoolQC</th>\n",
       "      <th>Fence</th>\n",
       "      <th>MiscFeature</th>\n",
       "      <th>MiscVal</th>\n",
       "      <th>MoSold</th>\n",
       "      <th>YrSold</th>\n",
       "      <th>SaleType</th>\n",
       "      <th>SaleCondition</th>\n",
       "      <th>SalePrice</th>\n",
       "    </tr>\n",
       "  </thead>\n",
       "  <tbody>\n",
       "    <tr>\n",
       "      <th>0</th>\n",
       "      <td>1</td>\n",
       "      <td>60</td>\n",
       "      <td>RL</td>\n",
       "      <td>65.0</td>\n",
       "      <td>8450</td>\n",
       "      <td>Pave</td>\n",
       "      <td>NaN</td>\n",
       "      <td>Reg</td>\n",
       "      <td>Lvl</td>\n",
       "      <td>AllPub</td>\n",
       "      <td>...</td>\n",
       "      <td>0</td>\n",
       "      <td>NaN</td>\n",
       "      <td>NaN</td>\n",
       "      <td>NaN</td>\n",
       "      <td>0</td>\n",
       "      <td>2</td>\n",
       "      <td>2008</td>\n",
       "      <td>WD</td>\n",
       "      <td>Normal</td>\n",
       "      <td>208500</td>\n",
       "    </tr>\n",
       "    <tr>\n",
       "      <th>1</th>\n",
       "      <td>2</td>\n",
       "      <td>20</td>\n",
       "      <td>RL</td>\n",
       "      <td>80.0</td>\n",
       "      <td>9600</td>\n",
       "      <td>Pave</td>\n",
       "      <td>NaN</td>\n",
       "      <td>Reg</td>\n",
       "      <td>Lvl</td>\n",
       "      <td>AllPub</td>\n",
       "      <td>...</td>\n",
       "      <td>0</td>\n",
       "      <td>NaN</td>\n",
       "      <td>NaN</td>\n",
       "      <td>NaN</td>\n",
       "      <td>0</td>\n",
       "      <td>5</td>\n",
       "      <td>2007</td>\n",
       "      <td>WD</td>\n",
       "      <td>Normal</td>\n",
       "      <td>181500</td>\n",
       "    </tr>\n",
       "    <tr>\n",
       "      <th>2</th>\n",
       "      <td>3</td>\n",
       "      <td>60</td>\n",
       "      <td>RL</td>\n",
       "      <td>68.0</td>\n",
       "      <td>11250</td>\n",
       "      <td>Pave</td>\n",
       "      <td>NaN</td>\n",
       "      <td>IR1</td>\n",
       "      <td>Lvl</td>\n",
       "      <td>AllPub</td>\n",
       "      <td>...</td>\n",
       "      <td>0</td>\n",
       "      <td>NaN</td>\n",
       "      <td>NaN</td>\n",
       "      <td>NaN</td>\n",
       "      <td>0</td>\n",
       "      <td>9</td>\n",
       "      <td>2008</td>\n",
       "      <td>WD</td>\n",
       "      <td>Normal</td>\n",
       "      <td>223500</td>\n",
       "    </tr>\n",
       "    <tr>\n",
       "      <th>3</th>\n",
       "      <td>4</td>\n",
       "      <td>70</td>\n",
       "      <td>RL</td>\n",
       "      <td>60.0</td>\n",
       "      <td>9550</td>\n",
       "      <td>Pave</td>\n",
       "      <td>NaN</td>\n",
       "      <td>IR1</td>\n",
       "      <td>Lvl</td>\n",
       "      <td>AllPub</td>\n",
       "      <td>...</td>\n",
       "      <td>0</td>\n",
       "      <td>NaN</td>\n",
       "      <td>NaN</td>\n",
       "      <td>NaN</td>\n",
       "      <td>0</td>\n",
       "      <td>2</td>\n",
       "      <td>2006</td>\n",
       "      <td>WD</td>\n",
       "      <td>Abnorml</td>\n",
       "      <td>140000</td>\n",
       "    </tr>\n",
       "    <tr>\n",
       "      <th>4</th>\n",
       "      <td>5</td>\n",
       "      <td>60</td>\n",
       "      <td>RL</td>\n",
       "      <td>84.0</td>\n",
       "      <td>14260</td>\n",
       "      <td>Pave</td>\n",
       "      <td>NaN</td>\n",
       "      <td>IR1</td>\n",
       "      <td>Lvl</td>\n",
       "      <td>AllPub</td>\n",
       "      <td>...</td>\n",
       "      <td>0</td>\n",
       "      <td>NaN</td>\n",
       "      <td>NaN</td>\n",
       "      <td>NaN</td>\n",
       "      <td>0</td>\n",
       "      <td>12</td>\n",
       "      <td>2008</td>\n",
       "      <td>WD</td>\n",
       "      <td>Normal</td>\n",
       "      <td>250000</td>\n",
       "    </tr>\n",
       "    <tr>\n",
       "      <th>...</th>\n",
       "      <td>...</td>\n",
       "      <td>...</td>\n",
       "      <td>...</td>\n",
       "      <td>...</td>\n",
       "      <td>...</td>\n",
       "      <td>...</td>\n",
       "      <td>...</td>\n",
       "      <td>...</td>\n",
       "      <td>...</td>\n",
       "      <td>...</td>\n",
       "      <td>...</td>\n",
       "      <td>...</td>\n",
       "      <td>...</td>\n",
       "      <td>...</td>\n",
       "      <td>...</td>\n",
       "      <td>...</td>\n",
       "      <td>...</td>\n",
       "      <td>...</td>\n",
       "      <td>...</td>\n",
       "      <td>...</td>\n",
       "      <td>...</td>\n",
       "    </tr>\n",
       "    <tr>\n",
       "      <th>1455</th>\n",
       "      <td>1456</td>\n",
       "      <td>60</td>\n",
       "      <td>RL</td>\n",
       "      <td>62.0</td>\n",
       "      <td>7917</td>\n",
       "      <td>Pave</td>\n",
       "      <td>NaN</td>\n",
       "      <td>Reg</td>\n",
       "      <td>Lvl</td>\n",
       "      <td>AllPub</td>\n",
       "      <td>...</td>\n",
       "      <td>0</td>\n",
       "      <td>NaN</td>\n",
       "      <td>NaN</td>\n",
       "      <td>NaN</td>\n",
       "      <td>0</td>\n",
       "      <td>8</td>\n",
       "      <td>2007</td>\n",
       "      <td>WD</td>\n",
       "      <td>Normal</td>\n",
       "      <td>175000</td>\n",
       "    </tr>\n",
       "    <tr>\n",
       "      <th>1456</th>\n",
       "      <td>1457</td>\n",
       "      <td>20</td>\n",
       "      <td>RL</td>\n",
       "      <td>85.0</td>\n",
       "      <td>13175</td>\n",
       "      <td>Pave</td>\n",
       "      <td>NaN</td>\n",
       "      <td>Reg</td>\n",
       "      <td>Lvl</td>\n",
       "      <td>AllPub</td>\n",
       "      <td>...</td>\n",
       "      <td>0</td>\n",
       "      <td>NaN</td>\n",
       "      <td>MnPrv</td>\n",
       "      <td>NaN</td>\n",
       "      <td>0</td>\n",
       "      <td>2</td>\n",
       "      <td>2010</td>\n",
       "      <td>WD</td>\n",
       "      <td>Normal</td>\n",
       "      <td>210000</td>\n",
       "    </tr>\n",
       "    <tr>\n",
       "      <th>1457</th>\n",
       "      <td>1458</td>\n",
       "      <td>70</td>\n",
       "      <td>RL</td>\n",
       "      <td>66.0</td>\n",
       "      <td>9042</td>\n",
       "      <td>Pave</td>\n",
       "      <td>NaN</td>\n",
       "      <td>Reg</td>\n",
       "      <td>Lvl</td>\n",
       "      <td>AllPub</td>\n",
       "      <td>...</td>\n",
       "      <td>0</td>\n",
       "      <td>NaN</td>\n",
       "      <td>GdPrv</td>\n",
       "      <td>Shed</td>\n",
       "      <td>2500</td>\n",
       "      <td>5</td>\n",
       "      <td>2010</td>\n",
       "      <td>WD</td>\n",
       "      <td>Normal</td>\n",
       "      <td>266500</td>\n",
       "    </tr>\n",
       "    <tr>\n",
       "      <th>1458</th>\n",
       "      <td>1459</td>\n",
       "      <td>20</td>\n",
       "      <td>RL</td>\n",
       "      <td>68.0</td>\n",
       "      <td>9717</td>\n",
       "      <td>Pave</td>\n",
       "      <td>NaN</td>\n",
       "      <td>Reg</td>\n",
       "      <td>Lvl</td>\n",
       "      <td>AllPub</td>\n",
       "      <td>...</td>\n",
       "      <td>0</td>\n",
       "      <td>NaN</td>\n",
       "      <td>NaN</td>\n",
       "      <td>NaN</td>\n",
       "      <td>0</td>\n",
       "      <td>4</td>\n",
       "      <td>2010</td>\n",
       "      <td>WD</td>\n",
       "      <td>Normal</td>\n",
       "      <td>142125</td>\n",
       "    </tr>\n",
       "    <tr>\n",
       "      <th>1459</th>\n",
       "      <td>1460</td>\n",
       "      <td>20</td>\n",
       "      <td>RL</td>\n",
       "      <td>75.0</td>\n",
       "      <td>9937</td>\n",
       "      <td>Pave</td>\n",
       "      <td>NaN</td>\n",
       "      <td>Reg</td>\n",
       "      <td>Lvl</td>\n",
       "      <td>AllPub</td>\n",
       "      <td>...</td>\n",
       "      <td>0</td>\n",
       "      <td>NaN</td>\n",
       "      <td>NaN</td>\n",
       "      <td>NaN</td>\n",
       "      <td>0</td>\n",
       "      <td>6</td>\n",
       "      <td>2008</td>\n",
       "      <td>WD</td>\n",
       "      <td>Normal</td>\n",
       "      <td>147500</td>\n",
       "    </tr>\n",
       "  </tbody>\n",
       "</table>\n",
       "<p>1460 rows × 81 columns</p>\n",
       "</div>"
      ],
      "text/plain": [
       "        Id  MSSubClass MSZoning  LotFrontage  LotArea Street Alley LotShape  \\\n",
       "0        1          60       RL         65.0     8450   Pave   NaN      Reg   \n",
       "1        2          20       RL         80.0     9600   Pave   NaN      Reg   \n",
       "2        3          60       RL         68.0    11250   Pave   NaN      IR1   \n",
       "3        4          70       RL         60.0     9550   Pave   NaN      IR1   \n",
       "4        5          60       RL         84.0    14260   Pave   NaN      IR1   \n",
       "...    ...         ...      ...          ...      ...    ...   ...      ...   \n",
       "1455  1456          60       RL         62.0     7917   Pave   NaN      Reg   \n",
       "1456  1457          20       RL         85.0    13175   Pave   NaN      Reg   \n",
       "1457  1458          70       RL         66.0     9042   Pave   NaN      Reg   \n",
       "1458  1459          20       RL         68.0     9717   Pave   NaN      Reg   \n",
       "1459  1460          20       RL         75.0     9937   Pave   NaN      Reg   \n",
       "\n",
       "     LandContour Utilities  ... PoolArea PoolQC  Fence MiscFeature MiscVal  \\\n",
       "0            Lvl    AllPub  ...        0    NaN    NaN         NaN       0   \n",
       "1            Lvl    AllPub  ...        0    NaN    NaN         NaN       0   \n",
       "2            Lvl    AllPub  ...        0    NaN    NaN         NaN       0   \n",
       "3            Lvl    AllPub  ...        0    NaN    NaN         NaN       0   \n",
       "4            Lvl    AllPub  ...        0    NaN    NaN         NaN       0   \n",
       "...          ...       ...  ...      ...    ...    ...         ...     ...   \n",
       "1455         Lvl    AllPub  ...        0    NaN    NaN         NaN       0   \n",
       "1456         Lvl    AllPub  ...        0    NaN  MnPrv         NaN       0   \n",
       "1457         Lvl    AllPub  ...        0    NaN  GdPrv        Shed    2500   \n",
       "1458         Lvl    AllPub  ...        0    NaN    NaN         NaN       0   \n",
       "1459         Lvl    AllPub  ...        0    NaN    NaN         NaN       0   \n",
       "\n",
       "     MoSold YrSold  SaleType  SaleCondition  SalePrice  \n",
       "0         2   2008        WD         Normal     208500  \n",
       "1         5   2007        WD         Normal     181500  \n",
       "2         9   2008        WD         Normal     223500  \n",
       "3         2   2006        WD        Abnorml     140000  \n",
       "4        12   2008        WD         Normal     250000  \n",
       "...     ...    ...       ...            ...        ...  \n",
       "1455      8   2007        WD         Normal     175000  \n",
       "1456      2   2010        WD         Normal     210000  \n",
       "1457      5   2010        WD         Normal     266500  \n",
       "1458      4   2010        WD         Normal     142125  \n",
       "1459      6   2008        WD         Normal     147500  \n",
       "\n",
       "[1460 rows x 81 columns]"
      ]
     },
     "execution_count": 23,
     "metadata": {},
     "output_type": "execute_result"
    }
   ],
   "source": [
    "housedata = pd.read_csv(\"train.csv\", header = 0)\n",
    "housedata"
   ]
  },
  {
   "cell_type": "code",
   "execution_count": 24,
   "id": "9d45768a",
   "metadata": {},
   "outputs": [
    {
     "data": {
      "image/png": "[encoded data removed]",
      "text/plain": [
       "<Figure size 432x288 with 1 Axes>"
      ]
     },
     "metadata": {
      "needs_background": "light"
     },
     "output_type": "display_data"
    }
   ],
   "source": [
    "plt.scatter(housedata['GrLivArea'], housedata['SalePrice'], c='#00000022', label=housedata['BldgType'])\n",
    "plt.show()"
   ]
  },
  {
   "cell_type": "code",
   "execution_count": 12,
   "id": "2d0df124",
   "metadata": {},
   "outputs": [
    {
     "data": {
      "image/png": "[encoded data removed]",
      "text/plain": [
       "<Figure size 432x288 with 2 Axes>"
      ]
     },
     "metadata": {
      "needs_background": "light"
     },
     "output_type": "display_data"
    }
   ],
   "source": [
    "fig, axes = plt.subplots(ncols=2, sharey=True)\n",
    "axes[0].hist(housedata['GrLivArea'], bins=30)\n",
    "axes[0].set_title('Living area')\n",
    "axes[1].hist(housedata['SalePrice'], bins=30)\n",
    "axes[1].set_title('Pice')\n",
    "plt.show()"
   ]
  },
  {
   "cell_type": "code",
   "execution_count": 14,
   "id": "8f6514a3",
   "metadata": {},
   "outputs": [
    {
     "data": {
      "image/png": "[encoded data removed]",
      "text/plain": [
       "<Figure size 432x288 with 2 Axes>"
      ]
     },
     "metadata": {
      "needs_background": "light"
     },
     "output_type": "display_data"
    }
   ],
   "source": [
    "fig, (ax1, ax2) = plt.subplots(1, 2)\n",
    "ax1.boxplot(housedata['GrLivArea'])\n",
    "ax1.set_title('Living area')\n",
    "ax2.boxplot(housedata['SalePrice'])\n",
    "ax2.set_title('Pice')\n",
    "plt.show()"
   ]
  },
  {
   "cell_type": "markdown",
   "id": "725852eb",
   "metadata": {},
   "source": [
    "The distributions are both a bit skewed to the left and have high outliers, but are quite nice distributions. The scatterplot has a funnel-like structure which suggests that the \"homoscedasticity\" assumption (residuals have same variance across all value) may not be quite met."
   ]
  },
  {
   "cell_type": "code",
   "execution_count": 17,
   "id": "8fa691e1",
   "metadata": {},
   "outputs": [
    {
     "data": {
      "text/plain": [
       "LinearRegression()"
      ]
     },
     "execution_count": 17,
     "metadata": {},
     "output_type": "execute_result"
    }
   ],
   "source": [
    "# Create linear regression object\n",
    "model = LinearRegression()\n",
    "\n",
    "# Fit the model\n",
    "model.fit(housedata[['GrLivArea']], housedata['SalePrice'])"
   ]
  },
  {
   "cell_type": "code",
   "execution_count": 18,
   "id": "eb80d62f",
   "metadata": {},
   "outputs": [
    {
     "data": {
      "text/plain": [
       "18569.025856487133"
      ]
     },
     "execution_count": 18,
     "metadata": {},
     "output_type": "execute_result"
    }
   ],
   "source": [
    "model.intercept_"
   ]
  },
  {
   "cell_type": "code",
   "execution_count": 19,
   "id": "e92a5ddd",
   "metadata": {},
   "outputs": [
    {
     "data": {
      "text/plain": [
       "array([107.13035897])"
      ]
     },
     "execution_count": 19,
     "metadata": {},
     "output_type": "execute_result"
    }
   ],
   "source": [
    "model.coef_"
   ]
  },
  {
   "cell_type": "markdown",
   "id": "be10e041",
   "metadata": {},
   "source": [
    "The intercept is the fixed portion of price that's not affected by the floor area.\n",
    "\n",
    "The slope is the multiplier describing how an increase in one unit of floor area (sq ft) increased the price in \\\\$. So the model says that a 1 sq ft increase floor area  will increase its price by 107\\\\$."
   ]
  },
  {
   "cell_type": "code",
   "execution_count": 20,
   "id": "6e33269a",
   "metadata": {},
   "outputs": [
    {
     "data": {
      "text/plain": [
       "0.5021486502718042"
      ]
     },
     "execution_count": 20,
     "metadata": {},
     "output_type": "execute_result"
    }
   ],
   "source": [
    "# Calculate the R_squared of the model\n",
    "r_sq = model.score(housedata[['GrLivArea']],housedata['SalePrice'])\n",
    "r_sq"
   ]
  },
  {
   "cell_type": "markdown",
   "id": "507030b6",
   "metadata": {},
   "source": [
    "The R<sup>2</sup> (R-Squared) tells us that half of the variation is captured by the model (i.e. can be explained with a linear model based on floor area."
   ]
  },
  {
   "cell_type": "code",
   "execution_count": 21,
   "id": "95404311",
   "metadata": {},
   "outputs": [
    {
     "data": {
      "text/html": [
       "<div>\n",
       "<style scoped>\n",
       "    .dataframe tbody tr th:only-of-type {\n",
       "        vertical-align: middle;\n",
       "    }\n",
       "\n",
       "    .dataframe tbody tr th {\n",
       "        vertical-align: top;\n",
       "    }\n",
       "\n",
       "    .dataframe thead th {\n",
       "        text-align: right;\n",
       "    }\n",
       "</style>\n",
       "<table border=\"1\" class=\"dataframe\">\n",
       "  <thead>\n",
       "    <tr style=\"text-align: right;\">\n",
       "      <th></th>\n",
       "      <th>Id</th>\n",
       "      <th>MSSubClass</th>\n",
       "      <th>MSZoning</th>\n",
       "      <th>LotFrontage</th>\n",
       "      <th>LotArea</th>\n",
       "      <th>Street</th>\n",
       "      <th>Alley</th>\n",
       "      <th>LotShape</th>\n",
       "      <th>LandContour</th>\n",
       "      <th>Utilities</th>\n",
       "      <th>...</th>\n",
       "      <th>PoolQC</th>\n",
       "      <th>Fence</th>\n",
       "      <th>MiscFeature</th>\n",
       "      <th>MiscVal</th>\n",
       "      <th>MoSold</th>\n",
       "      <th>YrSold</th>\n",
       "      <th>SaleType</th>\n",
       "      <th>SaleCondition</th>\n",
       "      <th>SalePrice</th>\n",
       "      <th>pred</th>\n",
       "    </tr>\n",
       "  </thead>\n",
       "  <tbody>\n",
       "    <tr>\n",
       "      <th>0</th>\n",
       "      <td>1</td>\n",
       "      <td>60</td>\n",
       "      <td>RL</td>\n",
       "      <td>65.0</td>\n",
       "      <td>8450</td>\n",
       "      <td>Pave</td>\n",
       "      <td>NaN</td>\n",
       "      <td>Reg</td>\n",
       "      <td>Lvl</td>\n",
       "      <td>AllPub</td>\n",
       "      <td>...</td>\n",
       "      <td>NaN</td>\n",
       "      <td>NaN</td>\n",
       "      <td>NaN</td>\n",
       "      <td>0</td>\n",
       "      <td>2</td>\n",
       "      <td>2008</td>\n",
       "      <td>WD</td>\n",
       "      <td>Normal</td>\n",
       "      <td>208500</td>\n",
       "      <td>201761.939688</td>\n",
       "    </tr>\n",
       "    <tr>\n",
       "      <th>1</th>\n",
       "      <td>2</td>\n",
       "      <td>20</td>\n",
       "      <td>RL</td>\n",
       "      <td>80.0</td>\n",
       "      <td>9600</td>\n",
       "      <td>Pave</td>\n",
       "      <td>NaN</td>\n",
       "      <td>Reg</td>\n",
       "      <td>Lvl</td>\n",
       "      <td>AllPub</td>\n",
       "      <td>...</td>\n",
       "      <td>NaN</td>\n",
       "      <td>NaN</td>\n",
       "      <td>NaN</td>\n",
       "      <td>0</td>\n",
       "      <td>5</td>\n",
       "      <td>2007</td>\n",
       "      <td>WD</td>\n",
       "      <td>Normal</td>\n",
       "      <td>181500</td>\n",
       "      <td>153767.538871</td>\n",
       "    </tr>\n",
       "    <tr>\n",
       "      <th>2</th>\n",
       "      <td>3</td>\n",
       "      <td>60</td>\n",
       "      <td>RL</td>\n",
       "      <td>68.0</td>\n",
       "      <td>11250</td>\n",
       "      <td>Pave</td>\n",
       "      <td>NaN</td>\n",
       "      <td>IR1</td>\n",
       "      <td>Lvl</td>\n",
       "      <td>AllPub</td>\n",
       "      <td>...</td>\n",
       "      <td>NaN</td>\n",
       "      <td>NaN</td>\n",
       "      <td>NaN</td>\n",
       "      <td>0</td>\n",
       "      <td>9</td>\n",
       "      <td>2008</td>\n",
       "      <td>WD</td>\n",
       "      <td>Normal</td>\n",
       "      <td>223500</td>\n",
       "      <td>209903.846969</td>\n",
       "    </tr>\n",
       "    <tr>\n",
       "      <th>3</th>\n",
       "      <td>4</td>\n",
       "      <td>70</td>\n",
       "      <td>RL</td>\n",
       "      <td>60.0</td>\n",
       "      <td>9550</td>\n",
       "      <td>Pave</td>\n",
       "      <td>NaN</td>\n",
       "      <td>IR1</td>\n",
       "      <td>Lvl</td>\n",
       "      <td>AllPub</td>\n",
       "      <td>...</td>\n",
       "      <td>NaN</td>\n",
       "      <td>NaN</td>\n",
       "      <td>NaN</td>\n",
       "      <td>0</td>\n",
       "      <td>2</td>\n",
       "      <td>2006</td>\n",
       "      <td>WD</td>\n",
       "      <td>Abnorml</td>\n",
       "      <td>140000</td>\n",
       "      <td>202511.852201</td>\n",
       "    </tr>\n",
       "    <tr>\n",
       "      <th>4</th>\n",
       "      <td>5</td>\n",
       "      <td>60</td>\n",
       "      <td>RL</td>\n",
       "      <td>84.0</td>\n",
       "      <td>14260</td>\n",
       "      <td>Pave</td>\n",
       "      <td>NaN</td>\n",
       "      <td>IR1</td>\n",
       "      <td>Lvl</td>\n",
       "      <td>AllPub</td>\n",
       "      <td>...</td>\n",
       "      <td>NaN</td>\n",
       "      <td>NaN</td>\n",
       "      <td>NaN</td>\n",
       "      <td>0</td>\n",
       "      <td>12</td>\n",
       "      <td>2008</td>\n",
       "      <td>WD</td>\n",
       "      <td>Normal</td>\n",
       "      <td>250000</td>\n",
       "      <td>254041.554863</td>\n",
       "    </tr>\n",
       "    <tr>\n",
       "      <th>...</th>\n",
       "      <td>...</td>\n",
       "      <td>...</td>\n",
       "      <td>...</td>\n",
       "      <td>...</td>\n",
       "      <td>...</td>\n",
       "      <td>...</td>\n",
       "      <td>...</td>\n",
       "      <td>...</td>\n",
       "      <td>...</td>\n",
       "      <td>...</td>\n",
       "      <td>...</td>\n",
       "      <td>...</td>\n",
       "      <td>...</td>\n",
       "      <td>...</td>\n",
       "      <td>...</td>\n",
       "      <td>...</td>\n",
       "      <td>...</td>\n",
       "      <td>...</td>\n",
       "      <td>...</td>\n",
       "      <td>...</td>\n",
       "      <td>...</td>\n",
       "    </tr>\n",
       "    <tr>\n",
       "      <th>1455</th>\n",
       "      <td>1456</td>\n",
       "      <td>60</td>\n",
       "      <td>RL</td>\n",
       "      <td>62.0</td>\n",
       "      <td>7917</td>\n",
       "      <td>Pave</td>\n",
       "      <td>NaN</td>\n",
       "      <td>Reg</td>\n",
       "      <td>Lvl</td>\n",
       "      <td>AllPub</td>\n",
       "      <td>...</td>\n",
       "      <td>NaN</td>\n",
       "      <td>NaN</td>\n",
       "      <td>NaN</td>\n",
       "      <td>0</td>\n",
       "      <td>8</td>\n",
       "      <td>2007</td>\n",
       "      <td>WD</td>\n",
       "      <td>Normal</td>\n",
       "      <td>175000</td>\n",
       "      <td>195012.727073</td>\n",
       "    </tr>\n",
       "    <tr>\n",
       "      <th>1456</th>\n",
       "      <td>1457</td>\n",
       "      <td>20</td>\n",
       "      <td>RL</td>\n",
       "      <td>85.0</td>\n",
       "      <td>13175</td>\n",
       "      <td>Pave</td>\n",
       "      <td>NaN</td>\n",
       "      <td>Reg</td>\n",
       "      <td>Lvl</td>\n",
       "      <td>AllPub</td>\n",
       "      <td>...</td>\n",
       "      <td>NaN</td>\n",
       "      <td>MnPrv</td>\n",
       "      <td>NaN</td>\n",
       "      <td>0</td>\n",
       "      <td>2</td>\n",
       "      <td>2010</td>\n",
       "      <td>WD</td>\n",
       "      <td>Normal</td>\n",
       "      <td>210000</td>\n",
       "      <td>240650.259993</td>\n",
       "    </tr>\n",
       "    <tr>\n",
       "      <th>1457</th>\n",
       "      <td>1458</td>\n",
       "      <td>70</td>\n",
       "      <td>RL</td>\n",
       "      <td>66.0</td>\n",
       "      <td>9042</td>\n",
       "      <td>Pave</td>\n",
       "      <td>NaN</td>\n",
       "      <td>Reg</td>\n",
       "      <td>Lvl</td>\n",
       "      <td>AllPub</td>\n",
       "      <td>...</td>\n",
       "      <td>NaN</td>\n",
       "      <td>GdPrv</td>\n",
       "      <td>Shed</td>\n",
       "      <td>2500</td>\n",
       "      <td>5</td>\n",
       "      <td>2010</td>\n",
       "      <td>WD</td>\n",
       "      <td>Normal</td>\n",
       "      <td>266500</td>\n",
       "      <td>269254.065837</td>\n",
       "    </tr>\n",
       "    <tr>\n",
       "      <th>1458</th>\n",
       "      <td>1459</td>\n",
       "      <td>20</td>\n",
       "      <td>RL</td>\n",
       "      <td>68.0</td>\n",
       "      <td>9717</td>\n",
       "      <td>Pave</td>\n",
       "      <td>NaN</td>\n",
       "      <td>Reg</td>\n",
       "      <td>Lvl</td>\n",
       "      <td>AllPub</td>\n",
       "      <td>...</td>\n",
       "      <td>NaN</td>\n",
       "      <td>NaN</td>\n",
       "      <td>NaN</td>\n",
       "      <td>0</td>\n",
       "      <td>4</td>\n",
       "      <td>2010</td>\n",
       "      <td>WD</td>\n",
       "      <td>Normal</td>\n",
       "      <td>142125</td>\n",
       "      <td>134055.552822</td>\n",
       "    </tr>\n",
       "    <tr>\n",
       "      <th>1459</th>\n",
       "      <td>1460</td>\n",
       "      <td>20</td>\n",
       "      <td>RL</td>\n",
       "      <td>75.0</td>\n",
       "      <td>9937</td>\n",
       "      <td>Pave</td>\n",
       "      <td>NaN</td>\n",
       "      <td>Reg</td>\n",
       "      <td>Lvl</td>\n",
       "      <td>AllPub</td>\n",
       "      <td>...</td>\n",
       "      <td>NaN</td>\n",
       "      <td>NaN</td>\n",
       "      <td>NaN</td>\n",
       "      <td>0</td>\n",
       "      <td>6</td>\n",
       "      <td>2008</td>\n",
       "      <td>WD</td>\n",
       "      <td>Normal</td>\n",
       "      <td>147500</td>\n",
       "      <td>153124.756718</td>\n",
       "    </tr>\n",
       "  </tbody>\n",
       "</table>\n",
       "<p>1460 rows × 82 columns</p>\n",
       "</div>"
      ],
      "text/plain": [
       "        Id  MSSubClass MSZoning  LotFrontage  LotArea Street Alley LotShape  \\\n",
       "0        1          60       RL         65.0     8450   Pave   NaN      Reg   \n",
       "1        2          20       RL         80.0     9600   Pave   NaN      Reg   \n",
       "2        3          60       RL         68.0    11250   Pave   NaN      IR1   \n",
       "3        4          70       RL         60.0     9550   Pave   NaN      IR1   \n",
       "4        5          60       RL         84.0    14260   Pave   NaN      IR1   \n",
       "...    ...         ...      ...          ...      ...    ...   ...      ...   \n",
       "1455  1456          60       RL         62.0     7917   Pave   NaN      Reg   \n",
       "1456  1457          20       RL         85.0    13175   Pave   NaN      Reg   \n",
       "1457  1458          70       RL         66.0     9042   Pave   NaN      Reg   \n",
       "1458  1459          20       RL         68.0     9717   Pave   NaN      Reg   \n",
       "1459  1460          20       RL         75.0     9937   Pave   NaN      Reg   \n",
       "\n",
       "     LandContour Utilities  ... PoolQC  Fence MiscFeature MiscVal MoSold  \\\n",
       "0            Lvl    AllPub  ...    NaN    NaN         NaN       0      2   \n",
       "1            Lvl    AllPub  ...    NaN    NaN         NaN       0      5   \n",
       "2            Lvl    AllPub  ...    NaN    NaN         NaN       0      9   \n",
       "3            Lvl    AllPub  ...    NaN    NaN         NaN       0      2   \n",
       "4            Lvl    AllPub  ...    NaN    NaN         NaN       0     12   \n",
       "...          ...       ...  ...    ...    ...         ...     ...    ...   \n",
       "1455         Lvl    AllPub  ...    NaN    NaN         NaN       0      8   \n",
       "1456         Lvl    AllPub  ...    NaN  MnPrv         NaN       0      2   \n",
       "1457         Lvl    AllPub  ...    NaN  GdPrv        Shed    2500      5   \n",
       "1458         Lvl    AllPub  ...    NaN    NaN         NaN       0      4   \n",
       "1459         Lvl    AllPub  ...    NaN    NaN         NaN       0      6   \n",
       "\n",
       "     YrSold SaleType  SaleCondition  SalePrice           pred  \n",
       "0      2008       WD         Normal     208500  201761.939688  \n",
       "1      2007       WD         Normal     181500  153767.538871  \n",
       "2      2008       WD         Normal     223500  209903.846969  \n",
       "3      2006       WD        Abnorml     140000  202511.852201  \n",
       "4      2008       WD         Normal     250000  254041.554863  \n",
       "...     ...      ...            ...        ...            ...  \n",
       "1455   2007       WD         Normal     175000  195012.727073  \n",
       "1456   2010       WD         Normal     210000  240650.259993  \n",
       "1457   2010       WD         Normal     266500  269254.065837  \n",
       "1458   2010       WD         Normal     142125  134055.552822  \n",
       "1459   2008       WD         Normal     147500  153124.756718  \n",
       "\n",
       "[1460 rows x 82 columns]"
      ]
     },
     "execution_count": 21,
     "metadata": {},
     "output_type": "execute_result"
    }
   ],
   "source": [
    "# Create predict column\n",
    "housedata['pred'] = model.predict(housedata[['GrLivArea']])\n",
    "housedata"
   ]
  },
  {
   "cell_type": "code",
   "execution_count": 23,
   "id": "3000268f",
   "metadata": {},
   "outputs": [
    {
     "data": {
      "image/png": "[encoded data removed]",
      "text/plain": [
       "<Figure size 432x288 with 1 Axes>"
      ]
     },
     "metadata": {
      "needs_background": "light"
     },
     "output_type": "display_data"
    }
   ],
   "source": [
    "plt.scatter(housedata['GrLivArea'], housedata['SalePrice'], c=\"#77000022\")\n",
    "plt.scatter(housedata['GrLivArea'], housedata['pred'], c=\"#00770022\")\n",
    "plt.title('Prediction vs Real values')\n",
    "plt.show();"
   ]
  },
  {
   "cell_type": "code",
   "execution_count": 24,
   "id": "84bdc6b7",
   "metadata": {},
   "outputs": [
    {
     "data": {
      "text/html": [
       "<div>\n",
       "<style scoped>\n",
       "    .dataframe tbody tr th:only-of-type {\n",
       "        vertical-align: middle;\n",
       "    }\n",
       "\n",
       "    .dataframe tbody tr th {\n",
       "        vertical-align: top;\n",
       "    }\n",
       "\n",
       "    .dataframe thead th {\n",
       "        text-align: right;\n",
       "    }\n",
       "</style>\n",
       "<table border=\"1\" class=\"dataframe\">\n",
       "  <thead>\n",
       "    <tr style=\"text-align: right;\">\n",
       "      <th></th>\n",
       "      <th>Id</th>\n",
       "      <th>MSSubClass</th>\n",
       "      <th>MSZoning</th>\n",
       "      <th>LotFrontage</th>\n",
       "      <th>LotArea</th>\n",
       "      <th>Street</th>\n",
       "      <th>Alley</th>\n",
       "      <th>LotShape</th>\n",
       "      <th>LandContour</th>\n",
       "      <th>Utilities</th>\n",
       "      <th>...</th>\n",
       "      <th>Fence</th>\n",
       "      <th>MiscFeature</th>\n",
       "      <th>MiscVal</th>\n",
       "      <th>MoSold</th>\n",
       "      <th>YrSold</th>\n",
       "      <th>SaleType</th>\n",
       "      <th>SaleCondition</th>\n",
       "      <th>SalePrice</th>\n",
       "      <th>pred</th>\n",
       "      <th>resid</th>\n",
       "    </tr>\n",
       "  </thead>\n",
       "  <tbody>\n",
       "    <tr>\n",
       "      <th>0</th>\n",
       "      <td>1</td>\n",
       "      <td>60</td>\n",
       "      <td>RL</td>\n",
       "      <td>65.0</td>\n",
       "      <td>8450</td>\n",
       "      <td>Pave</td>\n",
       "      <td>NaN</td>\n",
       "      <td>Reg</td>\n",
       "      <td>Lvl</td>\n",
       "      <td>AllPub</td>\n",
       "      <td>...</td>\n",
       "      <td>NaN</td>\n",
       "      <td>NaN</td>\n",
       "      <td>0</td>\n",
       "      <td>2</td>\n",
       "      <td>2008</td>\n",
       "      <td>WD</td>\n",
       "      <td>Normal</td>\n",
       "      <td>208500</td>\n",
       "      <td>201761.939688</td>\n",
       "      <td>-6738.060312</td>\n",
       "    </tr>\n",
       "    <tr>\n",
       "      <th>1</th>\n",
       "      <td>2</td>\n",
       "      <td>20</td>\n",
       "      <td>RL</td>\n",
       "      <td>80.0</td>\n",
       "      <td>9600</td>\n",
       "      <td>Pave</td>\n",
       "      <td>NaN</td>\n",
       "      <td>Reg</td>\n",
       "      <td>Lvl</td>\n",
       "      <td>AllPub</td>\n",
       "      <td>...</td>\n",
       "      <td>NaN</td>\n",
       "      <td>NaN</td>\n",
       "      <td>0</td>\n",
       "      <td>5</td>\n",
       "      <td>2007</td>\n",
       "      <td>WD</td>\n",
       "      <td>Normal</td>\n",
       "      <td>181500</td>\n",
       "      <td>153767.538871</td>\n",
       "      <td>-27732.461129</td>\n",
       "    </tr>\n",
       "    <tr>\n",
       "      <th>2</th>\n",
       "      <td>3</td>\n",
       "      <td>60</td>\n",
       "      <td>RL</td>\n",
       "      <td>68.0</td>\n",
       "      <td>11250</td>\n",
       "      <td>Pave</td>\n",
       "      <td>NaN</td>\n",
       "      <td>IR1</td>\n",
       "      <td>Lvl</td>\n",
       "      <td>AllPub</td>\n",
       "      <td>...</td>\n",
       "      <td>NaN</td>\n",
       "      <td>NaN</td>\n",
       "      <td>0</td>\n",
       "      <td>9</td>\n",
       "      <td>2008</td>\n",
       "      <td>WD</td>\n",
       "      <td>Normal</td>\n",
       "      <td>223500</td>\n",
       "      <td>209903.846969</td>\n",
       "      <td>-13596.153031</td>\n",
       "    </tr>\n",
       "    <tr>\n",
       "      <th>3</th>\n",
       "      <td>4</td>\n",
       "      <td>70</td>\n",
       "      <td>RL</td>\n",
       "      <td>60.0</td>\n",
       "      <td>9550</td>\n",
       "      <td>Pave</td>\n",
       "      <td>NaN</td>\n",
       "      <td>IR1</td>\n",
       "      <td>Lvl</td>\n",
       "      <td>AllPub</td>\n",
       "      <td>...</td>\n",
       "      <td>NaN</td>\n",
       "      <td>NaN</td>\n",
       "      <td>0</td>\n",
       "      <td>2</td>\n",
       "      <td>2006</td>\n",
       "      <td>WD</td>\n",
       "      <td>Abnorml</td>\n",
       "      <td>140000</td>\n",
       "      <td>202511.852201</td>\n",
       "      <td>62511.852201</td>\n",
       "    </tr>\n",
       "    <tr>\n",
       "      <th>4</th>\n",
       "      <td>5</td>\n",
       "      <td>60</td>\n",
       "      <td>RL</td>\n",
       "      <td>84.0</td>\n",
       "      <td>14260</td>\n",
       "      <td>Pave</td>\n",
       "      <td>NaN</td>\n",
       "      <td>IR1</td>\n",
       "      <td>Lvl</td>\n",
       "      <td>AllPub</td>\n",
       "      <td>...</td>\n",
       "      <td>NaN</td>\n",
       "      <td>NaN</td>\n",
       "      <td>0</td>\n",
       "      <td>12</td>\n",
       "      <td>2008</td>\n",
       "      <td>WD</td>\n",
       "      <td>Normal</td>\n",
       "      <td>250000</td>\n",
       "      <td>254041.554863</td>\n",
       "      <td>4041.554863</td>\n",
       "    </tr>\n",
       "    <tr>\n",
       "      <th>...</th>\n",
       "      <td>...</td>\n",
       "      <td>...</td>\n",
       "      <td>...</td>\n",
       "      <td>...</td>\n",
       "      <td>...</td>\n",
       "      <td>...</td>\n",
       "      <td>...</td>\n",
       "      <td>...</td>\n",
       "      <td>...</td>\n",
       "      <td>...</td>\n",
       "      <td>...</td>\n",
       "      <td>...</td>\n",
       "      <td>...</td>\n",
       "      <td>...</td>\n",
       "      <td>...</td>\n",
       "      <td>...</td>\n",
       "      <td>...</td>\n",
       "      <td>...</td>\n",
       "      <td>...</td>\n",
       "      <td>...</td>\n",
       "      <td>...</td>\n",
       "    </tr>\n",
       "    <tr>\n",
       "      <th>1455</th>\n",
       "      <td>1456</td>\n",
       "      <td>60</td>\n",
       "      <td>RL</td>\n",
       "      <td>62.0</td>\n",
       "      <td>7917</td>\n",
       "      <td>Pave</td>\n",
       "      <td>NaN</td>\n",
       "      <td>Reg</td>\n",
       "      <td>Lvl</td>\n",
       "      <td>AllPub</td>\n",
       "      <td>...</td>\n",
       "      <td>NaN</td>\n",
       "      <td>NaN</td>\n",
       "      <td>0</td>\n",
       "      <td>8</td>\n",
       "      <td>2007</td>\n",
       "      <td>WD</td>\n",
       "      <td>Normal</td>\n",
       "      <td>175000</td>\n",
       "      <td>195012.727073</td>\n",
       "      <td>20012.727073</td>\n",
       "    </tr>\n",
       "    <tr>\n",
       "      <th>1456</th>\n",
       "      <td>1457</td>\n",
       "      <td>20</td>\n",
       "      <td>RL</td>\n",
       "      <td>85.0</td>\n",
       "      <td>13175</td>\n",
       "      <td>Pave</td>\n",
       "      <td>NaN</td>\n",
       "      <td>Reg</td>\n",
       "      <td>Lvl</td>\n",
       "      <td>AllPub</td>\n",
       "      <td>...</td>\n",
       "      <td>MnPrv</td>\n",
       "      <td>NaN</td>\n",
       "      <td>0</td>\n",
       "      <td>2</td>\n",
       "      <td>2010</td>\n",
       "      <td>WD</td>\n",
       "      <td>Normal</td>\n",
       "      <td>210000</td>\n",
       "      <td>240650.259993</td>\n",
       "      <td>30650.259993</td>\n",
       "    </tr>\n",
       "    <tr>\n",
       "      <th>1457</th>\n",
       "      <td>1458</td>\n",
       "      <td>70</td>\n",
       "      <td>RL</td>\n",
       "      <td>66.0</td>\n",
       "      <td>9042</td>\n",
       "      <td>Pave</td>\n",
       "      <td>NaN</td>\n",
       "      <td>Reg</td>\n",
       "      <td>Lvl</td>\n",
       "      <td>AllPub</td>\n",
       "      <td>...</td>\n",
       "      <td>GdPrv</td>\n",
       "      <td>Shed</td>\n",
       "      <td>2500</td>\n",
       "      <td>5</td>\n",
       "      <td>2010</td>\n",
       "      <td>WD</td>\n",
       "      <td>Normal</td>\n",
       "      <td>266500</td>\n",
       "      <td>269254.065837</td>\n",
       "      <td>2754.065837</td>\n",
       "    </tr>\n",
       "    <tr>\n",
       "      <th>1458</th>\n",
       "      <td>1459</td>\n",
       "      <td>20</td>\n",
       "      <td>RL</td>\n",
       "      <td>68.0</td>\n",
       "      <td>9717</td>\n",
       "      <td>Pave</td>\n",
       "      <td>NaN</td>\n",
       "      <td>Reg</td>\n",
       "      <td>Lvl</td>\n",
       "      <td>AllPub</td>\n",
       "      <td>...</td>\n",
       "      <td>NaN</td>\n",
       "      <td>NaN</td>\n",
       "      <td>0</td>\n",
       "      <td>4</td>\n",
       "      <td>2010</td>\n",
       "      <td>WD</td>\n",
       "      <td>Normal</td>\n",
       "      <td>142125</td>\n",
       "      <td>134055.552822</td>\n",
       "      <td>-8069.447178</td>\n",
       "    </tr>\n",
       "    <tr>\n",
       "      <th>1459</th>\n",
       "      <td>1460</td>\n",
       "      <td>20</td>\n",
       "      <td>RL</td>\n",
       "      <td>75.0</td>\n",
       "      <td>9937</td>\n",
       "      <td>Pave</td>\n",
       "      <td>NaN</td>\n",
       "      <td>Reg</td>\n",
       "      <td>Lvl</td>\n",
       "      <td>AllPub</td>\n",
       "      <td>...</td>\n",
       "      <td>NaN</td>\n",
       "      <td>NaN</td>\n",
       "      <td>0</td>\n",
       "      <td>6</td>\n",
       "      <td>2008</td>\n",
       "      <td>WD</td>\n",
       "      <td>Normal</td>\n",
       "      <td>147500</td>\n",
       "      <td>153124.756718</td>\n",
       "      <td>5624.756718</td>\n",
       "    </tr>\n",
       "  </tbody>\n",
       "</table>\n",
       "<p>1460 rows × 83 columns</p>\n",
       "</div>"
      ],
      "text/plain": [
       "        Id  MSSubClass MSZoning  LotFrontage  LotArea Street Alley LotShape  \\\n",
       "0        1          60       RL         65.0     8450   Pave   NaN      Reg   \n",
       "1        2          20       RL         80.0     9600   Pave   NaN      Reg   \n",
       "2        3          60       RL         68.0    11250   Pave   NaN      IR1   \n",
       "3        4          70       RL         60.0     9550   Pave   NaN      IR1   \n",
       "4        5          60       RL         84.0    14260   Pave   NaN      IR1   \n",
       "...    ...         ...      ...          ...      ...    ...   ...      ...   \n",
       "1455  1456          60       RL         62.0     7917   Pave   NaN      Reg   \n",
       "1456  1457          20       RL         85.0    13175   Pave   NaN      Reg   \n",
       "1457  1458          70       RL         66.0     9042   Pave   NaN      Reg   \n",
       "1458  1459          20       RL         68.0     9717   Pave   NaN      Reg   \n",
       "1459  1460          20       RL         75.0     9937   Pave   NaN      Reg   \n",
       "\n",
       "     LandContour Utilities  ...  Fence MiscFeature MiscVal MoSold YrSold  \\\n",
       "0            Lvl    AllPub  ...    NaN         NaN       0      2   2008   \n",
       "1            Lvl    AllPub  ...    NaN         NaN       0      5   2007   \n",
       "2            Lvl    AllPub  ...    NaN         NaN       0      9   2008   \n",
       "3            Lvl    AllPub  ...    NaN         NaN       0      2   2006   \n",
       "4            Lvl    AllPub  ...    NaN         NaN       0     12   2008   \n",
       "...          ...       ...  ...    ...         ...     ...    ...    ...   \n",
       "1455         Lvl    AllPub  ...    NaN         NaN       0      8   2007   \n",
       "1456         Lvl    AllPub  ...  MnPrv         NaN       0      2   2010   \n",
       "1457         Lvl    AllPub  ...  GdPrv        Shed    2500      5   2010   \n",
       "1458         Lvl    AllPub  ...    NaN         NaN       0      4   2010   \n",
       "1459         Lvl    AllPub  ...    NaN         NaN       0      6   2008   \n",
       "\n",
       "     SaleType SaleCondition  SalePrice           pred         resid  \n",
       "0          WD        Normal     208500  201761.939688  -6738.060312  \n",
       "1          WD        Normal     181500  153767.538871 -27732.461129  \n",
       "2          WD        Normal     223500  209903.846969 -13596.153031  \n",
       "3          WD       Abnorml     140000  202511.852201  62511.852201  \n",
       "4          WD        Normal     250000  254041.554863   4041.554863  \n",
       "...       ...           ...        ...            ...           ...  \n",
       "1455       WD        Normal     175000  195012.727073  20012.727073  \n",
       "1456       WD        Normal     210000  240650.259993  30650.259993  \n",
       "1457       WD        Normal     266500  269254.065837   2754.065837  \n",
       "1458       WD        Normal     142125  134055.552822  -8069.447178  \n",
       "1459       WD        Normal     147500  153124.756718   5624.756718  \n",
       "\n",
       "[1460 rows x 83 columns]"
      ]
     },
     "execution_count": 24,
     "metadata": {},
     "output_type": "execute_result"
    }
   ],
   "source": [
    "# Get a residual column\n",
    "housedata['resid'] = housedata['pred'] - housedata['SalePrice']\n",
    "housedata"
   ]
  },
  {
   "cell_type": "code",
   "execution_count": 27,
   "id": "f3e2d4f8",
   "metadata": {},
   "outputs": [
    {
     "data": {
      "image/png": "[encoded data removed]",
      "text/plain": [
       "<Figure size 432x288 with 1 Axes>"
      ]
     },
     "metadata": {
      "needs_background": "light"
     },
     "output_type": "display_data"
    }
   ],
   "source": [
    "plt.boxplot(housedata['resid'])\n",
    "plt.show()"
   ]
  },
  {
   "cell_type": "code",
   "execution_count": 29,
   "id": "ddcf0578",
   "metadata": {},
   "outputs": [
    {
     "data": {
      "image/png": "[encoded data removed]",
      "text/plain": [
       "<Figure size 432x288 with 1 Axes>"
      ]
     },
     "metadata": {
      "needs_background": "light"
     },
     "output_type": "display_data"
    }
   ],
   "source": [
    "plt.hist(housedata['resid'], bins=20);"
   ]
  },
  {
   "cell_type": "code",
   "execution_count": 30,
   "id": "5989d68e",
   "metadata": {},
   "outputs": [
    {
     "data": {
      "text/plain": [
       "count    1.460000e+03\n",
       "mean    -1.085413e-11\n",
       "std      5.605350e+04\n",
       "min     -3.398318e+05\n",
       "25%     -2.195731e+04\n",
       "50%      1.123619e+03\n",
       "75%      2.980000e+04\n",
       "max      4.629985e+05\n",
       "Name: resid, dtype: float64"
      ]
     },
     "execution_count": 30,
     "metadata": {},
     "output_type": "execute_result"
    }
   ],
   "source": [
    "housedata['resid'].describe()"
   ]
  },
  {
   "cell_type": "code",
   "execution_count": 31,
   "id": "cfd68105",
   "metadata": {},
   "outputs": [
    {
     "name": "stdout",
     "output_type": "stream",
     "text": [
      "Mean -0.000000000011\n",
      "Standard devation 56053.503558790180\n",
      "Mean price 180921.195890410949\n",
      "Median price 163000.000000000000\n"
     ]
    }
   ],
   "source": [
    "print(\"Mean {:.12f}\".format(housedata['resid'].mean())) #More readable number\n",
    "print(\"Standard devation {:.12f}\".format(housedata['resid'].std())) #More readable number\n",
    "print(\"Mean price {:.12f}\".format(housedata['SalePrice'].mean()))\n",
    "print(\"Median price {:.12f}\".format(housedata['SalePrice'].median()))"
   ]
  },
  {
   "cell_type": "markdown",
   "id": "a3355f27",
   "metadata": {},
   "source": [
    "The residuals are normally distributed with a mean of zero. This is a good sign as it demonstrates that some of the key assumptions are not violated.\n",
    "\n",
    "In terms of effect size, the standard deviation is 56053 US dollars which is quite large compared to the mean price. Perhaps not the most useful predictive model, but it's helping us analyse the data."
   ]
  },
  {
   "cell_type": "markdown",
   "id": "981ebc3e",
   "metadata": {},
   "source": [
    "## Multiple linear regression\n",
    "Try to account for more of that variation.\n",
    "1. **Find the top correlated numerical variables**. Find the top correlations between the price and the numerical variables."
   ]
  },
  {
   "cell_type": "code",
   "execution_count": null,
   "id": "703683e2",
   "metadata": {},
   "outputs": [],
   "source": [
    "numeric_features = housedata.select_dtypes(include=[np.number])\n",
    "corr = numeric_features.corr()\n",
    "print (corr['SalePrice'].sort_values(ascending=False)[:10], '\\n') #top 10"
   ]
  },
  {
   "cell_type": "markdown",
   "id": "b1d86884",
   "metadata": {},
   "source": [
    "2. **Choose another variable to add to the model**. Choose another variable to find to account for more of the variation. Choose a highly correlated variable but check it's not too correlated to your floor area variable (correlation of <0.5 should be OK). Also check that it seems a reasonable predictor variable.\n",
    "3. **Create a new model with two independent variables** Create a new model with two independent variables with one you used before and the one you just selected.\n",
    "4. **Check the R<sup>2<sup>**. Does the model capture more of the variation?\n",
    "5. **Check the parameters**. Try to interpret the parameters. There are two slopes now, one for each variable. Also, note that these variables are in different units, so this affects the interpretation of these parameters (they can't be compared to each other unless you normalise the variables). These are tricky to interpret because they interact with each other.\n",
    "6. **Study residuals**. See how the residuals vary by some category e.g. `Neighborhood`. This will tell which types of house are poorly modelled and this may give some clues for our analysis. For example, we might model some subsets separately or exclude some subset for our analysis."
   ]
  },
  {
   "cell_type": "code",
   "execution_count": 35,
   "id": "fce43205",
   "metadata": {},
   "outputs": [
    {
     "data": {
      "text/html": [
       "<div>\n",
       "<style scoped>\n",
       "    .dataframe tbody tr th:only-of-type {\n",
       "        vertical-align: middle;\n",
       "    }\n",
       "\n",
       "    .dataframe tbody tr th {\n",
       "        vertical-align: top;\n",
       "    }\n",
       "\n",
       "    .dataframe thead th {\n",
       "        text-align: right;\n",
       "    }\n",
       "</style>\n",
       "<table border=\"1\" class=\"dataframe\">\n",
       "  <thead>\n",
       "    <tr style=\"text-align: right;\">\n",
       "      <th></th>\n",
       "      <th>Id</th>\n",
       "      <th>MSSubClass</th>\n",
       "      <th>LotFrontage</th>\n",
       "      <th>LotArea</th>\n",
       "      <th>OverallQual</th>\n",
       "      <th>OverallCond</th>\n",
       "      <th>YearBuilt</th>\n",
       "      <th>YearRemodAdd</th>\n",
       "      <th>MasVnrArea</th>\n",
       "      <th>BsmtFinSF1</th>\n",
       "      <th>...</th>\n",
       "      <th>EnclosedPorch</th>\n",
       "      <th>3SsnPorch</th>\n",
       "      <th>ScreenPorch</th>\n",
       "      <th>PoolArea</th>\n",
       "      <th>MiscVal</th>\n",
       "      <th>MoSold</th>\n",
       "      <th>YrSold</th>\n",
       "      <th>SalePrice</th>\n",
       "      <th>pred</th>\n",
       "      <th>resid</th>\n",
       "    </tr>\n",
       "  </thead>\n",
       "  <tbody>\n",
       "    <tr>\n",
       "      <th>Id</th>\n",
       "      <td>1.000000</td>\n",
       "      <td>0.011156</td>\n",
       "      <td>-0.010601</td>\n",
       "      <td>-0.033226</td>\n",
       "      <td>-0.028365</td>\n",
       "      <td>0.012609</td>\n",
       "      <td>-0.012713</td>\n",
       "      <td>-0.021998</td>\n",
       "      <td>-0.050298</td>\n",
       "      <td>-0.005024</td>\n",
       "      <td>...</td>\n",
       "      <td>0.002889</td>\n",
       "      <td>-0.046635</td>\n",
       "      <td>0.001330</td>\n",
       "      <td>0.057044</td>\n",
       "      <td>-0.006242</td>\n",
       "      <td>0.021172</td>\n",
       "      <td>0.000712</td>\n",
       "      <td>-0.021917</td>\n",
       "      <td>0.008273</td>\n",
       "      <td>0.039370</td>\n",
       "    </tr>\n",
       "    <tr>\n",
       "      <th>MSSubClass</th>\n",
       "      <td>0.011156</td>\n",
       "      <td>1.000000</td>\n",
       "      <td>-0.386347</td>\n",
       "      <td>-0.139781</td>\n",
       "      <td>0.032628</td>\n",
       "      <td>-0.059316</td>\n",
       "      <td>0.027850</td>\n",
       "      <td>0.040581</td>\n",
       "      <td>0.022936</td>\n",
       "      <td>-0.069836</td>\n",
       "      <td>...</td>\n",
       "      <td>-0.012037</td>\n",
       "      <td>-0.043825</td>\n",
       "      <td>-0.026030</td>\n",
       "      <td>0.008283</td>\n",
       "      <td>-0.007683</td>\n",
       "      <td>-0.013585</td>\n",
       "      <td>-0.021407</td>\n",
       "      <td>-0.084284</td>\n",
       "      <td>0.074853</td>\n",
       "      <td>0.194628</td>\n",
       "    </tr>\n",
       "    <tr>\n",
       "      <th>LotFrontage</th>\n",
       "      <td>-0.010601</td>\n",
       "      <td>-0.386347</td>\n",
       "      <td>1.000000</td>\n",
       "      <td>0.426095</td>\n",
       "      <td>0.251646</td>\n",
       "      <td>-0.059213</td>\n",
       "      <td>0.123349</td>\n",
       "      <td>0.088866</td>\n",
       "      <td>0.193458</td>\n",
       "      <td>0.233633</td>\n",
       "      <td>...</td>\n",
       "      <td>0.010700</td>\n",
       "      <td>0.070029</td>\n",
       "      <td>0.041383</td>\n",
       "      <td>0.206167</td>\n",
       "      <td>0.003368</td>\n",
       "      <td>0.011200</td>\n",
       "      <td>0.007450</td>\n",
       "      <td>0.351799</td>\n",
       "      <td>0.402797</td>\n",
       "      <td>-0.109107</td>\n",
       "    </tr>\n",
       "    <tr>\n",
       "      <th>LotArea</th>\n",
       "      <td>-0.033226</td>\n",
       "      <td>-0.139781</td>\n",
       "      <td>0.426095</td>\n",
       "      <td>1.000000</td>\n",
       "      <td>0.105806</td>\n",
       "      <td>-0.005636</td>\n",
       "      <td>0.014228</td>\n",
       "      <td>0.013788</td>\n",
       "      <td>0.104160</td>\n",
       "      <td>0.214103</td>\n",
       "      <td>...</td>\n",
       "      <td>-0.018340</td>\n",
       "      <td>0.020423</td>\n",
       "      <td>0.043160</td>\n",
       "      <td>0.077672</td>\n",
       "      <td>0.038068</td>\n",
       "      <td>0.001205</td>\n",
       "      <td>-0.014261</td>\n",
       "      <td>0.263843</td>\n",
       "      <td>0.263116</td>\n",
       "      <td>-0.109686</td>\n",
       "    </tr>\n",
       "    <tr>\n",
       "      <th>OverallQual</th>\n",
       "      <td>-0.028365</td>\n",
       "      <td>0.032628</td>\n",
       "      <td>0.251646</td>\n",
       "      <td>0.105806</td>\n",
       "      <td>1.000000</td>\n",
       "      <td>-0.091932</td>\n",
       "      <td>0.572323</td>\n",
       "      <td>0.550684</td>\n",
       "      <td>0.411876</td>\n",
       "      <td>0.239666</td>\n",
       "      <td>...</td>\n",
       "      <td>-0.113937</td>\n",
       "      <td>0.030371</td>\n",
       "      <td>0.064886</td>\n",
       "      <td>0.065166</td>\n",
       "      <td>-0.031406</td>\n",
       "      <td>0.070815</td>\n",
       "      <td>-0.027347</td>\n",
       "      <td>0.790982</td>\n",
       "      <td>0.593007</td>\n",
       "      <td>-0.525467</td>\n",
       "    </tr>\n",
       "  </tbody>\n",
       "</table>\n",
       "<p>5 rows × 40 columns</p>\n",
       "</div>"
      ],
      "text/plain": [
       "                   Id  MSSubClass  LotFrontage   LotArea  OverallQual  \\\n",
       "Id           1.000000    0.011156    -0.010601 -0.033226    -0.028365   \n",
       "MSSubClass   0.011156    1.000000    -0.386347 -0.139781     0.032628   \n",
       "LotFrontage -0.010601   -0.386347     1.000000  0.426095     0.251646   \n",
       "LotArea     -0.033226   -0.139781     0.426095  1.000000     0.105806   \n",
       "OverallQual -0.028365    0.032628     0.251646  0.105806     1.000000   \n",
       "\n",
       "             OverallCond  YearBuilt  YearRemodAdd  MasVnrArea  BsmtFinSF1  \\\n",
       "Id              0.012609  -0.012713     -0.021998   -0.050298   -0.005024   \n",
       "MSSubClass     -0.059316   0.027850      0.040581    0.022936   -0.069836   \n",
       "LotFrontage    -0.059213   0.123349      0.088866    0.193458    0.233633   \n",
       "LotArea        -0.005636   0.014228      0.013788    0.104160    0.214103   \n",
       "OverallQual    -0.091932   0.572323      0.550684    0.411876    0.239666   \n",
       "\n",
       "             ...  EnclosedPorch  3SsnPorch  ScreenPorch  PoolArea   MiscVal  \\\n",
       "Id           ...       0.002889  -0.046635     0.001330  0.057044 -0.006242   \n",
       "MSSubClass   ...      -0.012037  -0.043825    -0.026030  0.008283 -0.007683   \n",
       "LotFrontage  ...       0.010700   0.070029     0.041383  0.206167  0.003368   \n",
       "LotArea      ...      -0.018340   0.020423     0.043160  0.077672  0.038068   \n",
       "OverallQual  ...      -0.113937   0.030371     0.064886  0.065166 -0.031406   \n",
       "\n",
       "               MoSold    YrSold  SalePrice      pred     resid  \n",
       "Id           0.021172  0.000712  -0.021917  0.008273  0.039370  \n",
       "MSSubClass  -0.013585 -0.021407  -0.084284  0.074853  0.194628  \n",
       "LotFrontage  0.011200  0.007450   0.351799  0.402797 -0.109107  \n",
       "LotArea      0.001205 -0.014261   0.263843  0.263116 -0.109686  \n",
       "OverallQual  0.070815 -0.027347   0.790982  0.593007 -0.525467  \n",
       "\n",
       "[5 rows x 40 columns]"
      ]
     },
     "execution_count": 35,
     "metadata": {},
     "output_type": "execute_result"
    }
   ],
   "source": [
    "# Select  columns with number values\n",
    "numeric_features = housedata.select_dtypes(include=[np.number])\n",
    "\n",
    "# Create correlation table\n",
    "corr = numeric_features.corr()\n",
    "corr.head(5)"
   ]
  },
  {
   "cell_type": "code",
   "execution_count": 36,
   "id": "274feebb",
   "metadata": {},
   "outputs": [
    {
     "data": {
      "text/plain": [
       "SalePrice       1.000000\n",
       "OverallQual     0.790982\n",
       "pred            0.708624\n",
       "GrLivArea       0.708624\n",
       "GarageCars      0.640409\n",
       "GarageArea      0.623431\n",
       "TotalBsmtSF     0.613581\n",
       "1stFlrSF        0.605852\n",
       "FullBath        0.560664\n",
       "TotRmsAbvGrd    0.533723\n",
       "Name: SalePrice, dtype: float64"
      ]
     },
     "execution_count": 36,
     "metadata": {},
     "output_type": "execute_result"
    }
   ],
   "source": [
    "corr['SalePrice'].sort_values(ascending=False)[:10]"
   ]
  },
  {
   "cell_type": "markdown",
   "id": "277ee785",
   "metadata": {},
   "source": [
    "There are some strong correlations with price, so good candidates. However we want to find a variable that doesn't correlate strongly with GrLivArea because we want to capture other variation."
   ]
  },
  {
   "cell_type": "code",
   "execution_count": 37,
   "id": "eb60d2a3",
   "metadata": {},
   "outputs": [
    {
     "data": {
      "text/plain": [
       "0.6404091972583519"
      ]
     },
     "execution_count": 37,
     "metadata": {},
     "output_type": "execute_result"
    }
   ],
   "source": [
    "corr['SalePrice'].loc['GarageCars']"
   ]
  },
  {
   "cell_type": "markdown",
   "id": "c748a7ad",
   "metadata": {},
   "source": [
    "`GarageCars` seems a good candidate."
   ]
  },
  {
   "cell_type": "code",
   "execution_count": 38,
   "id": "59b93b8f",
   "metadata": {},
   "outputs": [
    {
     "data": {
      "text/plain": [
       "0.6245393574809694"
      ]
     },
     "execution_count": 38,
     "metadata": {},
     "output_type": "execute_result"
    }
   ],
   "source": [
    "# Create new model with two independent values\n",
    "# Create new linear regression object\n",
    "model1 = LinearRegression()\n",
    "\n",
    "# Fit multiple linear regression\n",
    "model1.fit(housedata[['GrLivArea','GarageCars']], housedata['SalePrice'])\n",
    "\n",
    "# Check R_squared\n",
    "r_sq = model1.score(housedata[['GrLivArea','GarageCars']],housedata['SalePrice'])\n",
    "r_sq"
   ]
  },
  {
   "cell_type": "markdown",
   "id": "c9eeb631",
   "metadata": {},
   "source": [
    "This is a higher R2, indicating that the model is capturing more of the variation."
   ]
  },
  {
   "cell_type": "code",
   "execution_count": 42,
   "id": "cc84e9df",
   "metadata": {},
   "outputs": [
    {
     "data": {
      "text/plain": [
       "-13403.690473504073"
      ]
     },
     "execution_count": 42,
     "metadata": {},
     "output_type": "execute_result"
    }
   ],
   "source": [
    "# Check the intercept\n",
    "model1.intercept_"
   ]
  },
  {
   "cell_type": "code",
   "execution_count": 43,
   "id": "0f2f1275",
   "metadata": {},
   "outputs": [
    {
     "data": {
      "text/plain": [
       "array([   79.17898988, 42063.84581511])"
      ]
     },
     "execution_count": 43,
     "metadata": {},
     "output_type": "execute_result"
    }
   ],
   "source": [
    "# Check the slope\n",
    "model1.coef_"
   ]
  },
  {
   "cell_type": "markdown",
   "id": "6c6e19c9",
   "metadata": {},
   "source": [
    "$$Y_i = 79.18X_{i1} + 42063.84X_{i2} -13403.69 $$"
   ]
  },
  {
   "cell_type": "markdown",
   "id": "8a1fa31c",
   "metadata": {},
   "source": [
    "We have two parameters, one for each variable. These interact, so it's hard to interpret. If the other stays the same, it's the multipler as before. The units are different, so they can't be meaningfully compared, but if you normalised the variables, then comparing them would indicate which was more important."
   ]
  },
  {
   "cell_type": "code",
   "execution_count": 47,
   "id": "887bf381",
   "metadata": {},
   "outputs": [
    {
     "data": {
      "text/html": [
       "<div>\n",
       "<style scoped>\n",
       "    .dataframe tbody tr th:only-of-type {\n",
       "        vertical-align: middle;\n",
       "    }\n",
       "\n",
       "    .dataframe tbody tr th {\n",
       "        vertical-align: top;\n",
       "    }\n",
       "\n",
       "    .dataframe thead th {\n",
       "        text-align: right;\n",
       "    }\n",
       "</style>\n",
       "<table border=\"1\" class=\"dataframe\">\n",
       "  <thead>\n",
       "    <tr style=\"text-align: right;\">\n",
       "      <th></th>\n",
       "      <th>Neighborhood</th>\n",
       "      <th>resid1</th>\n",
       "    </tr>\n",
       "  </thead>\n",
       "  <tbody>\n",
       "    <tr>\n",
       "      <th>0</th>\n",
       "      <td>CollgCr</td>\n",
       "      <td>-2379.926151</td>\n",
       "    </tr>\n",
       "    <tr>\n",
       "      <th>1</th>\n",
       "      <td>Veenker</td>\n",
       "      <td>-10852.113617</td>\n",
       "    </tr>\n",
       "    <tr>\n",
       "      <th>2</th>\n",
       "      <td>CollgCr</td>\n",
       "      <td>-11362.322920</td>\n",
       "    </tr>\n",
       "    <tr>\n",
       "      <th>3</th>\n",
       "      <td>Crawfor</td>\n",
       "      <td>108738.172593</td>\n",
       "    </tr>\n",
       "    <tr>\n",
       "      <th>4</th>\n",
       "      <td>NoRidge</td>\n",
       "      <td>36823.266725</td>\n",
       "    </tr>\n",
       "    <tr>\n",
       "      <th>...</th>\n",
       "      <td>...</td>\n",
       "      <td>...</td>\n",
       "    </tr>\n",
       "    <tr>\n",
       "      <th>1455</th>\n",
       "      <td>Gilbert</td>\n",
       "      <td>26131.797487</td>\n",
       "    </tr>\n",
       "    <tr>\n",
       "      <th>1456</th>\n",
       "      <td>NWAmes</td>\n",
       "      <td>24862.047175</td>\n",
       "    </tr>\n",
       "    <tr>\n",
       "      <th>1457</th>\n",
       "      <td>Crawfor</td>\n",
       "      <td>-52561.008343</td>\n",
       "    </tr>\n",
       "    <tr>\n",
       "      <th>1458</th>\n",
       "      <td>NAmes</td>\n",
       "      <td>-28109.893569</td>\n",
       "    </tr>\n",
       "    <tr>\n",
       "      <th>1459</th>\n",
       "      <td>Edwards</td>\n",
       "      <td>-19391.033371</td>\n",
       "    </tr>\n",
       "  </tbody>\n",
       "</table>\n",
       "<p>1460 rows × 2 columns</p>\n",
       "</div>"
      ],
      "text/plain": [
       "     Neighborhood         resid1\n",
       "0         CollgCr   -2379.926151\n",
       "1         Veenker  -10852.113617\n",
       "2         CollgCr  -11362.322920\n",
       "3         Crawfor  108738.172593\n",
       "4         NoRidge   36823.266725\n",
       "...           ...            ...\n",
       "1455      Gilbert   26131.797487\n",
       "1456       NWAmes   24862.047175\n",
       "1457      Crawfor  -52561.008343\n",
       "1458        NAmes  -28109.893569\n",
       "1459      Edwards  -19391.033371\n",
       "\n",
       "[1460 rows x 2 columns]"
      ]
     },
     "execution_count": 47,
     "metadata": {},
     "output_type": "execute_result"
    }
   ],
   "source": [
    "# Create prediction column\n",
    "housedata['pred1'] = model1.predict(housedata[['GrLivArea','GarageCars']])\n",
    "\n",
    "# Create residual column\n",
    "housedata['resid1'] = housedata['pred1']-housedata['SalePrice']\n",
    "\n",
    "# Checkout residual by neighborhood\n",
    "housedata[['Neighborhood','resid1']]"
   ]
  },
  {
   "cell_type": "code",
   "execution_count": 49,
   "id": "3caf9287",
   "metadata": {},
   "outputs": [
    {
     "data": {
      "text/html": [
       "<div>\n",
       "<style scoped>\n",
       "    .dataframe tbody tr th:only-of-type {\n",
       "        vertical-align: middle;\n",
       "    }\n",
       "\n",
       "    .dataframe tbody tr th {\n",
       "        vertical-align: top;\n",
       "    }\n",
       "\n",
       "    .dataframe thead th {\n",
       "        text-align: right;\n",
       "    }\n",
       "</style>\n",
       "<table border=\"1\" class=\"dataframe\">\n",
       "  <thead>\n",
       "    <tr style=\"text-align: right;\">\n",
       "      <th></th>\n",
       "      <th>Neighborhood</th>\n",
       "      <th>variable</th>\n",
       "      <th>value</th>\n",
       "    </tr>\n",
       "  </thead>\n",
       "  <tbody>\n",
       "    <tr>\n",
       "      <th>0</th>\n",
       "      <td>CollgCr</td>\n",
       "      <td>resid1</td>\n",
       "      <td>-2379.926151</td>\n",
       "    </tr>\n",
       "    <tr>\n",
       "      <th>1</th>\n",
       "      <td>Veenker</td>\n",
       "      <td>resid1</td>\n",
       "      <td>-10852.113617</td>\n",
       "    </tr>\n",
       "    <tr>\n",
       "      <th>2</th>\n",
       "      <td>CollgCr</td>\n",
       "      <td>resid1</td>\n",
       "      <td>-11362.322920</td>\n",
       "    </tr>\n",
       "    <tr>\n",
       "      <th>3</th>\n",
       "      <td>Crawfor</td>\n",
       "      <td>resid1</td>\n",
       "      <td>108738.172593</td>\n",
       "    </tr>\n",
       "    <tr>\n",
       "      <th>4</th>\n",
       "      <td>NoRidge</td>\n",
       "      <td>resid1</td>\n",
       "      <td>36823.266725</td>\n",
       "    </tr>\n",
       "    <tr>\n",
       "      <th>...</th>\n",
       "      <td>...</td>\n",
       "      <td>...</td>\n",
       "      <td>...</td>\n",
       "    </tr>\n",
       "    <tr>\n",
       "      <th>1455</th>\n",
       "      <td>Gilbert</td>\n",
       "      <td>resid1</td>\n",
       "      <td>26131.797487</td>\n",
       "    </tr>\n",
       "    <tr>\n",
       "      <th>1456</th>\n",
       "      <td>NWAmes</td>\n",
       "      <td>resid1</td>\n",
       "      <td>24862.047175</td>\n",
       "    </tr>\n",
       "    <tr>\n",
       "      <th>1457</th>\n",
       "      <td>Crawfor</td>\n",
       "      <td>resid1</td>\n",
       "      <td>-52561.008343</td>\n",
       "    </tr>\n",
       "    <tr>\n",
       "      <th>1458</th>\n",
       "      <td>NAmes</td>\n",
       "      <td>resid1</td>\n",
       "      <td>-28109.893569</td>\n",
       "    </tr>\n",
       "    <tr>\n",
       "      <th>1459</th>\n",
       "      <td>Edwards</td>\n",
       "      <td>resid1</td>\n",
       "      <td>-19391.033371</td>\n",
       "    </tr>\n",
       "  </tbody>\n",
       "</table>\n",
       "<p>1460 rows × 3 columns</p>\n",
       "</div>"
      ],
      "text/plain": [
       "     Neighborhood variable          value\n",
       "0         CollgCr   resid1   -2379.926151\n",
       "1         Veenker   resid1  -10852.113617\n",
       "2         CollgCr   resid1  -11362.322920\n",
       "3         Crawfor   resid1  108738.172593\n",
       "4         NoRidge   resid1   36823.266725\n",
       "...           ...      ...            ...\n",
       "1455      Gilbert   resid1   26131.797487\n",
       "1456       NWAmes   resid1   24862.047175\n",
       "1457      Crawfor   resid1  -52561.008343\n",
       "1458        NAmes   resid1  -28109.893569\n",
       "1459      Edwards   resid1  -19391.033371\n",
       "\n",
       "[1460 rows x 3 columns]"
      ]
     },
     "execution_count": 49,
     "metadata": {},
     "output_type": "execute_result"
    }
   ],
   "source": [
    "boxplotdata=pd.melt(housedata[['Neighborhood','resid1']],id_vars=\"Neighborhood\")\n",
    "boxplotdata"
   ]
  },
  {
   "cell_type": "markdown",
   "id": "089beb10",
   "metadata": {},
   "source": [
    "The instructor used `boxplotdata` to plot residual by neighborhood  \n",
    "`sns.boxplot(data=boxplotdata, x='value', y='Neighborhood')`  \n",
    "But we don't need to do that, it's lengthy"
   ]
  },
  {
   "cell_type": "code",
   "execution_count": 52,
   "id": "f7bff731",
   "metadata": {},
   "outputs": [
    {
     "data": {
      "image/png": "[encoded data removed]",
      "text/plain": [
       "<Figure size 432x288 with 1 Axes>"
      ]
     },
     "metadata": {
      "needs_background": "light"
     },
     "output_type": "display_data"
    }
   ],
   "source": [
    "sns.boxplot(data=housedata[['Neighborhood','resid1']], x='resid1', y='Neighborhood').set_title('Residuals by neighborhood');"
   ]
  },
  {
   "cell_type": "markdown",
   "id": "5d14304a",
   "metadata": {},
   "source": [
    "## More exploration (Read more)\n",
    "There are some [good ideas here](https://www.dataquest.io/blog/kaggle-getting-started/) so have a look at this and try some things out. Includes information on dummy variables for having nominal data as independent variables.\n"
   ]
  },
  {
   "cell_type": "markdown",
   "id": "715a0dca",
   "metadata": {},
   "source": [
    "# Exercise 2: Linear regression to analyse relationships between crimes and socioeconomic characteristics\n",
    "We will using from the [UCI Machine Learning Repository](https://archive.ics.uci.edu/ml/index.html), a good resource to find example data sets. The data - **Communities in the US**. combines socio-economic data from the 1990 Census, law enforcement data from the 1990 Law Enforcement Management and Admin Stats survey, and crime data from the 1995 FBI UCR.\n",
    "\n",
    "We have two versions of the data, [a problematic one with some missing values](https://moodle.city.ac.uk/pluginfile.php/2782683/mod_page/content/5/censusCrime.csv), and a [clean version](https://moodle.city.ac.uk/pluginfile.php/2782683/mod_page/content/5/censusCrimeClean.csv) where the problematic columns have been removed. Detailed information on column names [can be found here](https://moodle.city.ac.uk/pluginfile.php/2782683/mod_page/content/5/communitiesNames.txt).\n",
    "\n",
    "The original the data was to help determine relationships between crime statistics and socio-economic variables.\n",
    "\n",
    "There are some alternative regression libraries you can try if you like in this exercise."
   ]
  },
  {
   "cell_type": "markdown",
   "id": "3b8fdbf6",
   "metadata": {},
   "source": [
    "## Simple Linear Regression\n",
    "1. **Load Data**. Load the [Communities in the US (cleaned version)](https://moodle.city.ac.uk/pluginfile.php/2782683/mod_page/content/5/censusCrimeClean.csv) into a Pandas dataframe.\n",
    "2. **Choose two columns and save as variables**. You can choose any but an interesting pair could be \"medIncome\" and \"ViolentCrimesPerPop\".\n",
    "3. **Choose suitable variables**. Use the [information here](https://moodle.city.ac.uk/pluginfile.php/2782683/mod_page/content/5/communitiesNames.txt) to help identify one dependent and one independent variable.\n",
    "4. **Fit a model and inspect the parameters**. Fit a simple linear regression model using either scikit (see above) or `scipy.stats.linregress()` function to perform a linear regression. Show the model parameters produced.\n",
    "5. **Calculate a regression line**. Use Numpy's `polyval()` function to calculate a regression line. The code below will calculate dependent variable values for each independent variable value.  \n",
    "    Then plot it on a scatterplot.\n",
    "6. **Comment on the model**. You might also try to fit a seond-order polynomial function that might describe the shape better."
   ]
  },
  {
   "cell_type": "code",
   "execution_count": null,
   "id": "d6fc3137",
   "metadata": {},
   "outputs": [],
   "source": [
    "# Code 5\n",
    "modelledDependent = np.polyval([slope, intercept], independentColumn)"
   ]
  },
  {
   "cell_type": "code",
   "execution_count": null,
   "id": "7185ad80",
   "metadata": {},
   "outputs": [],
   "source": [
    "# Code 6\n",
    "pCoeff = np.polyfit(column1, column2, 2)\n",
    "evaluatedCurve = np.polyval(pCoeff, column1)"
   ]
  },
  {
   "cell_type": "code",
   "execution_count": 3,
   "id": "ed76e45c",
   "metadata": {},
   "outputs": [],
   "source": [
    "census = pd.read_csv('censusCrimeClean.csv')"
   ]
  },
  {
   "cell_type": "markdown",
   "id": "ea322d59",
   "metadata": {},
   "source": [
    "In this case, we're looking to model crimes using socioeconomic data, so your *dependent variable* will be \"ViolentCrimesPerPop\" and your *dependent variable* will be \"medIncome\".\n",
    "\n",
    "*Note* that `medIncome` may not be the best to use as it's not one of the most correlated variables (might be best to use `PctTeen2Par`). However, in analysis, we may have *other* reasons why we might want to include this. We'll include this variable later."
   ]
  },
  {
   "cell_type": "code",
   "execution_count": 58,
   "id": "d5f2d473",
   "metadata": {},
   "outputs": [
    {
     "name": "stdout",
     "output_type": "stream",
     "text": [
      "Slope:  -0.4720854929583652\n",
      "Intercept:  0.4084600410077531\n",
      "p_value:  6.334424808053117e-88\n",
      "std_err:  0.022578802568586777\n"
     ]
    }
   ],
   "source": [
    "# Choose the data\n",
    "medIncome=census[\"medIncome\"];\n",
    "violentCrimesPerPop=census[\"ViolentCrimesPerPop\"];\n",
    "\n",
    "# We first use the linear regression from scipy library which\n",
    "# turns 4 values. We save all the results in variables\n",
    "# Notice that in addition to the slope, we also get the intercept of the line\n",
    "slope, intercept, r_value, p_value, std_err = stats.linregress(medIncome, violentCrimesPerPop)\n",
    "\n",
    "print (\"Slope: \", slope)\n",
    "print (\"Intercept: \", intercept)\n",
    "print (\"p_value: \", p_value)\n",
    "print (\"std_err: \", std_err)"
   ]
  },
  {
   "cell_type": "markdown",
   "id": "4dcf811f",
   "metadata": {},
   "source": [
    "The slope indicates that the model says that for every increase of 1 in income, the crime goes down by 0.47 of a unit (in its units - crimes per head). However, note that these are not in the original units, so you can't directly quantitatively relate to the original concepts."
   ]
  },
  {
   "cell_type": "markdown",
   "id": "af45f6ea",
   "metadata": {},
   "source": [
    "You can do it directly from the slope and intercept paramters (this demonstrates how simple the idea of simple linear regression is!)\n",
    "\n",
    "Using `np.polyval()` as suggested in the lab is unnecessary, as it's a linear equation.\n",
    "\n",
    "Either:\n",
    "1. Calculate 2 points, directly from the parameters\n",
    "2. Calculate every y (dependent variable value) from every x (independent variable value, directly from the parameters\n",
    "3. Use `np.polyval()`"
   ]
  },
  {
   "cell_type": "code",
   "execution_count": 64,
   "id": "b37e7b37",
   "metadata": {},
   "outputs": [
    {
     "data": {
      "text/plain": [
       "[<matplotlib.lines.Line2D at 0x7fde71a16f50>]"
      ]
     },
     "execution_count": 64,
     "metadata": {},
     "output_type": "execute_result"
    },
    {
     "data": {
      "image/png": "[encoded data removed]",
      "text/plain": [
       "<Figure size 432x288 with 1 Axes>"
      ]
     },
     "metadata": {
      "needs_background": "light"
     },
     "output_type": "display_data"
    }
   ],
   "source": [
    "# Method 1: Calculate 2 points directly from the parameters\n",
    "x1=medIncome.min() #min value of the independent variable\n",
    "x2=violentCrimesPerPop.max() #max value of the independent variable\n",
    "y1=x1*slope + intercept #calculate the dependent variable value from x1\n",
    "y2=x2*slope + intercept #calculate the dependent variable value from x2\n",
    "\n",
    "# Plot a scatterplot as before\n",
    "plt.suptitle('medIncome vs. ViolentCrimesPerPop')\n",
    "plt.xlabel('PctKids2Par')\n",
    "plt.ylabel('ViolentCrimesPerPop')\n",
    "plt.scatter(medIncome,violentCrimesPerPop , c = \"#D06B36\", s = 30, alpha = 0.2, linewidth=0)\n",
    "# Overlay the modelled line (all three will be on top of each other)\n",
    "plt.plot([x1,x2],[y1,y2])"
   ]
  },
  {
   "cell_type": "code",
   "execution_count": 68,
   "id": "4e403820",
   "metadata": {},
   "outputs": [
    {
     "data": {
      "text/plain": [
       "[<matplotlib.lines.Line2D at 0x7fde40354290>]"
      ]
     },
     "execution_count": 68,
     "metadata": {},
     "output_type": "execute_result"
    },
    {
     "data": {
      "image/png": "[encoded data removed]",
      "text/plain": [
       "<Figure size 432x288 with 1 Axes>"
      ]
     },
     "metadata": {
      "needs_background": "light"
     },
     "output_type": "display_data"
    }
   ],
   "source": [
    "# Method 2: Calculate every y (dependent variable value) from every x\n",
    "#(independent variable value, directly from the parameters\n",
    "modelledDependentMethod2  = medIncome*slope + intercept\n",
    "\n",
    "# Plot a scatterplot as before\n",
    "plt.suptitle('medIncome vs. ViolentCrimesPerPop')\n",
    "plt.xlabel('PctKids2Par')\n",
    "plt.ylabel('ViolentCrimesPerPop')\n",
    "plt.scatter(medIncome,violentCrimesPerPop , c = \"#D06B36\", s = 30, alpha = 0.2, linewidth=0)\n",
    "# Overlay the modelled line (all three will be on top of each other)\n",
    "plt.plot(medIncome, modelledDependentMethod2)"
   ]
  },
  {
   "cell_type": "code",
   "execution_count": 70,
   "id": "4c0e4d47",
   "metadata": {},
   "outputs": [
    {
     "data": {
      "text/plain": [
       "[<matplotlib.lines.Line2D at 0x7fde4038c350>]"
      ]
     },
     "execution_count": 70,
     "metadata": {},
     "output_type": "execute_result"
    },
    {
     "data": {
      "image/png": "[encoded data removed]",
      "text/plain": [
       "<Figure size 432x288 with 1 Axes>"
      ]
     },
     "metadata": {
      "needs_background": "light"
     },
     "output_type": "display_data"
    }
   ],
   "source": [
    "# Method 3: this was the suggested method in the practical, but is unnecessary,\n",
    "# Because it's linear, so you only need 2 points)\n",
    "modelledDependentMethod3  = np.polyval([slope, intercept], medIncome)\n",
    "\n",
    "# Plot a scatterplot as before\n",
    "plt.suptitle('medIncome vs. ViolentCrimesPerPop')\n",
    "plt.xlabel('PctKids2Par')\n",
    "plt.ylabel('ViolentCrimesPerPop')\n",
    "plt.scatter(medIncome,violentCrimesPerPop , c = \"#D06B36\", s = 30, alpha = 0.2, linewidth=0)\n",
    "# Overlay the modelled line (all three will be on top of each other)\n",
    "plt.plot(medIncome, modelledDependentMethod3)"
   ]
  },
  {
   "cell_type": "markdown",
   "id": "0a53b48b",
   "metadata": {},
   "source": [
    "Visually, the line does not seem to fit well. This is because it's probably not a linear relationship. You can try fitting a polynomial curve. We'll try to fit a second-order curve. And here we do need to use `np.polyval()`. Most of you will have seen that the appeared to be filled in - I now realise this is because the lines joining the xs and calculated ys were not ordered, so jumping about all over the place. A solution is to sort the xs first."
   ]
  },
  {
   "cell_type": "code",
   "execution_count": 75,
   "id": "19eebd16",
   "metadata": {},
   "outputs": [
    {
     "data": {
      "text/plain": [
       "[<matplotlib.lines.Line2D at 0x7fde5439e490>]"
      ]
     },
     "execution_count": 75,
     "metadata": {},
     "output_type": "execute_result"
    },
    {
     "data": {
      "image/png": "[encoded data removed]",
      "text/plain": [
       "<Figure size 432x288 with 1 Axes>"
      ]
     },
     "metadata": {
      "needs_background": "light"
     },
     "output_type": "display_data"
    }
   ],
   "source": [
    "# Fit a second-order curve\n",
    "pCoeff = np.polyfit(medIncome, violentCrimesPerPop, 2)\n",
    "\n",
    "# Sort them, so the curve looks like a curve when drawn\n",
    "xs = np.sort(medIncome)\n",
    "\n",
    "# Calculate value for each of these using the polynomial\n",
    "ys = np.polyval(pCoeff, xs)\n",
    "\n",
    "# Plot the data values\n",
    "plt.scatter(medIncome, violentCrimesPerPop, c = \"#D06B36\", s = 30, alpha = 0.2, linewidth=0)\n",
    "\n",
    "# Plot the linear \"curve\" - make is dashed\n",
    "plt.plot([x1,x2],[y1,y2], \"k--\")\n",
    "\n",
    "# Plot the second order polynomal curve\n",
    "plt.plot(xs, ys, linewidth = 3, fillstyle=\"none\")"
   ]
  },
  {
   "cell_type": "markdown",
   "id": "2bfb0e88",
   "metadata": {},
   "source": [
    "## Multiple Linear Regression\n",
    "As you know, phenomena are often affected by multiple factors. If you know what these multiple factors are likely to be, and have data that represent them, multiple regression will likely produce a better fit.\n",
    "\n",
    "1. Build a multiple regression model. Either use scikit (see above) or try the [OLS function](http://statsmodels.sourceforge.net/devel/generated/statsmodels.regression.linear_model.OLS.html) in `statsmodels` to perform a multiple regression operation and comment on the results. Note that you first model and fit the model to your data (this is using the `statsmodels` example).  \n",
    "`model = sm.OLS(dependent,independents)`  \n",
    "`results = model.fit()`  \n",
    "    Your independent variables will need to be in a list or array. Use the following to get a text description of your results (this example below is using the statsmodels example)\n",
    "`results.summary()`\n",
    "2. **(OPTIONAL)**: `statsmodels` also has an R-style syntax you can use that some people like. See the resource here and repeat."
   ]
  },
  {
   "cell_type": "code",
   "execution_count": 8,
   "id": "67aa92c6",
   "metadata": {},
   "outputs": [
    {
     "data": {
      "text/html": [
       "<table class=\"simpletable\">\n",
       "<caption>OLS Regression Results</caption>\n",
       "<tr>\n",
       "  <th>Dep. Variable:</th>    <td>ViolentCrimesPerPop</td> <th>  R-squared:         </th> <td>   0.438</td> \n",
       "</tr>\n",
       "<tr>\n",
       "  <th>Model:</th>                    <td>OLS</td>         <th>  Adj. R-squared:    </th> <td>   0.437</td> \n",
       "</tr>\n",
       "<tr>\n",
       "  <th>Method:</th>              <td>Least Squares</td>    <th>  F-statistic:       </th> <td>   775.3</td> \n",
       "</tr>\n",
       "<tr>\n",
       "  <th>Date:</th>              <td>Fri, 02 Dec 2022</td>   <th>  Prob (F-statistic):</th> <td>1.01e-249</td>\n",
       "</tr>\n",
       "<tr>\n",
       "  <th>Time:</th>                  <td>16:38:58</td>       <th>  Log-Likelihood:    </th> <td>  650.16</td> \n",
       "</tr>\n",
       "<tr>\n",
       "  <th>No. Observations:</th>       <td>  1994</td>        <th>  AIC:               </th> <td>  -1294.</td> \n",
       "</tr>\n",
       "<tr>\n",
       "  <th>Df Residuals:</th>           <td>  1991</td>        <th>  BIC:               </th> <td>  -1278.</td> \n",
       "</tr>\n",
       "<tr>\n",
       "  <th>Df Model:</th>               <td>     2</td>        <th>                     </th>     <td> </td>    \n",
       "</tr>\n",
       "<tr>\n",
       "  <th>Covariance Type:</th>       <td>nonrobust</td>      <th>                     </th>     <td> </td>    \n",
       "</tr>\n",
       "</table>\n",
       "<table class=\"simpletable\">\n",
       "<tr>\n",
       "       <td></td>          <th>coef</th>     <th>std err</th>      <th>t</th>      <th>P>|t|</th>  <th>[0.025</th>    <th>0.975]</th>  \n",
       "</tr>\n",
       "<tr>\n",
       "  <th>const</th>       <td>    0.7065</td> <td>    0.013</td> <td>   56.172</td> <td> 0.000</td> <td>    0.682</td> <td>    0.731</td>\n",
       "</tr>\n",
       "<tr>\n",
       "  <th>medIncome</th>   <td>   -0.0162</td> <td>    0.024</td> <td>   -0.673</td> <td> 0.501</td> <td>   -0.063</td> <td>    0.031</td>\n",
       "</tr>\n",
       "<tr>\n",
       "  <th>PctTeen2Par</th> <td>   -0.7938</td> <td>    0.026</td> <td>  -30.219</td> <td> 0.000</td> <td>   -0.845</td> <td>   -0.742</td>\n",
       "</tr>\n",
       "</table>\n",
       "<table class=\"simpletable\">\n",
       "<tr>\n",
       "  <th>Omnibus:</th>       <td>312.917</td> <th>  Durbin-Watson:     </th> <td>   1.987</td> \n",
       "</tr>\n",
       "<tr>\n",
       "  <th>Prob(Omnibus):</th> <td> 0.000</td>  <th>  Jarque-Bera (JB):  </th> <td> 604.653</td> \n",
       "</tr>\n",
       "<tr>\n",
       "  <th>Skew:</th>          <td> 0.956</td>  <th>  Prob(JB):          </th> <td>5.03e-132</td>\n",
       "</tr>\n",
       "<tr>\n",
       "  <th>Kurtosis:</th>      <td> 4.904</td>  <th>  Cond. No.          </th> <td>    10.3</td> \n",
       "</tr>\n",
       "</table><br/><br/>Notes:<br/>[1] Standard Errors assume that the covariance matrix of the errors is correctly specified."
      ],
      "text/plain": [
       "<class 'statsmodels.iolib.summary.Summary'>\n",
       "\"\"\"\n",
       "                             OLS Regression Results                            \n",
       "===============================================================================\n",
       "Dep. Variable:     ViolentCrimesPerPop   R-squared:                       0.438\n",
       "Model:                             OLS   Adj. R-squared:                  0.437\n",
       "Method:                  Least Squares   F-statistic:                     775.3\n",
       "Date:                 Fri, 02 Dec 2022   Prob (F-statistic):          1.01e-249\n",
       "Time:                         16:38:58   Log-Likelihood:                 650.16\n",
       "No. Observations:                 1994   AIC:                            -1294.\n",
       "Df Residuals:                     1991   BIC:                            -1278.\n",
       "Df Model:                            2                                         \n",
       "Covariance Type:             nonrobust                                         \n",
       "===============================================================================\n",
       "                  coef    std err          t      P>|t|      [0.025      0.975]\n",
       "-------------------------------------------------------------------------------\n",
       "const           0.7065      0.013     56.172      0.000       0.682       0.731\n",
       "medIncome      -0.0162      0.024     -0.673      0.501      -0.063       0.031\n",
       "PctTeen2Par    -0.7938      0.026    -30.219      0.000      -0.845      -0.742\n",
       "==============================================================================\n",
       "Omnibus:                      312.917   Durbin-Watson:                   1.987\n",
       "Prob(Omnibus):                  0.000   Jarque-Bera (JB):              604.653\n",
       "Skew:                           0.956   Prob(JB):                    5.03e-132\n",
       "Kurtosis:                       4.904   Cond. No.                         10.3\n",
       "==============================================================================\n",
       "\n",
       "Notes:\n",
       "[1] Standard Errors assume that the covariance matrix of the errors is correctly specified.\n",
       "\"\"\""
      ]
     },
     "execution_count": 8,
     "metadata": {},
     "output_type": "execute_result"
    }
   ],
   "source": [
    "# Pick variables\n",
    "dependent = census[\"ViolentCrimesPerPop\"]\n",
    "independents = census[[\"medIncome\", \"PctTeen2Par\"]]\n",
    "\n",
    "# Add a column of ones (1) to an array.\n",
    "independents_withconst = sm.add_constant(independents)\n",
    "\n",
    "# Use the OLS function from statsmodels\n",
    "model = sm.OLS(dependent,independents_withconst)\n",
    "results = model.fit()\n",
    "\n",
    "# Check the result\n",
    "results.summary()"
   ]
  },
  {
   "cell_type": "markdown",
   "id": "27bf22e8",
   "metadata": {},
   "source": [
    "Have a look at [this page](http://www.datarobot.com/blog/ordinary-least-squares-in-python/) for a discussion on the values returned by the summary() function. With multiple regression, the variables interact, so we need to interpret them accordingly.\n",
    "\n",
    "> The estimated rate of change of the conditional mean of \"ViolentCrimesPerPop\" (Y) with respect to \"medIncome\", when \"PctTeen2Par\" is fixed,  is between -0.163 and -0.031 units (i.e., the confidence interval). \n",
    "\n",
    "But remember that these don't directly relate to the original units, because the data have been normalised. However, because they are normalised, we can make direct comparisons with the coefficients. `PctTeen2Par` has a bigger effect on the model that `MedianIncome`. This is not surprising as we have already seen the `PctTeen2Par` is the most correlated."
   ]
  },
  {
   "cell_type": "markdown",
   "id": "09a28e8c",
   "metadata": {},
   "source": [
    "We can calculate the crimes directly, in the same way as before. Or we can use the `predict()` method. We can get the `params` and call the `predict()` function from the model `results`.\n",
    "\n",
    "We can't plots these as a line in 2D as before, because it's a line in 3D space. But we can calculate residuals (difference between modelled and actual crimes) and plot them as histograms.\n",
    "\n",
    "Here, we calculate them manually using both prediction calculation methods and using `results.resid`. All three are equivalent and give the same answer."
   ]
  },
  {
   "cell_type": "code",
   "execution_count": 11,
   "id": "5c482a5d",
   "metadata": {},
   "outputs": [
    {
     "data": {
      "text/plain": [
       "const          0.706495\n",
       "medIncome     -0.016172\n",
       "PctTeen2Par   -0.793770\n",
       "dtype: float64"
      ]
     },
     "execution_count": 11,
     "metadata": {},
     "output_type": "execute_result"
    }
   ],
   "source": [
    "# Checkout the params\n",
    "results.params"
   ]
  },
  {
   "cell_type": "code",
   "execution_count": 13,
   "id": "1ea6473e",
   "metadata": {},
   "outputs": [
    {
     "data": {
      "image/png": "[encoded data removed]",
      "text/plain": [
       "<Figure size 432x288 with 1 Axes>"
      ]
     },
     "metadata": {
      "needs_background": "light"
     },
     "output_type": "display_data"
    }
   ],
   "source": [
    "#Calculating dependent variable values from the predict method\n",
    "modelledDependentOLSPredict  = results.predict()\n",
    "\n",
    "# Calculating dependent variable values from parameters directly (don't recommend this)\n",
    "# modelledDependentOLSDirect  = census['medIncome']*results.params['medIncome'] + census['PctTeen2Par']*results.params['PctTeen2Par'] + results.params['const']\n",
    "\n",
    "#Calculate the residuals\n",
    "residuals=results.resid\n",
    "\n",
    "# Calculate the residuals manually (don't recommend this)\n",
    "# residualsDirect=dependent-modelledDependentOLSDirect\n",
    "# residualsPredict=dependent-modelledDependentOLSDirect\n",
    "\n",
    "# Plot the residual\n",
    "plt.hist(residuals, 20)\n",
    "plt.title(\"Histogram of residual map\")\n",
    "plt.show()"
   ]
  },
  {
   "cell_type": "markdown",
   "id": "6607d033",
   "metadata": {},
   "source": [
    "So most of the residuals are within around +/- 0.3. This means that the crimes are mostly under/over reported within around +/- 0.3. Are these residuals big (indicating a poor model) or small (indicating a good model?\n",
    "\n",
    "Such effect sizes need to be considered within the original context of the data. However, remember that these data are not in the original units. So it might be worth considering in the context of the varition of the crime data."
   ]
  },
  {
   "cell_type": "code",
   "execution_count": 14,
   "id": "51b1c336",
   "metadata": {},
   "outputs": [
    {
     "data": {
      "text/plain": [
       "0.2329849017279638"
      ]
     },
     "execution_count": 14,
     "metadata": {},
     "output_type": "execute_result"
    }
   ],
   "source": [
    "# Check standard deviation of dependent\n",
    "dependent.std()"
   ]
  },
  {
   "cell_type": "code",
   "execution_count": 15,
   "id": "4ee39838",
   "metadata": {},
   "outputs": [
    {
     "data": {
      "image/png": "[encoded data removed]",
      "text/plain": [
       "<Figure size 432x288 with 1 Axes>"
      ]
     },
     "metadata": {
      "needs_background": "light"
     },
     "output_type": "display_data"
    }
   ],
   "source": [
    "plt.boxplot(dependent);"
   ]
  },
  {
   "cell_type": "markdown",
   "id": "c70c7909",
   "metadata": {},
   "source": [
    "As discussed, these data are not in the original meaningful units - they are range-normalised to between 0-1, and has a standard deviation of 0.23. This gives you the text with which to consider your answer. These residuals are quite large, but not really large, indicating that it describes at least some of the variation in the data."
   ]
  },
  {
   "cell_type": "markdown",
   "id": "083bbeb7",
   "metadata": {},
   "source": [
    "This is confirmed with more standard measures that you can extract from `results`."
   ]
  },
  {
   "cell_type": "code",
   "execution_count": 16,
   "id": "2cd74f01",
   "metadata": {},
   "outputs": [
    {
     "name": "stdout",
     "output_type": "stream",
     "text": [
      "R-squared: 0.43781818848568776\n",
      "MSE model: 23.682451625908875\n",
      "MSE residuals: 0.030546987374951425\n",
      "MSE total: 0.05428196443318918\n"
     ]
    }
   ],
   "source": [
    "print(\"R-squared:\",results.rsquared)\n",
    "print(\"MSE model:\",results.mse_model)\n",
    "print(\"MSE residuals:\",results.mse_resid)\n",
    "print(\"MSE total:\",results.mse_total)"
   ]
  },
  {
   "cell_type": "markdown",
   "id": "2cf35b4b",
   "metadata": {},
   "source": [
    "The r-squared is quite high indicating a reasonable model. Again, see [this page](http://www.datarobot.com/blog/ordinary-least-squares-in-python/) for how to interpret these things.\n"
   ]
  },
  {
   "cell_type": "markdown",
   "id": "4d26a2ea",
   "metadata": {},
   "source": [
    "### Same thing but written in R-style\n",
    "This is just an alternative way of specifying a model."
   ]
  },
  {
   "cell_type": "code",
   "execution_count": 19,
   "id": "924317ba",
   "metadata": {},
   "outputs": [
    {
     "data": {
      "text/html": [
       "<table class=\"simpletable\">\n",
       "<caption>OLS Regression Results</caption>\n",
       "<tr>\n",
       "  <th>Dep. Variable:</th>    <td>ViolentCrimesPerPop</td> <th>  R-squared (uncentered):</th>      <td>   0.725</td>\n",
       "</tr>\n",
       "<tr>\n",
       "  <th>Model:</th>                    <td>OLS</td>         <th>  Adj. R-squared (uncentered):</th> <td>   0.725</td>\n",
       "</tr>\n",
       "<tr>\n",
       "  <th>Method:</th>              <td>Least Squares</td>    <th>  F-statistic:       </th>          <td>   1749.</td>\n",
       "</tr>\n",
       "<tr>\n",
       "  <th>Date:</th>              <td>Fri, 02 Dec 2022</td>   <th>  Prob (F-statistic):</th>           <td>  0.00</td> \n",
       "</tr>\n",
       "<tr>\n",
       "  <th>Time:</th>                  <td>16:57:17</td>       <th>  Log-Likelihood:    </th>          <td>  650.16</td>\n",
       "</tr>\n",
       "<tr>\n",
       "  <th>No. Observations:</th>       <td>  1994</td>        <th>  AIC:               </th>          <td>  -1294.</td>\n",
       "</tr>\n",
       "<tr>\n",
       "  <th>Df Residuals:</th>           <td>  1991</td>        <th>  BIC:               </th>          <td>  -1278.</td>\n",
       "</tr>\n",
       "<tr>\n",
       "  <th>Df Model:</th>               <td>     3</td>        <th>                     </th>              <td> </td>   \n",
       "</tr>\n",
       "<tr>\n",
       "  <th>Covariance Type:</th>       <td>nonrobust</td>      <th>                     </th>              <td> </td>   \n",
       "</tr>\n",
       "</table>\n",
       "<table class=\"simpletable\">\n",
       "<tr>\n",
       "       <td></td>          <th>coef</th>     <th>std err</th>      <th>t</th>      <th>P>|t|</th>  <th>[0.025</th>    <th>0.975]</th>  \n",
       "</tr>\n",
       "<tr>\n",
       "  <th>Intercept</th>   <td>    0.7065</td> <td>    0.013</td> <td>   56.172</td> <td> 0.000</td> <td>    0.682</td> <td>    0.731</td>\n",
       "</tr>\n",
       "<tr>\n",
       "  <th>medIncome</th>   <td>   -0.0162</td> <td>    0.024</td> <td>   -0.673</td> <td> 0.501</td> <td>   -0.063</td> <td>    0.031</td>\n",
       "</tr>\n",
       "<tr>\n",
       "  <th>PctTeen2Par</th> <td>   -0.7938</td> <td>    0.026</td> <td>  -30.219</td> <td> 0.000</td> <td>   -0.845</td> <td>   -0.742</td>\n",
       "</tr>\n",
       "</table>\n",
       "<table class=\"simpletable\">\n",
       "<tr>\n",
       "  <th>Omnibus:</th>       <td>312.917</td> <th>  Durbin-Watson:     </th> <td>   1.987</td> \n",
       "</tr>\n",
       "<tr>\n",
       "  <th>Prob(Omnibus):</th> <td> 0.000</td>  <th>  Jarque-Bera (JB):  </th> <td> 604.653</td> \n",
       "</tr>\n",
       "<tr>\n",
       "  <th>Skew:</th>          <td> 0.956</td>  <th>  Prob(JB):          </th> <td>5.03e-132</td>\n",
       "</tr>\n",
       "<tr>\n",
       "  <th>Kurtosis:</th>      <td> 4.904</td>  <th>  Cond. No.          </th> <td>    10.3</td> \n",
       "</tr>\n",
       "</table><br/><br/>Notes:<br/>[1] R² is computed without centering (uncentered) since the model does not contain a constant.<br/>[2] Standard Errors assume that the covariance matrix of the errors is correctly specified."
      ],
      "text/plain": [
       "<class 'statsmodels.iolib.summary.Summary'>\n",
       "\"\"\"\n",
       "                                 OLS Regression Results                                 \n",
       "========================================================================================\n",
       "Dep. Variable:     ViolentCrimesPerPop   R-squared (uncentered):                   0.725\n",
       "Model:                             OLS   Adj. R-squared (uncentered):              0.725\n",
       "Method:                  Least Squares   F-statistic:                              1749.\n",
       "Date:                 Fri, 02 Dec 2022   Prob (F-statistic):                        0.00\n",
       "Time:                         16:57:17   Log-Likelihood:                          650.16\n",
       "No. Observations:                 1994   AIC:                                     -1294.\n",
       "Df Residuals:                     1991   BIC:                                     -1278.\n",
       "Df Model:                            3                                                  \n",
       "Covariance Type:             nonrobust                                                  \n",
       "===============================================================================\n",
       "                  coef    std err          t      P>|t|      [0.025      0.975]\n",
       "-------------------------------------------------------------------------------\n",
       "Intercept       0.7065      0.013     56.172      0.000       0.682       0.731\n",
       "medIncome      -0.0162      0.024     -0.673      0.501      -0.063       0.031\n",
       "PctTeen2Par    -0.7938      0.026    -30.219      0.000      -0.845      -0.742\n",
       "==============================================================================\n",
       "Omnibus:                      312.917   Durbin-Watson:                   1.987\n",
       "Prob(Omnibus):                  0.000   Jarque-Bera (JB):              604.653\n",
       "Skew:                           0.956   Prob(JB):                    5.03e-132\n",
       "Kurtosis:                       4.904   Cond. No.                         10.3\n",
       "==============================================================================\n",
       "\n",
       "Notes:\n",
       "[1] R² is computed without centering (uncentered) since the model does not contain a constant.\n",
       "[2] Standard Errors assume that the covariance matrix of the errors is correctly specified.\n",
       "\"\"\""
      ]
     },
     "execution_count": 19,
     "metadata": {},
     "output_type": "execute_result"
    }
   ],
   "source": [
    "# This method uses R style patsy formulas to indicate the relations\n",
    "model2 = sm.formula.ols(formula='ViolentCrimesPerPop ~ medIncome + PctTeen2Par', data=census, hasconst = False)\n",
    "results2 = model2.fit()\n",
    "\n",
    "# Check results\n",
    "results2.summary()"
   ]
  },
  {
   "cell_type": "markdown",
   "id": "b2aa4400",
   "metadata": {},
   "source": [
    "# Exercise 3: Logistic regression to analyse Titanic survival\n",
    "When the variable that we are trying to predict is binary (or categorial) variable, logistic regression may be suitable.\n",
    "\n",
    "Here, we will try to build a model that aims to estimate the survival rates using the Titanic survival data set. We want to understand how important the characteristic of the people involved in explaining survival. We will be building a predictive model to help in our analysis.\n",
    "\n",
    "We used this dataset ([Titanic Survival Dataset](https://moodle.city.ac.uk/pluginfile.php/2782683/mod_page/content/5/titanicDataFull.csv)) already when considering missing values in week 2. We will have the binary `survival` column as our dependent variable.\n",
    "\n",
    "Here are the variable meta-data:\n",
    "\n",
    "`Survived` - Survival (0 = No; 1 = Yes)  \n",
    "`Pclass` - Passenger Ticket Class (1 = 1st; 2 = 2nd; 3 = 3rd)  \n",
    "`Name` - Name  \n",
    "`Sex` - Sex  \n",
    "`Age` - Age  \n",
    "`SibSp` - Number of Siblings/Spouses Aboard  \n",
    "`Parch` - Number of Parents/Children Aboard  \n",
    "`Ticket` - Ticket Number  \n",
    "`Fare` - Passenger Fare (British pound)  \n",
    "`Cabin` - Cabin Number  \n",
    "`Embarked` - Port of Embarkation (C = Cherbourg; Q = Queenstown; S = Southampton)  \n",
    "\n",
    "There is more [information on Kaggle](https://www.kaggle.com/c/titanic/data) where this data was sourced."
   ]
  },
  {
   "cell_type": "markdown",
   "id": "0e928672",
   "metadata": {},
   "source": [
    "By now, you know how to approach the modelling process from the start to the finish but here are some guiding steps:\n",
    "\n",
    "1. Start by identifying your dependent and independent variables by reflecting on the features, what are you trying to model, which features could prove to be irrelevant, which features would you expect to play a role, do you foresee any inderdependencies?\n",
    "2. Have a look into all the variables and check for issues, e.g., missing values.\n",
    "3. Discard features with significant data quality issues and try to resolve the missing value issues.\n",
    "4. Consider generating and adding dummy variables by encoding variables as binary columns. Pandas has a good function to help with that: [pandas.get_dummies()](https://pandas.pydata.org/pandas-docs/stable/generated/pandas.get_dummies.html)\n",
    "5. Consider normalising some of your features\n",
    "6. Look for covariation in your features and check if there are redundancies, drop features if needed and comment on implications.\n",
    "7. When you are happy with your data, you can split into train / test and run the models. For educational purposes, you can try to use both the [statsmodels](http://www.statsmodels.org/dev/generated/statsmodels.discrete.discrete_model.Logit.html) and [scikit-learn](http://scikit-learn.org/stable/modules/generated/sklearn.linear_model.LogisticRegression.html) versions of logistic regression.\n",
    "8. You can evaluate your model using diagnostic measures such as confusion matrices (using some [helper functions](http://scikit-learn.org/stable/modules/generated/sklearn.metrics.classification_report.html)) or the summary output of statsmodels (More on this in Week-08):"
   ]
  },
  {
   "cell_type": "code",
   "execution_count": null,
   "id": "b6970191",
   "metadata": {},
   "outputs": [],
   "source": [
    "logit_sm = sm.Logit(y_train, X_train)\n",
    "# fit the model\n",
    "result = logit_sm.fit()\n",
    "# Let's use the very nice summary function of statsmodels\n",
    "# This is informing us about the model fit. \n",
    "# Pseudo R-squ. is a measure to look into and informing us on the overall fit.\n",
    "print (result.summary())"
   ]
  },
  {
   "cell_type": "markdown",
   "id": "eacdfd33",
   "metadata": {},
   "source": [
    "9. Have a close look at the coefficients and what they tell you regarding the characteristics of the survivors. Do they make sense, do they tell you a story? This is the understanding/explanatory power of models."
   ]
  },
  {
   "cell_type": "code",
   "execution_count": 2,
   "id": "ea9b7626",
   "metadata": {},
   "outputs": [
    {
     "data": {
      "text/html": [
       "<div>\n",
       "<style scoped>\n",
       "    .dataframe tbody tr th:only-of-type {\n",
       "        vertical-align: middle;\n",
       "    }\n",
       "\n",
       "    .dataframe tbody tr th {\n",
       "        vertical-align: top;\n",
       "    }\n",
       "\n",
       "    .dataframe thead th {\n",
       "        text-align: right;\n",
       "    }\n",
       "</style>\n",
       "<table border=\"1\" class=\"dataframe\">\n",
       "  <thead>\n",
       "    <tr style=\"text-align: right;\">\n",
       "      <th></th>\n",
       "      <th>PassengerId</th>\n",
       "      <th>Survived</th>\n",
       "      <th>Pclass</th>\n",
       "      <th>Name</th>\n",
       "      <th>Sex</th>\n",
       "      <th>Age</th>\n",
       "      <th>SibSp</th>\n",
       "      <th>Parch</th>\n",
       "      <th>Ticket</th>\n",
       "      <th>Fare</th>\n",
       "      <th>Cabin</th>\n",
       "      <th>Embarked</th>\n",
       "    </tr>\n",
       "  </thead>\n",
       "  <tbody>\n",
       "    <tr>\n",
       "      <th>0</th>\n",
       "      <td>1</td>\n",
       "      <td>0</td>\n",
       "      <td>3</td>\n",
       "      <td>Braund, Mr. Owen Harris</td>\n",
       "      <td>male</td>\n",
       "      <td>22.0</td>\n",
       "      <td>1</td>\n",
       "      <td>0</td>\n",
       "      <td>A/5 21171</td>\n",
       "      <td>7.2500</td>\n",
       "      <td>NaN</td>\n",
       "      <td>S</td>\n",
       "    </tr>\n",
       "    <tr>\n",
       "      <th>1</th>\n",
       "      <td>2</td>\n",
       "      <td>1</td>\n",
       "      <td>1</td>\n",
       "      <td>Cumings, Mrs. John Bradley (Florence Briggs Th...</td>\n",
       "      <td>female</td>\n",
       "      <td>38.0</td>\n",
       "      <td>1</td>\n",
       "      <td>0</td>\n",
       "      <td>PC 17599</td>\n",
       "      <td>71.2833</td>\n",
       "      <td>C85</td>\n",
       "      <td>C</td>\n",
       "    </tr>\n",
       "    <tr>\n",
       "      <th>2</th>\n",
       "      <td>3</td>\n",
       "      <td>1</td>\n",
       "      <td>3</td>\n",
       "      <td>Heikkinen, Miss. Laina</td>\n",
       "      <td>female</td>\n",
       "      <td>26.0</td>\n",
       "      <td>0</td>\n",
       "      <td>0</td>\n",
       "      <td>STON/O2. 3101282</td>\n",
       "      <td>7.9250</td>\n",
       "      <td>NaN</td>\n",
       "      <td>S</td>\n",
       "    </tr>\n",
       "    <tr>\n",
       "      <th>3</th>\n",
       "      <td>4</td>\n",
       "      <td>1</td>\n",
       "      <td>1</td>\n",
       "      <td>Futrelle, Mrs. Jacques Heath (Lily May Peel)</td>\n",
       "      <td>female</td>\n",
       "      <td>35.0</td>\n",
       "      <td>1</td>\n",
       "      <td>0</td>\n",
       "      <td>113803</td>\n",
       "      <td>53.1000</td>\n",
       "      <td>C123</td>\n",
       "      <td>S</td>\n",
       "    </tr>\n",
       "    <tr>\n",
       "      <th>4</th>\n",
       "      <td>5</td>\n",
       "      <td>0</td>\n",
       "      <td>3</td>\n",
       "      <td>Allen, Mr. William Henry</td>\n",
       "      <td>male</td>\n",
       "      <td>35.0</td>\n",
       "      <td>0</td>\n",
       "      <td>0</td>\n",
       "      <td>373450</td>\n",
       "      <td>8.0500</td>\n",
       "      <td>NaN</td>\n",
       "      <td>S</td>\n",
       "    </tr>\n",
       "  </tbody>\n",
       "</table>\n",
       "</div>"
      ],
      "text/plain": [
       "   PassengerId  Survived  Pclass  \\\n",
       "0            1         0       3   \n",
       "1            2         1       1   \n",
       "2            3         1       3   \n",
       "3            4         1       1   \n",
       "4            5         0       3   \n",
       "\n",
       "                                                Name     Sex   Age  SibSp  \\\n",
       "0                            Braund, Mr. Owen Harris    male  22.0      1   \n",
       "1  Cumings, Mrs. John Bradley (Florence Briggs Th...  female  38.0      1   \n",
       "2                             Heikkinen, Miss. Laina  female  26.0      0   \n",
       "3       Futrelle, Mrs. Jacques Heath (Lily May Peel)  female  35.0      1   \n",
       "4                           Allen, Mr. William Henry    male  35.0      0   \n",
       "\n",
       "   Parch            Ticket     Fare Cabin Embarked  \n",
       "0      0         A/5 21171   7.2500   NaN        S  \n",
       "1      0          PC 17599  71.2833   C85        C  \n",
       "2      0  STON/O2. 3101282   7.9250   NaN        S  \n",
       "3      0            113803  53.1000  C123        S  \n",
       "4      0            373450   8.0500   NaN        S  "
      ]
     },
     "execution_count": 2,
     "metadata": {},
     "output_type": "execute_result"
    }
   ],
   "source": [
    "# Load data\n",
    "titanic = pd.read_csv('titanicDataFull.csv')\n",
    "titanic.head()"
   ]
  },
  {
   "cell_type": "code",
   "execution_count": 27,
   "id": "d685a38b",
   "metadata": {},
   "outputs": [
    {
     "data": {
      "image/png": "[encoded data removed]",
      "text/plain": [
       "<Figure size 432x288 with 1 Axes>"
      ]
     },
     "metadata": {
      "needs_background": "light"
     },
     "output_type": "display_data"
    }
   ],
   "source": [
    "# Exploratory\n",
    "sns.countplot(x='Survived',data=titanic, palette='hls')\n",
    "plt.show()"
   ]
  },
  {
   "cell_type": "code",
   "execution_count": 28,
   "id": "3619d757",
   "metadata": {},
   "outputs": [
    {
     "data": {
      "text/plain": [
       "PassengerId      0\n",
       "Survived         0\n",
       "Pclass           0\n",
       "Name             0\n",
       "Sex              0\n",
       "Age            177\n",
       "SibSp            0\n",
       "Parch            0\n",
       "Ticket           0\n",
       "Fare             0\n",
       "Cabin          687\n",
       "Embarked         2\n",
       "dtype: int64"
      ]
     },
     "execution_count": 28,
     "metadata": {},
     "output_type": "execute_result"
    }
   ],
   "source": [
    "titanic.isnull().sum()"
   ]
  },
  {
   "cell_type": "code",
   "execution_count": 29,
   "id": "e32a98ac",
   "metadata": {},
   "outputs": [
    {
     "name": "stdout",
     "output_type": "stream",
     "text": [
      "<class 'pandas.core.frame.DataFrame'>\n",
      "RangeIndex: 891 entries, 0 to 890\n",
      "Data columns (total 12 columns):\n",
      " #   Column       Non-Null Count  Dtype  \n",
      "---  ------       --------------  -----  \n",
      " 0   PassengerId  891 non-null    int64  \n",
      " 1   Survived     891 non-null    int64  \n",
      " 2   Pclass       891 non-null    int64  \n",
      " 3   Name         891 non-null    object \n",
      " 4   Sex          891 non-null    object \n",
      " 5   Age          714 non-null    float64\n",
      " 6   SibSp        891 non-null    int64  \n",
      " 7   Parch        891 non-null    int64  \n",
      " 8   Ticket       891 non-null    object \n",
      " 9   Fare         891 non-null    float64\n",
      " 10  Cabin        204 non-null    object \n",
      " 11  Embarked     889 non-null    object \n",
      "dtypes: float64(2), int64(5), object(5)\n",
      "memory usage: 83.7+ KB\n"
     ]
    }
   ],
   "source": [
    "titanic.info()"
   ]
  },
  {
   "cell_type": "markdown",
   "id": "9cc715d7",
   "metadata": {},
   "source": [
    "Cabin and Age have missing values. Cabin has 687 (of 891) missing values, so better exclude from the analysis. We can also make a judgement to drop `PassengerId`,`Name`,`Ticket` as they cannot contribute to this analysis semantically."
   ]
  },
  {
   "cell_type": "code",
   "execution_count": 3,
   "id": "231eea79",
   "metadata": {},
   "outputs": [
    {
     "data": {
      "text/html": [
       "<div>\n",
       "<style scoped>\n",
       "    .dataframe tbody tr th:only-of-type {\n",
       "        vertical-align: middle;\n",
       "    }\n",
       "\n",
       "    .dataframe tbody tr th {\n",
       "        vertical-align: top;\n",
       "    }\n",
       "\n",
       "    .dataframe thead th {\n",
       "        text-align: right;\n",
       "    }\n",
       "</style>\n",
       "<table border=\"1\" class=\"dataframe\">\n",
       "  <thead>\n",
       "    <tr style=\"text-align: right;\">\n",
       "      <th></th>\n",
       "      <th>Survived</th>\n",
       "      <th>Pclass</th>\n",
       "      <th>Sex</th>\n",
       "      <th>Age</th>\n",
       "      <th>SibSp</th>\n",
       "      <th>Parch</th>\n",
       "      <th>Fare</th>\n",
       "      <th>Embarked</th>\n",
       "    </tr>\n",
       "  </thead>\n",
       "  <tbody>\n",
       "    <tr>\n",
       "      <th>0</th>\n",
       "      <td>0</td>\n",
       "      <td>3</td>\n",
       "      <td>male</td>\n",
       "      <td>22.0</td>\n",
       "      <td>1</td>\n",
       "      <td>0</td>\n",
       "      <td>7.2500</td>\n",
       "      <td>S</td>\n",
       "    </tr>\n",
       "    <tr>\n",
       "      <th>1</th>\n",
       "      <td>1</td>\n",
       "      <td>1</td>\n",
       "      <td>female</td>\n",
       "      <td>38.0</td>\n",
       "      <td>1</td>\n",
       "      <td>0</td>\n",
       "      <td>71.2833</td>\n",
       "      <td>C</td>\n",
       "    </tr>\n",
       "    <tr>\n",
       "      <th>2</th>\n",
       "      <td>1</td>\n",
       "      <td>3</td>\n",
       "      <td>female</td>\n",
       "      <td>26.0</td>\n",
       "      <td>0</td>\n",
       "      <td>0</td>\n",
       "      <td>7.9250</td>\n",
       "      <td>S</td>\n",
       "    </tr>\n",
       "    <tr>\n",
       "      <th>3</th>\n",
       "      <td>1</td>\n",
       "      <td>1</td>\n",
       "      <td>female</td>\n",
       "      <td>35.0</td>\n",
       "      <td>1</td>\n",
       "      <td>0</td>\n",
       "      <td>53.1000</td>\n",
       "      <td>S</td>\n",
       "    </tr>\n",
       "    <tr>\n",
       "      <th>4</th>\n",
       "      <td>0</td>\n",
       "      <td>3</td>\n",
       "      <td>male</td>\n",
       "      <td>35.0</td>\n",
       "      <td>0</td>\n",
       "      <td>0</td>\n",
       "      <td>8.0500</td>\n",
       "      <td>S</td>\n",
       "    </tr>\n",
       "  </tbody>\n",
       "</table>\n",
       "</div>"
      ],
      "text/plain": [
       "   Survived  Pclass     Sex   Age  SibSp  Parch     Fare Embarked\n",
       "0         0       3    male  22.0      1      0   7.2500        S\n",
       "1         1       1  female  38.0      1      0  71.2833        C\n",
       "2         1       3  female  26.0      0      0   7.9250        S\n",
       "3         1       1  female  35.0      1      0  53.1000        S\n",
       "4         0       3    male  35.0      0      0   8.0500        S"
      ]
     },
     "execution_count": 3,
     "metadata": {},
     "output_type": "execute_result"
    }
   ],
   "source": [
    "titanic.drop(columns=['PassengerId','Name','Ticket','Cabin'], axis=1, inplace=True)\n",
    "titanic.head()"
   ]
  },
  {
   "cell_type": "code",
   "execution_count": 40,
   "id": "534545ca",
   "metadata": {},
   "outputs": [
    {
     "data": {
      "image/png": "[encoded data removed]",
      "text/plain": [
       "<Figure size 432x288 with 1 Axes>"
      ]
     },
     "metadata": {
      "needs_background": "light"
     },
     "output_type": "display_data"
    }
   ],
   "source": [
    "sns.boxplot(x='Pclass', y='Age', data=titanic, palette='hls')\n",
    "plt.show()"
   ]
  },
  {
   "cell_type": "markdown",
   "id": "1240fd27",
   "metadata": {},
   "source": [
    "There seems to be a dependency between age and class, so let's use class to impute missing age values. (This is just an analytical judgement call!)"
   ]
  },
  {
   "cell_type": "code",
   "execution_count": 4,
   "id": "2f04be7c",
   "metadata": {},
   "outputs": [
    {
     "data": {
      "text/plain": [
       "Pclass\n",
       "1    38.233441\n",
       "2    29.877630\n",
       "3    25.140620\n",
       "Name: Age, dtype: float64"
      ]
     },
     "execution_count": 4,
     "metadata": {},
     "output_type": "execute_result"
    }
   ],
   "source": [
    "groupAverages = titanic.groupby(['Pclass'])['Age'].mean()\n",
    "groupAverages"
   ]
  },
  {
   "cell_type": "code",
   "execution_count": 5,
   "id": "d28ce31a",
   "metadata": {},
   "outputs": [],
   "source": [
    "# Create function to fill in null values with mean\n",
    "def age_approx(cols):\n",
    "    Age = cols[0]\n",
    "    Pclass = cols[1]  \n",
    "    \n",
    "    if pd.isnull(Age):\n",
    "        if Pclass == 1:\n",
    "            return groupAverages[1]\n",
    "        elif Pclass == 2:\n",
    "            return groupAverages[2]\n",
    "        else:\n",
    "            return groupAverages[3]\n",
    "    else:\n",
    "        return Age"
   ]
  },
  {
   "cell_type": "code",
   "execution_count": 6,
   "id": "120246c1",
   "metadata": {},
   "outputs": [
    {
     "data": {
      "text/plain": [
       "Survived    0\n",
       "Pclass      0\n",
       "Sex         0\n",
       "Age         0\n",
       "SibSp       0\n",
       "Parch       0\n",
       "Fare        0\n",
       "Embarked    2\n",
       "dtype: int64"
      ]
     },
     "execution_count": 6,
     "metadata": {},
     "output_type": "execute_result"
    }
   ],
   "source": [
    "# Apply the function\n",
    "titanic['Age'] = titanic[['Age', 'Pclass']].apply(age_approx, axis=1)\n",
    "\n",
    "# Check if there is any null\n",
    "titanic.isnull().sum()"
   ]
  },
  {
   "cell_type": "markdown",
   "id": "072ccf0a",
   "metadata": {},
   "source": [
    "There are still null(s), but it is the minority, so we'll drop them"
   ]
  },
  {
   "cell_type": "code",
   "execution_count": 7,
   "id": "20393aef",
   "metadata": {},
   "outputs": [
    {
     "data": {
      "text/plain": [
       "Survived    0\n",
       "Pclass      0\n",
       "Sex         0\n",
       "Age         0\n",
       "SibSp       0\n",
       "Parch       0\n",
       "Fare        0\n",
       "Embarked    0\n",
       "dtype: int64"
      ]
     },
     "execution_count": 7,
     "metadata": {},
     "output_type": "execute_result"
    }
   ],
   "source": [
    "# Drop\n",
    "titanic.dropna(inplace=True)\n",
    "\n",
    "# Check again\n",
    "titanic.isnull().sum()"
   ]
  },
  {
   "cell_type": "markdown",
   "id": "521488e7",
   "metadata": {},
   "source": [
    "OK, now we're ready!\n",
    "\n",
    "Let's start preparing the variables. We need to create dummy variables for the categorical ones."
   ]
  },
  {
   "cell_type": "code",
   "execution_count": 8,
   "id": "89331344",
   "metadata": {},
   "outputs": [
    {
     "data": {
      "text/html": [
       "<div>\n",
       "<style scoped>\n",
       "    .dataframe tbody tr th:only-of-type {\n",
       "        vertical-align: middle;\n",
       "    }\n",
       "\n",
       "    .dataframe tbody tr th {\n",
       "        vertical-align: top;\n",
       "    }\n",
       "\n",
       "    .dataframe thead th {\n",
       "        text-align: right;\n",
       "    }\n",
       "</style>\n",
       "<table border=\"1\" class=\"dataframe\">\n",
       "  <thead>\n",
       "    <tr style=\"text-align: right;\">\n",
       "      <th></th>\n",
       "      <th>sex__male</th>\n",
       "    </tr>\n",
       "  </thead>\n",
       "  <tbody>\n",
       "    <tr>\n",
       "      <th>0</th>\n",
       "      <td>1</td>\n",
       "    </tr>\n",
       "    <tr>\n",
       "      <th>1</th>\n",
       "      <td>0</td>\n",
       "    </tr>\n",
       "    <tr>\n",
       "      <th>2</th>\n",
       "      <td>0</td>\n",
       "    </tr>\n",
       "    <tr>\n",
       "      <th>3</th>\n",
       "      <td>0</td>\n",
       "    </tr>\n",
       "    <tr>\n",
       "      <th>4</th>\n",
       "      <td>1</td>\n",
       "    </tr>\n",
       "  </tbody>\n",
       "</table>\n",
       "</div>"
      ],
      "text/plain": [
       "   sex__male\n",
       "0          1\n",
       "1          0\n",
       "2          0\n",
       "3          0\n",
       "4          1"
      ]
     },
     "execution_count": 8,
     "metadata": {},
     "output_type": "execute_result"
    }
   ],
   "source": [
    "# Here, we need to create dummies for the categorical variables, for Sex and Embarked\n",
    "gender = pd.get_dummies(titanic['Sex'],drop_first=True, prefix='sex_')\n",
    "gender.head()"
   ]
  },
  {
   "cell_type": "code",
   "execution_count": 9,
   "id": "817f8b99",
   "metadata": {},
   "outputs": [
    {
     "data": {
      "text/html": [
       "<div>\n",
       "<style scoped>\n",
       "    .dataframe tbody tr th:only-of-type {\n",
       "        vertical-align: middle;\n",
       "    }\n",
       "\n",
       "    .dataframe tbody tr th {\n",
       "        vertical-align: top;\n",
       "    }\n",
       "\n",
       "    .dataframe thead th {\n",
       "        text-align: right;\n",
       "    }\n",
       "</style>\n",
       "<table border=\"1\" class=\"dataframe\">\n",
       "  <thead>\n",
       "    <tr style=\"text-align: right;\">\n",
       "      <th></th>\n",
       "      <th>Embarked__Q</th>\n",
       "      <th>Embarked__S</th>\n",
       "    </tr>\n",
       "  </thead>\n",
       "  <tbody>\n",
       "    <tr>\n",
       "      <th>0</th>\n",
       "      <td>0</td>\n",
       "      <td>1</td>\n",
       "    </tr>\n",
       "    <tr>\n",
       "      <th>1</th>\n",
       "      <td>0</td>\n",
       "      <td>0</td>\n",
       "    </tr>\n",
       "    <tr>\n",
       "      <th>2</th>\n",
       "      <td>0</td>\n",
       "      <td>1</td>\n",
       "    </tr>\n",
       "    <tr>\n",
       "      <th>3</th>\n",
       "      <td>0</td>\n",
       "      <td>1</td>\n",
       "    </tr>\n",
       "    <tr>\n",
       "      <th>4</th>\n",
       "      <td>0</td>\n",
       "      <td>1</td>\n",
       "    </tr>\n",
       "  </tbody>\n",
       "</table>\n",
       "</div>"
      ],
      "text/plain": [
       "   Embarked__Q  Embarked__S\n",
       "0            0            1\n",
       "1            0            0\n",
       "2            0            1\n",
       "3            0            1\n",
       "4            0            1"
      ]
     },
     "execution_count": 9,
     "metadata": {},
     "output_type": "execute_result"
    }
   ],
   "source": [
    "embark_location = pd.get_dummies(titanic['Embarked'],drop_first=True, prefix='Embarked_')\n",
    "embark_location.head()"
   ]
  },
  {
   "cell_type": "code",
   "execution_count": 10,
   "id": "d8db1be0",
   "metadata": {},
   "outputs": [],
   "source": [
    "# Since we added the dummy variables, we drop the originals\n",
    "titanic.drop(['Sex', 'Embarked'],axis=1,inplace=True)"
   ]
  },
  {
   "cell_type": "code",
   "execution_count": 11,
   "id": "b66ff921",
   "metadata": {},
   "outputs": [],
   "source": [
    "# Add these to our dataframe\n",
    "titanic_dmy = pd.concat([titanic,gender,embark_location],axis=1)"
   ]
  },
  {
   "cell_type": "code",
   "execution_count": 12,
   "id": "0adc3093",
   "metadata": {},
   "outputs": [
    {
     "data": {
      "text/html": [
       "<div>\n",
       "<style scoped>\n",
       "    .dataframe tbody tr th:only-of-type {\n",
       "        vertical-align: middle;\n",
       "    }\n",
       "\n",
       "    .dataframe tbody tr th {\n",
       "        vertical-align: top;\n",
       "    }\n",
       "\n",
       "    .dataframe thead th {\n",
       "        text-align: right;\n",
       "    }\n",
       "</style>\n",
       "<table border=\"1\" class=\"dataframe\">\n",
       "  <thead>\n",
       "    <tr style=\"text-align: right;\">\n",
       "      <th></th>\n",
       "      <th>Survived</th>\n",
       "      <th>Pclass</th>\n",
       "      <th>Age</th>\n",
       "      <th>SibSp</th>\n",
       "      <th>Parch</th>\n",
       "      <th>Fare</th>\n",
       "      <th>sex__male</th>\n",
       "      <th>Embarked__Q</th>\n",
       "      <th>Embarked__S</th>\n",
       "    </tr>\n",
       "  </thead>\n",
       "  <tbody>\n",
       "    <tr>\n",
       "      <th>0</th>\n",
       "      <td>0</td>\n",
       "      <td>3</td>\n",
       "      <td>22.00000</td>\n",
       "      <td>1</td>\n",
       "      <td>0</td>\n",
       "      <td>7.2500</td>\n",
       "      <td>1</td>\n",
       "      <td>0</td>\n",
       "      <td>1</td>\n",
       "    </tr>\n",
       "    <tr>\n",
       "      <th>1</th>\n",
       "      <td>1</td>\n",
       "      <td>1</td>\n",
       "      <td>38.00000</td>\n",
       "      <td>1</td>\n",
       "      <td>0</td>\n",
       "      <td>71.2833</td>\n",
       "      <td>0</td>\n",
       "      <td>0</td>\n",
       "      <td>0</td>\n",
       "    </tr>\n",
       "    <tr>\n",
       "      <th>2</th>\n",
       "      <td>1</td>\n",
       "      <td>3</td>\n",
       "      <td>26.00000</td>\n",
       "      <td>0</td>\n",
       "      <td>0</td>\n",
       "      <td>7.9250</td>\n",
       "      <td>0</td>\n",
       "      <td>0</td>\n",
       "      <td>1</td>\n",
       "    </tr>\n",
       "    <tr>\n",
       "      <th>3</th>\n",
       "      <td>1</td>\n",
       "      <td>1</td>\n",
       "      <td>35.00000</td>\n",
       "      <td>1</td>\n",
       "      <td>0</td>\n",
       "      <td>53.1000</td>\n",
       "      <td>0</td>\n",
       "      <td>0</td>\n",
       "      <td>1</td>\n",
       "    </tr>\n",
       "    <tr>\n",
       "      <th>4</th>\n",
       "      <td>0</td>\n",
       "      <td>3</td>\n",
       "      <td>35.00000</td>\n",
       "      <td>0</td>\n",
       "      <td>0</td>\n",
       "      <td>8.0500</td>\n",
       "      <td>1</td>\n",
       "      <td>0</td>\n",
       "      <td>1</td>\n",
       "    </tr>\n",
       "    <tr>\n",
       "      <th>...</th>\n",
       "      <td>...</td>\n",
       "      <td>...</td>\n",
       "      <td>...</td>\n",
       "      <td>...</td>\n",
       "      <td>...</td>\n",
       "      <td>...</td>\n",
       "      <td>...</td>\n",
       "      <td>...</td>\n",
       "      <td>...</td>\n",
       "    </tr>\n",
       "    <tr>\n",
       "      <th>886</th>\n",
       "      <td>0</td>\n",
       "      <td>2</td>\n",
       "      <td>27.00000</td>\n",
       "      <td>0</td>\n",
       "      <td>0</td>\n",
       "      <td>13.0000</td>\n",
       "      <td>1</td>\n",
       "      <td>0</td>\n",
       "      <td>1</td>\n",
       "    </tr>\n",
       "    <tr>\n",
       "      <th>887</th>\n",
       "      <td>1</td>\n",
       "      <td>1</td>\n",
       "      <td>19.00000</td>\n",
       "      <td>0</td>\n",
       "      <td>0</td>\n",
       "      <td>30.0000</td>\n",
       "      <td>0</td>\n",
       "      <td>0</td>\n",
       "      <td>1</td>\n",
       "    </tr>\n",
       "    <tr>\n",
       "      <th>888</th>\n",
       "      <td>0</td>\n",
       "      <td>3</td>\n",
       "      <td>25.14062</td>\n",
       "      <td>1</td>\n",
       "      <td>2</td>\n",
       "      <td>23.4500</td>\n",
       "      <td>0</td>\n",
       "      <td>0</td>\n",
       "      <td>1</td>\n",
       "    </tr>\n",
       "    <tr>\n",
       "      <th>889</th>\n",
       "      <td>1</td>\n",
       "      <td>1</td>\n",
       "      <td>26.00000</td>\n",
       "      <td>0</td>\n",
       "      <td>0</td>\n",
       "      <td>30.0000</td>\n",
       "      <td>1</td>\n",
       "      <td>0</td>\n",
       "      <td>0</td>\n",
       "    </tr>\n",
       "    <tr>\n",
       "      <th>890</th>\n",
       "      <td>0</td>\n",
       "      <td>3</td>\n",
       "      <td>32.00000</td>\n",
       "      <td>0</td>\n",
       "      <td>0</td>\n",
       "      <td>7.7500</td>\n",
       "      <td>1</td>\n",
       "      <td>1</td>\n",
       "      <td>0</td>\n",
       "    </tr>\n",
       "  </tbody>\n",
       "</table>\n",
       "<p>889 rows × 9 columns</p>\n",
       "</div>"
      ],
      "text/plain": [
       "     Survived  Pclass       Age  SibSp  Parch     Fare  sex__male  \\\n",
       "0           0       3  22.00000      1      0   7.2500          1   \n",
       "1           1       1  38.00000      1      0  71.2833          0   \n",
       "2           1       3  26.00000      0      0   7.9250          0   \n",
       "3           1       1  35.00000      1      0  53.1000          0   \n",
       "4           0       3  35.00000      0      0   8.0500          1   \n",
       "..        ...     ...       ...    ...    ...      ...        ...   \n",
       "886         0       2  27.00000      0      0  13.0000          1   \n",
       "887         1       1  19.00000      0      0  30.0000          0   \n",
       "888         0       3  25.14062      1      2  23.4500          0   \n",
       "889         1       1  26.00000      0      0  30.0000          1   \n",
       "890         0       3  32.00000      0      0   7.7500          1   \n",
       "\n",
       "     Embarked__Q  Embarked__S  \n",
       "0              0            1  \n",
       "1              0            0  \n",
       "2              0            1  \n",
       "3              0            1  \n",
       "4              0            1  \n",
       "..           ...          ...  \n",
       "886            0            1  \n",
       "887            0            1  \n",
       "888            0            1  \n",
       "889            0            0  \n",
       "890            1            0  \n",
       "\n",
       "[889 rows x 9 columns]"
      ]
     },
     "execution_count": 12,
     "metadata": {},
     "output_type": "execute_result"
    }
   ],
   "source": [
    "# Check the data\n",
    "titanic_dmy"
   ]
  },
  {
   "cell_type": "markdown",
   "id": "d36ab6bf",
   "metadata": {},
   "source": [
    "Now, let's do a check for correlation -- this is a step where you can do the analysis with and without this elimination and observe the effects"
   ]
  },
  {
   "cell_type": "code",
   "execution_count": 13,
   "id": "29bcddbd",
   "metadata": {},
   "outputs": [
    {
     "data": {
      "text/plain": [
       "<AxesSubplot:>"
      ]
     },
     "execution_count": 13,
     "metadata": {},
     "output_type": "execute_result"
    },
    {
     "data": {
      "image/png": "[encoded data removed]",
      "text/plain": [
       "<Figure size 432x288 with 2 Axes>"
      ]
     },
     "metadata": {
      "needs_background": "light"
     },
     "output_type": "display_data"
    }
   ],
   "source": [
    "colorMap = sns.diverging_palette(145, 280, s=50, l=50, n=200)\n",
    "sns.heatmap(titanic_dmy.corr(), cmap = colorMap[::-1]) "
   ]
  },
  {
   "cell_type": "code",
   "execution_count": 14,
   "id": "63b9e01c",
   "metadata": {},
   "outputs": [],
   "source": [
    "# Fare and PClass are strongly correlated so we decide to drop one\n",
    "titanic_dmy.drop(['Pclass'],axis=1,inplace=True)"
   ]
  },
  {
   "cell_type": "markdown",
   "id": "56902073",
   "metadata": {},
   "source": [
    "Consider normalising Age and Fare so that the effects of scale is mimimized. You can try with and without this normalisation and observe the impacts on the model."
   ]
  },
  {
   "cell_type": "code",
   "execution_count": 15,
   "id": "b66f7395",
   "metadata": {},
   "outputs": [],
   "source": [
    "titanic_dmy['Age']=(titanic_dmy['Age']- titanic_dmy['Age'].min())/(titanic_dmy['Age'].max()-titanic_dmy['Age'].min())\n",
    "titanic_dmy['Fare']=(titanic_dmy['Fare']- titanic_dmy['Fare'].min())/(titanic_dmy['Fare'].max()-titanic_dmy['Fare'].min())"
   ]
  },
  {
   "cell_type": "code",
   "execution_count": 16,
   "id": "e85f76c8",
   "metadata": {},
   "outputs": [
    {
     "data": {
      "text/html": [
       "<div>\n",
       "<style scoped>\n",
       "    .dataframe tbody tr th:only-of-type {\n",
       "        vertical-align: middle;\n",
       "    }\n",
       "\n",
       "    .dataframe tbody tr th {\n",
       "        vertical-align: top;\n",
       "    }\n",
       "\n",
       "    .dataframe thead th {\n",
       "        text-align: right;\n",
       "    }\n",
       "</style>\n",
       "<table border=\"1\" class=\"dataframe\">\n",
       "  <thead>\n",
       "    <tr style=\"text-align: right;\">\n",
       "      <th></th>\n",
       "      <th>Age</th>\n",
       "      <th>SibSp</th>\n",
       "      <th>Parch</th>\n",
       "      <th>Fare</th>\n",
       "      <th>sex__male</th>\n",
       "      <th>Embarked__Q</th>\n",
       "      <th>Embarked__S</th>\n",
       "    </tr>\n",
       "  </thead>\n",
       "  <tbody>\n",
       "    <tr>\n",
       "      <th>0</th>\n",
       "      <td>0.271174</td>\n",
       "      <td>1</td>\n",
       "      <td>0</td>\n",
       "      <td>0.014151</td>\n",
       "      <td>1</td>\n",
       "      <td>0</td>\n",
       "      <td>1</td>\n",
       "    </tr>\n",
       "    <tr>\n",
       "      <th>1</th>\n",
       "      <td>0.472229</td>\n",
       "      <td>1</td>\n",
       "      <td>0</td>\n",
       "      <td>0.139136</td>\n",
       "      <td>0</td>\n",
       "      <td>0</td>\n",
       "      <td>0</td>\n",
       "    </tr>\n",
       "    <tr>\n",
       "      <th>2</th>\n",
       "      <td>0.321438</td>\n",
       "      <td>0</td>\n",
       "      <td>0</td>\n",
       "      <td>0.015469</td>\n",
       "      <td>0</td>\n",
       "      <td>0</td>\n",
       "      <td>1</td>\n",
       "    </tr>\n",
       "    <tr>\n",
       "      <th>3</th>\n",
       "      <td>0.434531</td>\n",
       "      <td>1</td>\n",
       "      <td>0</td>\n",
       "      <td>0.103644</td>\n",
       "      <td>0</td>\n",
       "      <td>0</td>\n",
       "      <td>1</td>\n",
       "    </tr>\n",
       "    <tr>\n",
       "      <th>4</th>\n",
       "      <td>0.434531</td>\n",
       "      <td>0</td>\n",
       "      <td>0</td>\n",
       "      <td>0.015713</td>\n",
       "      <td>1</td>\n",
       "      <td>0</td>\n",
       "      <td>1</td>\n",
       "    </tr>\n",
       "    <tr>\n",
       "      <th>...</th>\n",
       "      <td>...</td>\n",
       "      <td>...</td>\n",
       "      <td>...</td>\n",
       "      <td>...</td>\n",
       "      <td>...</td>\n",
       "      <td>...</td>\n",
       "      <td>...</td>\n",
       "    </tr>\n",
       "    <tr>\n",
       "      <th>886</th>\n",
       "      <td>0.334004</td>\n",
       "      <td>0</td>\n",
       "      <td>0</td>\n",
       "      <td>0.025374</td>\n",
       "      <td>1</td>\n",
       "      <td>0</td>\n",
       "      <td>1</td>\n",
       "    </tr>\n",
       "    <tr>\n",
       "      <th>887</th>\n",
       "      <td>0.233476</td>\n",
       "      <td>0</td>\n",
       "      <td>0</td>\n",
       "      <td>0.058556</td>\n",
       "      <td>0</td>\n",
       "      <td>0</td>\n",
       "      <td>1</td>\n",
       "    </tr>\n",
       "    <tr>\n",
       "      <th>888</th>\n",
       "      <td>0.310639</td>\n",
       "      <td>1</td>\n",
       "      <td>2</td>\n",
       "      <td>0.045771</td>\n",
       "      <td>0</td>\n",
       "      <td>0</td>\n",
       "      <td>1</td>\n",
       "    </tr>\n",
       "    <tr>\n",
       "      <th>889</th>\n",
       "      <td>0.321438</td>\n",
       "      <td>0</td>\n",
       "      <td>0</td>\n",
       "      <td>0.058556</td>\n",
       "      <td>1</td>\n",
       "      <td>0</td>\n",
       "      <td>0</td>\n",
       "    </tr>\n",
       "    <tr>\n",
       "      <th>890</th>\n",
       "      <td>0.396833</td>\n",
       "      <td>0</td>\n",
       "      <td>0</td>\n",
       "      <td>0.015127</td>\n",
       "      <td>1</td>\n",
       "      <td>1</td>\n",
       "      <td>0</td>\n",
       "    </tr>\n",
       "  </tbody>\n",
       "</table>\n",
       "<p>889 rows × 7 columns</p>\n",
       "</div>"
      ],
      "text/plain": [
       "          Age  SibSp  Parch      Fare  sex__male  Embarked__Q  Embarked__S\n",
       "0    0.271174      1      0  0.014151          1            0            1\n",
       "1    0.472229      1      0  0.139136          0            0            0\n",
       "2    0.321438      0      0  0.015469          0            0            1\n",
       "3    0.434531      1      0  0.103644          0            0            1\n",
       "4    0.434531      0      0  0.015713          1            0            1\n",
       "..        ...    ...    ...       ...        ...          ...          ...\n",
       "886  0.334004      0      0  0.025374          1            0            1\n",
       "887  0.233476      0      0  0.058556          0            0            1\n",
       "888  0.310639      1      2  0.045771          0            0            1\n",
       "889  0.321438      0      0  0.058556          1            0            0\n",
       "890  0.396833      0      0  0.015127          1            1            0\n",
       "\n",
       "[889 rows x 7 columns]"
      ]
     },
     "execution_count": 16,
     "metadata": {},
     "output_type": "execute_result"
    }
   ],
   "source": [
    "X = titanic_dmy.iloc[:,[1,2,3,4,5,6,7]]\n",
    "X"
   ]
  },
  {
   "cell_type": "code",
   "execution_count": 17,
   "id": "dc2e3976",
   "metadata": {},
   "outputs": [
    {
     "data": {
      "text/plain": [
       "0      0\n",
       "1      1\n",
       "2      1\n",
       "3      1\n",
       "4      0\n",
       "      ..\n",
       "886    0\n",
       "887    1\n",
       "888    0\n",
       "889    1\n",
       "890    0\n",
       "Name: Survived, Length: 889, dtype: int64"
      ]
     },
     "execution_count": 17,
     "metadata": {},
     "output_type": "execute_result"
    }
   ],
   "source": [
    "y = titanic_dmy.iloc[:,0]\n",
    "y"
   ]
  },
  {
   "cell_type": "code",
   "execution_count": 18,
   "id": "6973e2c9",
   "metadata": {},
   "outputs": [],
   "source": [
    "# Split to train and test data\n",
    "X_train, X_test, y_train, y_test = train_test_split(X, y, test_size = .3, random_state=25)"
   ]
  },
  {
   "cell_type": "code",
   "execution_count": 19,
   "id": "22dd2e38",
   "metadata": {},
   "outputs": [],
   "source": [
    "# Create logistic regression object and fit them\n",
    "LogReg = LogisticRegression(fit_intercept=0)\n",
    "LogReg.fit(X_train, y_train)\n",
    "y_pred = LogReg.predict(X_test)"
   ]
  },
  {
   "cell_type": "code",
   "execution_count": 20,
   "id": "f5a5ad21",
   "metadata": {},
   "outputs": [],
   "source": [
    "# Create confusion matrix on y_test and y_predicted\n",
    "confusion_matrix = confusion_matrix(y_test, y_pred)"
   ]
  },
  {
   "cell_type": "code",
   "execution_count": 22,
   "id": "0383a556",
   "metadata": {},
   "outputs": [
    {
     "name": "stdout",
     "output_type": "stream",
     "text": [
      "              precision    recall  f1-score   support\n",
      "\n",
      "           0       0.80      0.82      0.81       164\n",
      "           1       0.70      0.67      0.68       103\n",
      "\n",
      "    accuracy                           0.76       267\n",
      "   macro avg       0.75      0.74      0.75       267\n",
      "weighted avg       0.76      0.76      0.76       267\n",
      "\n"
     ]
    }
   ],
   "source": [
    "# View classification report\n",
    "print(classification_report(y_test, y_pred))"
   ]
  },
  {
   "cell_type": "code",
   "execution_count": 23,
   "id": "861459e6",
   "metadata": {},
   "outputs": [
    {
     "name": "stdout",
     "output_type": "stream",
     "text": [
      "[['Age' 0.9498577263668522]\n",
      " ['SibSp' -0.10146530352097602]\n",
      " ['Parch' 0.06086021051337718]\n",
      " ['Fare' 3.31288091977827]\n",
      " ['sex__male' -2.086053661254162]\n",
      " ['Embarked__Q' 0.011230383711128823]\n",
      " ['Embarked__S' 0.1486314589007917]]\n"
     ]
    }
   ],
   "source": [
    "## Let's observe the coefficients -- the best way is to append the names and the coefficients.\n",
    "## Coefficients tell us about the relation between the variables and the outcome.\n",
    "## Spot any strong indicators?\n",
    "coefficients = np.column_stack((np.asarray(titanic_dmy.iloc[:,[1,2,3,4,5,6,7]].columns), LogReg.coef_.flatten()))\n",
    "print(coefficients)"
   ]
  },
  {
   "cell_type": "code",
   "execution_count": 24,
   "id": "231e18b5",
   "metadata": {},
   "outputs": [
    {
     "name": "stdout",
     "output_type": "stream",
     "text": [
      "Optimization terminated successfully.\n",
      "         Current function value: 0.484561\n",
      "         Iterations 7\n"
     ]
    },
    {
     "data": {
      "text/html": [
       "<table class=\"simpletable\">\n",
       "<caption>Logit Regression Results</caption>\n",
       "<tr>\n",
       "  <th>Dep. Variable:</th>       <td>Survived</td>     <th>  No. Observations:  </th>  <td>   622</td>  \n",
       "</tr>\n",
       "<tr>\n",
       "  <th>Model:</th>                 <td>Logit</td>      <th>  Df Residuals:      </th>  <td>   615</td>  \n",
       "</tr>\n",
       "<tr>\n",
       "  <th>Method:</th>                 <td>MLE</td>       <th>  Df Model:          </th>  <td>     6</td>  \n",
       "</tr>\n",
       "<tr>\n",
       "  <th>Date:</th>            <td>Fri, 02 Dec 2022</td> <th>  Pseudo R-squ.:     </th>  <td>0.2709</td>  \n",
       "</tr>\n",
       "<tr>\n",
       "  <th>Time:</th>                <td>17:45:55</td>     <th>  Log-Likelihood:    </th> <td> -301.40</td> \n",
       "</tr>\n",
       "<tr>\n",
       "  <th>converged:</th>             <td>True</td>       <th>  LL-Null:           </th> <td> -413.36</td> \n",
       "</tr>\n",
       "<tr>\n",
       "  <th>Covariance Type:</th>     <td>nonrobust</td>    <th>  LLR p-value:       </th> <td>1.514e-45</td>\n",
       "</tr>\n",
       "</table>\n",
       "<table class=\"simpletable\">\n",
       "<tr>\n",
       "       <td></td>          <th>coef</th>     <th>std err</th>      <th>z</th>      <th>P>|z|</th>  <th>[0.025</th>    <th>0.975]</th>  \n",
       "</tr>\n",
       "<tr>\n",
       "  <th>Age</th>         <td>    0.3288</td> <td>    0.520</td> <td>    0.633</td> <td> 0.527</td> <td>   -0.690</td> <td>    1.347</td>\n",
       "</tr>\n",
       "<tr>\n",
       "  <th>SibSp</th>       <td>   -0.2081</td> <td>    0.110</td> <td>   -1.899</td> <td> 0.058</td> <td>   -0.423</td> <td>    0.007</td>\n",
       "</tr>\n",
       "<tr>\n",
       "  <th>Parch</th>       <td>   -0.0756</td> <td>    0.129</td> <td>   -0.586</td> <td> 0.558</td> <td>   -0.329</td> <td>    0.177</td>\n",
       "</tr>\n",
       "<tr>\n",
       "  <th>Fare</th>        <td>    9.8849</td> <td>    1.896</td> <td>    5.214</td> <td> 0.000</td> <td>    6.169</td> <td>   13.600</td>\n",
       "</tr>\n",
       "<tr>\n",
       "  <th>sex__male</th>   <td>   -2.2819</td> <td>    0.210</td> <td>  -10.861</td> <td> 0.000</td> <td>   -2.694</td> <td>   -1.870</td>\n",
       "</tr>\n",
       "<tr>\n",
       "  <th>Embarked__Q</th> <td>    0.1901</td> <td>    0.365</td> <td>    0.521</td> <td> 0.602</td> <td>   -0.525</td> <td>    0.905</td>\n",
       "</tr>\n",
       "<tr>\n",
       "  <th>Embarked__S</th> <td>    0.2892</td> <td>    0.225</td> <td>    1.287</td> <td> 0.198</td> <td>   -0.151</td> <td>    0.730</td>\n",
       "</tr>\n",
       "</table>"
      ],
      "text/plain": [
       "<class 'statsmodels.iolib.summary.Summary'>\n",
       "\"\"\"\n",
       "                           Logit Regression Results                           \n",
       "==============================================================================\n",
       "Dep. Variable:               Survived   No. Observations:                  622\n",
       "Model:                          Logit   Df Residuals:                      615\n",
       "Method:                           MLE   Df Model:                            6\n",
       "Date:                Fri, 02 Dec 2022   Pseudo R-squ.:                  0.2709\n",
       "Time:                        17:45:55   Log-Likelihood:                -301.40\n",
       "converged:                       True   LL-Null:                       -413.36\n",
       "Covariance Type:            nonrobust   LLR p-value:                 1.514e-45\n",
       "===============================================================================\n",
       "                  coef    std err          z      P>|z|      [0.025      0.975]\n",
       "-------------------------------------------------------------------------------\n",
       "Age             0.3288      0.520      0.633      0.527      -0.690       1.347\n",
       "SibSp          -0.2081      0.110     -1.899      0.058      -0.423       0.007\n",
       "Parch          -0.0756      0.129     -0.586      0.558      -0.329       0.177\n",
       "Fare            9.8849      1.896      5.214      0.000       6.169      13.600\n",
       "sex__male      -2.2819      0.210    -10.861      0.000      -2.694      -1.870\n",
       "Embarked__Q     0.1901      0.365      0.521      0.602      -0.525       0.905\n",
       "Embarked__S     0.2892      0.225      1.287      0.198      -0.151       0.730\n",
       "===============================================================================\n",
       "\"\"\""
      ]
     },
     "execution_count": 24,
     "metadata": {},
     "output_type": "execute_result"
    }
   ],
   "source": [
    "logit_sm = sm.Logit(y_train, X_train)\n",
    "\n",
    "# fit the model\n",
    "result = logit_sm.fit()\n",
    "\n",
    "# Let's use the very nice summary function of statsmodels\n",
    "# This is informing us about the model fit. \n",
    "# Pseudo R-squ. is a measure to look into and informing us on the overall fit, not really high in this case\n",
    "result.summary()"
   ]
  },
  {
   "cell_type": "markdown",
   "id": "5585ce4b",
   "metadata": {},
   "source": [
    "So those that paid high fares, females and younger people are more likely to survive."
   ]
  }
 ],
 "metadata": {
  "kernelspec": {
   "display_name": "Python 3 (ipykernel)",
   "language": "python",
   "name": "python3"
  },
  "language_info": {
   "codemirror_mode": {
    "name": "ipython",
    "version": 3
   },
   "file_extension": ".py",
   "mimetype": "text/x-python",
   "name": "python",
   "nbconvert_exporter": "python",
   "pygments_lexer": "ipython3",
   "version": "3.7.13"
  }
 },
 "nbformat": 4,
 "nbformat_minor": 5
}
